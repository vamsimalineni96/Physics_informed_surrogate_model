{
 "cells": [
  {
   "cell_type": "code",
   "execution_count": 1,
   "id": "06255376",
   "metadata": {},
   "outputs": [],
   "source": [
    "import tensorflow as tf\n",
    "import numpy as np\n",
    "import time\n",
    "import pandas as pd\n",
    "import math\n",
    "import pickle\n",
    "from pathlib import Path\n",
    "import matplotlib.pyplot as plt\n",
    "import wandb\n",
    "import os \n",
    "\n",
    "# set random seed\n",
    "np.random.seed(1234)\n",
    "tf.compat.v1.set_random_seed(1234)\n",
    "\n",
    "tf.compat.v1.disable_eager_execution()"
   ]
  },
  {
   "cell_type": "markdown",
   "id": "39a67f9b",
   "metadata": {},
   "source": [
    "# Initializing wandb functionality"
   ]
  },
  {
   "cell_type": "code",
   "execution_count": 2,
   "id": "7c8a2830",
   "metadata": {
    "scrolled": false
   },
   "outputs": [
    {
     "name": "stderr",
     "output_type": "stream",
     "text": [
      "'wandb' is not recognized as an internal or external command,\n",
      "operable program or batch file.\n",
      "\u001b[34m\u001b[1mwandb\u001b[0m: Currently logged in as: \u001b[33mvamsi_malineni6\u001b[0m. Use \u001b[1m`wandb login --relogin`\u001b[0m to force relogin\n"
     ]
    },
    {
     "data": {
      "text/html": [
       "wandb version 0.15.7 is available!  To upgrade, please run:\n",
       " $ pip install wandb --upgrade"
      ],
      "text/plain": [
       "<IPython.core.display.HTML object>"
      ]
     },
     "metadata": {},
     "output_type": "display_data"
    },
    {
     "data": {
      "text/html": [
       "Tracking run with wandb version 0.13.3"
      ],
      "text/plain": [
       "<IPython.core.display.HTML object>"
      ]
     },
     "metadata": {},
     "output_type": "display_data"
    },
    {
     "data": {
      "text/html": [
       "Run data is saved locally in <code>C:\\Users\\user1\\Downloads\\Vamsi_oe20s302\\Research work\\Final Cylinder notebooks\\Using_fixed_datasets\\Proposed Surrogate\\wandb\\run-20230801_132903-vautd61j</code>"
      ],
      "text/plain": [
       "<IPython.core.display.HTML object>"
      ]
     },
     "metadata": {},
     "output_type": "display_data"
    },
    {
     "data": {
      "text/html": [
       "Syncing run <strong><a href=\"https://wandb.ai/vamsi_malineni6/fds_surr_96_checking_normalization/runs/vautd61j\" target=\"_blank\">exalted-forest-4</a></strong> to <a href=\"https://wandb.ai/vamsi_malineni6/fds_surr_96_checking_normalization\" target=\"_blank\">Weights & Biases</a> (<a href=\"https://wandb.me/run\" target=\"_blank\">docs</a>)<br/>"
      ],
      "text/plain": [
       "<IPython.core.display.HTML object>"
      ]
     },
     "metadata": {},
     "output_type": "display_data"
    },
    {
     "data": {
      "text/html": [
       "Waiting for W&B process to finish... <strong style=\"color:green\">(success).</strong>"
      ],
      "text/plain": [
       "<IPython.core.display.HTML object>"
      ]
     },
     "metadata": {},
     "output_type": "display_data"
    },
    {
     "data": {
      "application/vnd.jupyter.widget-view+json": {
       "model_id": "",
       "version_major": 2,
       "version_minor": 0
      },
      "text/plain": [
       "VBox(children=(Label(value='0.000 MB of 0.001 MB uploaded (0.000 MB deduped)\\r'), FloatProgress(value=0.0, max…"
      ]
     },
     "metadata": {},
     "output_type": "display_data"
    },
    {
     "data": {
      "text/html": [
       "Synced <strong style=\"color:#cdcd00\">exalted-forest-4</strong>: <a href=\"https://wandb.ai/vamsi_malineni6/fds_surr_96_checking_normalization/runs/vautd61j\" target=\"_blank\">https://wandb.ai/vamsi_malineni6/fds_surr_96_checking_normalization/runs/vautd61j</a><br/>Synced 4 W&B file(s), 0 media file(s), 0 artifact file(s) and 0 other file(s)"
      ],
      "text/plain": [
       "<IPython.core.display.HTML object>"
      ]
     },
     "metadata": {},
     "output_type": "display_data"
    },
    {
     "data": {
      "text/html": [
       "Find logs at: <code>.\\wandb\\run-20230801_132903-vautd61j\\logs</code>"
      ],
      "text/plain": [
       "<IPython.core.display.HTML object>"
      ]
     },
     "metadata": {},
     "output_type": "display_data"
    }
   ],
   "source": [
    "!wandb login --relogin\n",
    "# Copy and paste this api key: 822244d22c29151b0b6501c81c4e22a5c5a0843f\n",
    "global entity_name\n",
    "global project_name\n",
    "\n",
    "entity_name=\"vamsi_malineni6\"\n",
    "project_name=\"fds_surr_96_checking_normalization\"\n",
    "\n",
    "wandb.init(entity=entity_name,project=project_name)\n",
    "# Finish the dummy run started after first initializing\n",
    "wandb.run.finish()\n",
    "\n",
    "# # Delete the dummy run from the wandb workspace \n",
    "# api=wandb.Api()\n",
    "# run_id=wandb.run.id\n",
    "# run=ap.run(str(entity_name)+\"/\"+str(project_name)+\"/\"+str(run_id))\n",
    "# run.delete()"
   ]
  },
  {
   "cell_type": "code",
   "execution_count": 3,
   "id": "19b29c23",
   "metadata": {},
   "outputs": [],
   "source": [
    "class bc_pinn_t0:\n",
    "    # Initialize the class\n",
    "    def __init__(self,domain,initial,boundary,domaindata,datalist,lowb,upb,\n",
    "                 ntrain,batch_size,layers,re,\n",
    "                 load_model=False,filedr='',freeze=0,timestep=0,\n",
    "                 savewandb='',saveloss='',gradname=''):\n",
    "        \n",
    "        self.domain   = domain\n",
    "        self.initial  = initial\n",
    "        self.boundary = boundary\n",
    "        self.datalist = datalist\n",
    "        self.domain_data = domaindata\n",
    "        \n",
    "        self.freeze   = freeze\n",
    "        self.time_step = timestep\n",
    "        \n",
    "        self.params_name = savewandb\n",
    "        self.loss_name   = saveloss\n",
    "        self.gradient_name= gradname\n",
    "        \n",
    "        self.ntrain = ntrain\n",
    "        self.batch_size= batch_size\n",
    "        \n",
    "        # Calling domain data for initializing the neural network before entering the Adam optimization\n",
    "        self.xa=self.domain[:,0].reshape(self.domain[:,0].shape[0],1)\n",
    "        self.ya=self.domain[:,1].reshape(self.domain[:,1].shape[0],1)\n",
    "        self.ta=self.domain[:,2].reshape(self.domain[:,2].shape[0],1)\n",
    "        self.ua=self.domain_data[:,3].reshape(self.domain_data[:,3].shape[0],1)\n",
    "        self.va=self.domain_data[:,4].reshape(self.domain_data[:,4].shape[0],1)\n",
    "        \n",
    "        \n",
    "        self.lowb = lowb\n",
    "        self.upb = upb\n",
    "        \n",
    "        # Calling boundary and initial conditions data as they dont change through the adam iterations\n",
    "                \n",
    "        self.x0=self.initial[:,0].reshape(self.initial[:, 0].shape[0], 1)\n",
    "        self.y0=self.initial[:,1].reshape(self.initial[:, 1].shape[0], 1)\n",
    "        self.t0=self.initial[:,2].reshape(self.initial[:, 2].shape[0], 1)\n",
    "        self.u0=self.initial[:,3].reshape(self.initial[:, 3].shape[0], 1)\n",
    "        self.v0=self.initial[:,4].reshape(self.initial[:, 4].shape[0], 1)\n",
    "        \n",
    "        self.xb=self.boundary[:,0].reshape(self.boundary[:, 0].shape[0], 1)\n",
    "        self.yb=self.boundary[:,1].reshape(self.boundary[:, 1].shape[0], 1)\n",
    "        self.tb=self.boundary[:,2].reshape(self.boundary[:, 2].shape[0], 1)\n",
    "        self.ub=self.boundary[:,3].reshape(self.boundary[:, 3].shape[0], 1)\n",
    "        self.vb=self.boundary[:,4].reshape(self.boundary[:, 4].shape[0], 1)\n",
    "        \n",
    "  \n",
    "        self.layers = layers\n",
    "        self.re = re\n",
    "\n",
    "        # Initialize NN\n",
    "        if load_model ==False:\n",
    "            self.weights, self.biases = self.initialize_NN(self.layers)\n",
    "        else:\n",
    "            self.weights,self.biases = self.load_parameters(filedr,self.layers)\n",
    "            \n",
    "        \n",
    "\n",
    "        # tf placeholders and graph\n",
    "        \n",
    "        self.sess = tf.compat.v1.Session(config=tf.compat.v1.ConfigProto(allow_soft_placement=True,\n",
    "                                                     log_device_placement=True))\n",
    "        \n",
    "        self.learning_rate = tf.compat.v1.placeholder(tf.float32, shape=[])\n",
    "        \n",
    "        # Initial conditions placeholders\n",
    "        self.x_ini_tf = tf.compat.v1.placeholder(tf.float32, shape=[None, self.x0.shape[1]])\n",
    "        self.y_ini_tf = tf.compat.v1.placeholder(tf.float32, shape=[None, self.y0.shape[1]])\n",
    "        self.t_ini_tf = tf.compat.v1.placeholder(tf.float32, shape=[None, self.t0.shape[1]])\n",
    "        self.u_ini_tf = tf.compat.v1.placeholder(tf.float32, shape=[None, self.u0.shape[1]])\n",
    "        self.v_ini_tf = tf.compat.v1.placeholder(tf.float32, shape=[None, self.v0.shape[1]])\n",
    "        \n",
    "        # Boundary conditions placeholders\n",
    "        self.x_boundary_tf = tf.compat.v1.placeholder(tf.float32, shape=[None, self.xb.shape[1]])\n",
    "        self.y_boundary_tf = tf.compat.v1.placeholder(tf.float32, shape=[None, self.yb.shape[1]])\n",
    "        self.t_boundary_tf = tf.compat.v1.placeholder(tf.float32, shape=[None, self.tb.shape[1]])\n",
    "        self.u_boundary_tf = tf.compat.v1.placeholder(tf.float32, shape=[None, self.ub.shape[1]])\n",
    "        self.v_boundary_tf = tf.compat.v1.placeholder(tf.float32, shape=[None, self.vb.shape[1]])\n",
    "        \n",
    "        # Domain placeholders having the size of batch_size\n",
    "        self.x_tf = tf.compat.v1.placeholder(tf.float32, shape=[None, self.xa.shape[1]])\n",
    "        self.y_tf = tf.compat.v1.placeholder(tf.float32, shape=[None, self.ya.shape[1]])\n",
    "        self.t_tf = tf.compat.v1.placeholder(tf.float32, shape=[None, self.ta.shape[1]])\n",
    "        \n",
    "        # Domain data placeholders \n",
    "        self.xdata_tf = tf.compat.v1.placeholder(tf.float32, shape=[None, self.xa.shape[1]])\n",
    "        self.ydata_tf = tf.compat.v1.placeholder(tf.float32, shape=[None, self.ya.shape[1]])\n",
    "        self.tdata_tf = tf.compat.v1.placeholder(tf.float32, shape=[None, self.ta.shape[1]])\n",
    "        \n",
    "        self.udata_tf = tf.compat.v1.placeholder(tf.float32, shape=[None, self.ua.shape[1]])\n",
    "        self.vdata_tf = tf.compat.v1.placeholder(tf.float32, shape=[None, self.va.shape[1]])\n",
    "        \n",
    "        # Initial conditions predictions\n",
    "        self.u_ini_pred, self.v_ini_pred, self.p_ini_pred =\\\n",
    "            self.net_NS(self.x_ini_tf, self.y_ini_tf, self.t_ini_tf)\n",
    "        \n",
    "        # Boundary conditions predictions\n",
    "        self.u_boundary_pred, self.v_boundary_pred, self.p_boundary_pred = \\\n",
    "            self.net_NS(self.x_boundary_tf, self.y_boundary_tf, self.t_boundary_tf)\n",
    "        \n",
    "        # Domain data predictions\n",
    "        self.u_dom_pred,self.v_dom_pred,_=\\\n",
    "            self.net_NS(self.xdata_tf,self.ydata_tf,self.tdata_tf)\n",
    "        \n",
    "        # Domain predictions\n",
    "        self.u_pred, self.v_pred, self.p_pred, self.f_u_pred, self.f_v_pred, self.f_e_pred = \\\n",
    "            self.net_f_NS(self.x_tf, self.y_tf, self.t_tf)\n",
    "\n",
    "        # Adaptive reweighting constants\n",
    "        self.alpha, self.beta, self.gamma = 0.9,0.9,0.9\n",
    "        \n",
    "        self.adaptive_constant_ics_val= np.array(1.0)\n",
    "        self.adaptive_constant_bcs_val= np.array(1.0)\n",
    "        self.adaptive_constant_dds_val= np.array(1.0)\n",
    "        \n",
    "        self.adaptive_constant_ics_tf =tf.compat.v1.placeholder(tf.float32, shape=self.adaptive_constant_ics_val.shape)\n",
    "        self.adaptive_constant_bcs_tf =tf.compat.v1.placeholder(tf.float32, shape=self.adaptive_constant_bcs_val.shape)\n",
    "        self.adaptive_constant_dds_tf =tf.compat.v1.placeholder(tf.float32, shape=self.adaptive_constant_dds_val.shape)\n",
    "\n",
    "        # set loss function\n",
    "        self.initial_loss  = self.adaptive_constant_ics_tf * tf.reduce_mean(input_tensor=tf.square(self.u_ini_tf - self.u_ini_pred)) + \\\n",
    "                             self.adaptive_constant_ics_tf * tf.reduce_mean(input_tensor=tf.square(self.v_ini_tf - self.v_ini_pred))\n",
    "        \n",
    "        self.boundary_loss = self.adaptive_constant_bcs_tf * tf.reduce_mean(input_tensor=tf.square(self.u_boundary_tf - self.u_boundary_pred)) + \\\n",
    "                             self.adaptive_constant_bcs_tf * tf.reduce_mean(input_tensor=tf.square(self.v_boundary_tf - self.v_boundary_pred))\n",
    "\n",
    "        self.domdata_loss  = self.adaptive_constant_dds_tf * tf.reduce_mean(input_tensor=tf.square(self.udata_tf - self.u_dom_pred)) + \\\n",
    "                             self.adaptive_constant_dds_tf * tf.reduce_mean(input_tensor=tf.square(self.vdata_tf - self.v_dom_pred))\n",
    "\n",
    "        self.residual_loss = tf.reduce_mean(input_tensor=tf.square(self.f_u_pred)) + \\\n",
    "                             tf.reduce_mean(input_tensor=tf.square(self.f_v_pred)) + \\\n",
    "                             tf.reduce_mean(input_tensor=tf.square(self.f_e_pred))\n",
    "\n",
    "        \n",
    "        \n",
    "        self.loss =  self.initial_loss + self.boundary_loss + self.residual_loss + self.domdata_loss\n",
    "        \n",
    "        self.loss_i=[]\n",
    "        self.loss_b=[]\n",
    "        self.loss_r=[]\n",
    "        self.loss_d=[]\n",
    "\n",
    "        self.optimizer_Adam = tf.compat.v1.train.AdamOptimizer(self.learning_rate)\n",
    "        self.train_op_Adam = self.optimizer_Adam.minimize(self.loss)\n",
    "\n",
    "        init = tf.compat.v1.global_variables_initializer()\n",
    "        self.sess.run(init)\n",
    "#===========================================================================================================#\n",
    "#=================================Saving gradients==========================================================#\n",
    "#===========================================================================================================#\n",
    "        # saving gradients of residual, boundary conditions, initial conditions, domain data\n",
    "        self.dict_gradients_res_layers = self.generate_grad_dict(self.layers)\n",
    "        self.dict_gradients_bcs_layers = self.generate_grad_dict(self.layers)\n",
    "        self.dict_gradients_ics_layers = self.generate_grad_dict(self.layers)\n",
    "        self.dict_gradients_dds_layers = self.generate_grad_dict(self.layers)\n",
    "\n",
    "        # storing gradients \n",
    "        self.grad_res = []\n",
    "        self.grad_bcs = []\n",
    "        self.grad_ics = []\n",
    "        self.grad_dds = []\n",
    "\n",
    "        for i in range(len(self.layers)-1):\n",
    "            self.grad_res.append(tf.gradients(ys=self.residual_loss, xs=self.weights[i])[0])\n",
    "            self.grad_bcs.append(tf.gradients(ys=self.boundary_loss, xs=self.weights[i])[0])\n",
    "            self.grad_ics.append(tf.gradients(ys=self.initial_loss,  xs=self.weights[i])[0])\n",
    "            self.grad_dds.append(tf.gradients(ys=self.domdata_loss,  xs=self.weights[i])[0])\n",
    "        \n",
    "        # Calculating weights\n",
    "        self.adaptive_constant_bcs_list=[]\n",
    "        self.adaptive_constant_ics_list=[]\n",
    "        self.adaptive_constant_dds_list=[]\n",
    "        \n",
    "        for i in range(len(self.layers)-1):\n",
    "            self.adaptive_constant_bcs_list.append(\n",
    "                tf.reduce_max(tf.abs(self.grad_res[i]))/ tf.reduce_mean(tf.abs(self.grad_bcs[i])))\n",
    "            self.adaptive_constant_ics_list.append(\n",
    "                tf.reduce_max(tf.abs(self.grad_res[i]))/ tf.reduce_mean(tf.abs(self.grad_ics[i])))\n",
    "            self.adaptive_constant_dds_list.append(\n",
    "                tf.reduce_max(tf.abs(self.grad_res[i]))/ tf.reduce_mean(tf.abs(self.grad_dds[i])))\n",
    "\n",
    "        self.adaptive_constant_bcs = tf.reduce_max(tf.stack(self.adaptive_constant_bcs_list))\n",
    "        self.adaptive_constant_ics = tf.reduce_max(tf.stack(self.adaptive_constant_ics_list))\n",
    "        self.adaptive_constant_dds = tf.reduce_max(tf.stack(self.adaptive_constant_dds_list))\n",
    "            \n",
    "    def generate_grad_dict(self,layers):\n",
    "        num = len(layers)-1\n",
    "        grad_dict={}\n",
    "        for i in range(num):\n",
    "            grad_dict['layer_{}'.format(i+1)]=[]\n",
    "        return grad_dict\n",
    "    \n",
    "    def save_gradients(self,tf_dict):\n",
    "        num_layers=len(self.layers)\n",
    "        for i in range(num_layers-1):\n",
    "            grad_res_value,grad_bcs_value,grad_ics_value,grad_dds_value = self.sess.run([self.grad_res[i],self.grad_bcs[i],self.grad_ics[i],self.grad_dds[i]],feed_dict=tf_dict)\n",
    "            \n",
    "            self.dict_gradients_res_layers['layer_'+str(i+1)].append(grad_res_value.flatten())\n",
    "            self.dict_gradients_bcs_layers['layer_'+str(i+1)].append(grad_bcs_value.flatten())\n",
    "            self.dict_gradients_ics_layers['layer_'+str(i+1)].append(grad_ics_value.flatten())\n",
    "            self.dict_gradients_dds_layers['layer_'+str(i+1)].append(grad_dds_value.flatten())\n",
    "        return None\n",
    "    \n",
    "    def save_gradients_infile(self,fileDr):    \n",
    "        res=self.dict_gradients_res_layers\n",
    "        bcs=self.dict_gradients_bcs_layers\n",
    "        ics=self.dict_gradients_ics_layers\n",
    "        dds=self.dict_gradients_dds_layers\n",
    "\n",
    "        with open(fileDr,'wb') as f:\n",
    "            pickle.dump([res,bcs,ics,dds],f)\n",
    "            print(\"Gradients are saved in pickle file\")\n",
    "    \n",
    "    def save_weights(self,fileDr):\n",
    "        with open(fileDr, 'wb') as f:\n",
    "            b=self.adaptive_constant_bcs_val\n",
    "            i=self.adaptive_constant_ics_val\n",
    "            d=self.adaptive_constant_dds_val\n",
    "            pickle.dump([b,i,d],f)\n",
    "            print(\"Adaptive weights are saved in pickle file\")\n",
    "\n",
    "\n",
    "#===========================================================================================================#\n",
    "#====================================Transfer Learning======================================================#\n",
    "#===========================================================================================================#\n",
    "    def save_parameters(self,fileDr):\n",
    "        weights=self.sess.run(self.weights)\n",
    "        biases= self.sess.run(self.biases)\n",
    "        \n",
    "        with open(fileDr,'wb') as f:\n",
    "            pickle.dump([weights,biases],f)\n",
    "            print(\"Parameters are saved in pickle file\")\n",
    "\n",
    "    def load_parameters(self,fileDr,layers):\n",
    "        tf_weights=[]\n",
    "        tf_biases=[]\n",
    "        num_layers=len(layers)\n",
    "        \n",
    "        # returns the weights and biases of the network as np array\n",
    "        with open(fileDr,'rb') as f:\n",
    "            weights,biases=pickle.load(f)\n",
    "            assert num_layers == (len(weights)+1)\n",
    "        \n",
    "        # returns the weights and biases of the network as tf.variable\n",
    "        for num in range(0,num_layers-1):\n",
    "            tf_weights.append ( tf.Variable (weights[num],trainable ='True' ))\n",
    "            tf_biases.append  ( tf.Variable (biases[num],trainable ='True' ))\n",
    "        \n",
    "        print(\"Parameters are loaded succesffuly\")\n",
    "        \n",
    "        return tf_weights,tf_biases\n",
    "    \n",
    "#===========================================================================================================#\n",
    "#========================================saving loss values=================================================#\n",
    "#===========================================================================================================#\n",
    "    def save_loss(self,fileDr,tf_dict):\n",
    "        self.loss_i.append(self.sess.run(self.initial_loss,tf_dict))\n",
    "        self.loss_b.append(self.sess.run(self.boundary_loss,tf_dict))\n",
    "        self.loss_r.append(self.sess.run(self.residual_loss,tf_dict))\n",
    "        self.loss_d.append(self.sess.run(self.domdata_loss,tf_dict))\n",
    "                       \n",
    "        root_path=Path(r\"E:\\Vamsi_oe20s302\\Vamsi\\seq2seq learning\\Re100_mts_params\\novel_method\\exp20\")\n",
    "        my_path=root_path/fileDr\n",
    "        \n",
    "        with open(my_path,'wb') as f:\n",
    "            pickle.dump([self.loss_i,self.loss_b,self.loss_r,self.loss_d],f)\n",
    "            print(\"Loss are saved in pickle file\")\n",
    "    \n",
    "    def load_loss(self,fileDr):\n",
    "        \n",
    "        root_path=Path(r\"E:\\Vamsi_oe20s302\\Vamsi\\seq2seq learning\\Re100_mts_params\\novel_method\\exp20\")\n",
    "        my_path=root_path/fileDr\n",
    "        \n",
    "        # returns the weights and biases of the network as np array\n",
    "        with open(my_path,'rb') as f:\n",
    "            initial,boundary,residual,datadomain=pickle.load(f)\n",
    "        \n",
    "        print(\"Losses are loaded successfully\")\n",
    "        \n",
    "        return initial,boundary,residual,datadomain\n",
    "    \n",
    "\n",
    "    \n",
    "#===========================================================================================================#\n",
    "#===========================================================================================================#\n",
    "#===========================================================================================================#\n",
    " \n",
    "\n",
    "# initialize the weight and bias\n",
    "    def initialize_NN(self, layers):\n",
    "        weights = []\n",
    "        biases = []\n",
    "        num_layers = len(layers)\n",
    "        for l in range(0, num_layers - 1):\n",
    "            W = self.xavier_init(size=[layers[l], layers[l + 1]])\n",
    "            b = tf.Variable(tf.zeros([1, layers[l + 1]], dtype=tf.float32), dtype=tf.float32)\n",
    "            weights.append(W)\n",
    "            biases.append(b)\n",
    "        return weights, biases\n",
    "\n",
    "# xavier used to initialize the weight\n",
    "    def xavier_init(self, size):\n",
    "        in_dim = size[0]\n",
    "        out_dim = size[1]\n",
    "        xavier_stddev = np.sqrt(2 / (in_dim + out_dim))\n",
    "        return tf.Variable(tf.random.truncated_normal([in_dim, out_dim], stddev=xavier_stddev), dtype=tf.float32)\n",
    "\n",
    "# generate the neural network\n",
    "    def neural_net(self, X, weights, biases):\n",
    "        num_layers = len(weights) + 1\n",
    "\n",
    "        H = 2.0 * (X - self.lowb) / (self.upb - self.lowb) - 1.0\n",
    "        for l in range(0, num_layers - 2):\n",
    "            W = weights[l]\n",
    "            b = biases[l]\n",
    "#             H = tf.tanh(tf.add(tf.matmul(H, W), b))\n",
    "            H = tf.keras.activations.swish(tf.add(tf.matmul(H, W), b))\n",
    "        W = weights[-1]\n",
    "        b = biases[-1]\n",
    "        Y = tf.add(tf.matmul(H, W), b)\n",
    "        return Y\n",
    "\n",
    "# ###################without assume###############\n",
    "    # supervised data driven\n",
    "    def net_NS(self, x, y, t):\n",
    "\n",
    "        u_v_p = self.neural_net(tf.concat([x, y, t], 1), self.weights, self.biases)\n",
    "        u = u_v_p[:, 0:1]\n",
    "        v = u_v_p[:, 1:2]\n",
    "        p = u_v_p[:, 2:3]\n",
    "\n",
    "        return u, v, p\n",
    "\n",
    "    # unsupervised NS residual\n",
    "    def net_f_NS(self, x, y, t):\n",
    "\n",
    "        u_v_p = self.neural_net(tf.concat([x, y, t], 1), self.weights, self.biases)\n",
    "        u = u_v_p[:, 0:1]\n",
    "        v = u_v_p[:, 1:2]\n",
    "        p = u_v_p[:, 2:3]\n",
    "\n",
    "        u_t = tf.gradients(ys=u, xs=t)[0] \n",
    "        u_x = tf.gradients(ys=u, xs=x)[0] \n",
    "        u_y = tf.gradients(ys=u, xs=y)[0] \n",
    "        u_xx = tf.gradients(ys=u_x, xs=x)[0] \n",
    "        u_yy = tf.gradients(ys=u_y, xs=y)[0] \n",
    "        \n",
    "        v_t = tf.gradients(ys=v, xs=t)[0] \n",
    "        v_x = tf.gradients(ys=v, xs=x)[0] \n",
    "        v_y = tf.gradients(ys=v, xs=y)[0] \n",
    "        v_xx = tf.gradients(ys=v_x, xs=x)[0] \n",
    "        v_yy = tf.gradients(ys=v_y, xs=y)[0] \n",
    "\n",
    "        p_x = tf.gradients(ys=p, xs=x)[0] \n",
    "        p_y = tf.gradients(ys=p, xs=y)[0] \n",
    "\n",
    "        f_u = u_t + (u * u_x + v * u_y) + p_x - (1/(10*self.re)) * (u_xx + u_yy)\n",
    "        f_v = v_t + (u * v_x + v * v_y) + p_y - (1/(10*self.re)) * (v_xx + v_yy)\n",
    "        f_e = u_x + v_y\n",
    "\n",
    "        return u, v, p, f_u, f_v, f_e\n",
    "\n",
    "#===========================================================================================================#\n",
    "#===========================Predicting and finding error every 10 epochs====================================#\n",
    "#===========================================================================================================#\n",
    "   \n",
    "    \n",
    "    def predict(self, x_star, y_star, t_star):\n",
    "\n",
    "        tf_dict = {self.x_tf: x_star, self.y_tf: y_star, self.t_tf: t_star}\n",
    "\n",
    "        u_star = self.sess.run(self.u_pred, tf_dict)\n",
    "        v_star = self.sess.run(self.v_pred, tf_dict)\n",
    "        p_star = self.sess.run(self.p_pred, tf_dict)\n",
    "\n",
    "        return u_star, v_star, p_star\n",
    "    \n",
    "    def load_testdata(self,time_step):\n",
    "        \n",
    "        # Converting the time_step from decimal to integer 0.1 --> 1\n",
    "        ts=int(10*time_step)\n",
    "\n",
    "        # Loading the complete list of data \n",
    "        data_list=self.datalist\n",
    "\n",
    "        # Extracting the data for the given range of time steps [0,0.1] and so on\n",
    "        dt=0.1\n",
    "        times=[round(i,3) for i in np.arange(0,7+dt,dt)]\n",
    "\n",
    "        # Finding the indexes of initial and final timestep from the times list\n",
    "        t1=times.index(round((time_step-1.0),2))\n",
    "        t2=times.index(time_step)\n",
    "\n",
    "        temp=[]\n",
    "        # Excluding INITIAL DATA from the collocation points, to make sure that the model is not overfitting on\n",
    "        # initial points, as there is u,v data available for the model. \n",
    "\n",
    "        for i in range(t1,t2+1):\n",
    "            if i<t2+1:\n",
    "                temp.append(data_list[i])\n",
    "\n",
    "        # data stores the final timestep data for the given time segment\n",
    "\n",
    "        data=np.concatenate(temp[4:],axis=0)\n",
    "\n",
    "        x_star=data[:,0].reshape(data[:,0].shape[0],1)\n",
    "        y_star=data[:,1].reshape(data[:,1].shape[0],1)\n",
    "        t_star=data[:,2].reshape(data[:,2].shape[0],1)\n",
    "\n",
    "        X_star=[x_star,y_star,t_star]\n",
    "\n",
    "        u_star=data[:,3].reshape(data[:,3].shape[0],1)\n",
    "        v_star=data[:,4].reshape(data[:,4].shape[0],1)\n",
    "        p_star=data[:,5].reshape(data[:,5].shape[0],1)\n",
    "\n",
    "        Y_star=[u_star,v_star,p_star]\n",
    "\n",
    "        return X_star,Y_star\n",
    "    \n",
    "    def find_error(self,test_time_step):\n",
    "        \n",
    "        X_star,Y_star=self.load_testdata(test_time_step)\n",
    "        u_pred,_,_ = self.predict(X_star[0],X_star[1],X_star[2])\n",
    "        \n",
    "        error_u = np.linalg.norm(Y_star[0] - u_pred, 2) / np.linalg.norm(Y_star[0], 2)\n",
    "        \n",
    "\n",
    "        return error_u\n",
    "        \n",
    "#===========================================================================================================#\n",
    "#===========================ADAM TRAINING FUNCTION==========================================================#\n",
    "#===========================================================================================================#\n",
    "   \n",
    "#IMPORTANT NOTES for a given TIME SEGMENT consisting of (5*10000=50000) points in the grid.\n",
    "\n",
    "# (1) Randomly sampling 1000 datapoints every iteration from 38416 collocation points\n",
    "#     effectively per epoch the model would see 25000 collocation points, which is 65% of sampled colloc points\n",
    "\n",
    "# (2) Randomly sampling 250 datapoints every iteration from 19208 data points,\n",
    "#     effectively per epoch the model would see 6250 data points. which is 32% of the sampled data points\n",
    " \n",
    "# (3) The model would see 10000 initial conditions data points per iteration per epoch\n",
    "#\n",
    "# (4) The model would see 1584 boundary conditions points per iteration per epoch\n",
    "\n",
    "\n",
    "    def Adam_train(self, epoch=5000, learning_rate=1e-3):\n",
    "    \n",
    "        start_time = time.time()\n",
    "        \n",
    "        iters = int(self.ntrain / self.batch_size)\n",
    "        \n",
    "        self.adaptive_constant_bcs_log=[]\n",
    "        self.adaptive_constant_ics_log=[]\n",
    "        self.adaptive_constant_dds_log=[]\n",
    "        \n",
    "        \n",
    "        for it in range(epoch):\n",
    "            \n",
    "            for i in (range(iters)):\n",
    "            \n",
    "                idx=  np.random.choice(self.domain.shape[0],self.batch_size,replace=False)\n",
    "#                 didx= np.random.choice(self.domain_data.shape[0],250,replace=False)\n",
    "                \n",
    "                self.data_domain=self.domain[idx,:]\n",
    "                self.data_driven=self.domain_data\n",
    "                \n",
    "                xd=self.data_domain[:,0].reshape(self.data_domain[:, 0].shape[0], 1)\n",
    "                yd=self.data_domain[:,1].reshape(self.data_domain[:, 1].shape[0], 1)\n",
    "                td=self.data_domain[:,2].reshape(self.data_domain[:, 2].shape[0], 1)\n",
    "\n",
    "                xdata=self.data_driven[:,0].reshape(self.data_driven[:, 0].shape[0], 1)\n",
    "                ydata=self.data_driven[:,1].reshape(self.data_driven[:, 1].shape[0], 1)\n",
    "                tdata=self.data_driven[:,2].reshape(self.data_driven[:, 2].shape[0], 1)\n",
    "                udata=self.data_driven[:,3].reshape(self.data_driven[:, 3].shape[0], 1)\n",
    "                vdata=self.data_driven[:,4].reshape(self.data_driven[:, 4].shape[0], 1)\n",
    "                    \n",
    "                Xd = np.concatenate([xd,yd,td], 1)\n",
    "                \n",
    "                # In contrast the model would see 10000 initial data points every iteration and every epoch\n",
    "                # The model would see 1584 boundary conditions points every iteration and every epoch\n",
    "                \n",
    "                self.tf_dict = {self.x_ini_tf: self.x0, \n",
    "                           self.y_ini_tf: self.y0,\n",
    "                           self.t_ini_tf: self.t0, \n",
    "                           self.u_ini_tf: self.u0,\n",
    "                           self.v_ini_tf: self.v0, \n",
    "                           \n",
    "                           self.x_boundary_tf: self.xb,\n",
    "                           self.y_boundary_tf: self.yb, \n",
    "                           self.t_boundary_tf: self.tb,\n",
    "                           self.u_boundary_tf: self.ub, \n",
    "                           self.v_boundary_tf: self.vb,\n",
    "                           \n",
    "                           self.x_tf: xd, \n",
    "                           self.y_tf: yd, \n",
    "                           self.t_tf: td,\n",
    "                           \n",
    "                           self.xdata_tf: xdata, \n",
    "                           self.ydata_tf: ydata, \n",
    "                           self.tdata_tf: tdata,\n",
    "                           self.udata_tf: udata,\n",
    "                           self.vdata_tf: vdata,\n",
    "                           \n",
    "                           self.adaptive_constant_bcs_tf: self.adaptive_constant_bcs_val,\n",
    "                           self.adaptive_constant_ics_tf: self.adaptive_constant_ics_val,\n",
    "                           self.adaptive_constant_dds_tf: self.adaptive_constant_dds_val,\n",
    "                           \n",
    "                           self.learning_rate: learning_rate}\n",
    "\n",
    "                self.sess.run(self.train_op_Adam, self.tf_dict)\n",
    "            \n",
    "            if it % 10 == 0:\n",
    "                \n",
    "                elapsed = time.time() - start_time\n",
    "                \n",
    "                t_loss= self.sess.run(self.loss, self.tf_dict)\n",
    "                i_loss= self.sess.run(self.initial_loss,self.tf_dict)\n",
    "                b_loss= self.sess.run(self.boundary_loss,self.tf_dict)\n",
    "                r_loss= self.sess.run(self.residual_loss,self.tf_dict)\n",
    "                d_loss= self.sess.run(self.domdata_loss,self.tf_dict)\n",
    "                \n",
    "                adaptive_constant_bcs_val=self.sess.run(self.adaptive_constant_bcs,self.tf_dict)\n",
    "                adaptive_constant_ics_val=self.sess.run(self.adaptive_constant_ics,self.tf_dict)\n",
    "                adaptive_constant_dds_val=self.sess.run(self.adaptive_constant_dds,self.tf_dict)\n",
    "                \n",
    "                self.adaptive_constant_bcs_val = adaptive_constant_bcs_val*(1.0-self.beta)+self.beta*self.adaptive_constant_bcs_val\n",
    "                self.adaptive_constant_ics_val = adaptive_constant_ics_val*(1.0-self.alpha)+self.alpha*self.adaptive_constant_ics_val\n",
    "                self.adaptive_constant_dds_val = adaptive_constant_dds_val*(1.0-self.gamma)+self.gamma*self.adaptive_constant_dds_val\n",
    "                \n",
    "#                 self.adaptive_constant_bcs_log.append(self.adaptive_constant_bcs_val)\n",
    "#                 self.adaptive_constant_ics_log.append(self.adaptive_constant_ics_val)\n",
    "#                 self.adaptive_constant_dds_log.append(self.adaptive_constant_dds_val)\n",
    "                \n",
    "                # Finding the error value at given timestep for every 10 epochs\n",
    "                eu1= self.find_error(1)\n",
    "                \n",
    "                \n",
    "                # Logging the loss values and error values to wandb workspace:\n",
    "                log_dict={\"Total_loss\":t_loss,\"Initial_loss\":i_loss,\\\n",
    "                         \"Boundary_loss\":b_loss,\"Residual_loss\":r_loss,\\\n",
    "                         \"Data_loss\":d_loss,\\\n",
    "                         \"time step 1\":eu1,\\\n",
    "                         \"BCS adaptive constant\":self.adaptive_constant_bcs_val,\\\n",
    "                         \"ICS adaptive constant\":self.adaptive_constant_ics_val,\\\n",
    "                         \"DDS adaptive constant\":self.adaptive_constant_dds_val\n",
    "                         }\n",
    "                         \n",
    "                \n",
    "                wandb.log(log_dict)\n",
    "                \n",
    "                print('epochs: %d, Loss: %.3e, Time: %.2f' %\n",
    "                      (it, t_loss, elapsed))\n",
    "                \n",
    "                start_time = time.time()\n",
    "            \n",
    "#             if it == epoch-1:\n",
    "#                 self.save_gradients(tf_dict)\n",
    "#                 self.save_gradients_infile(self.gradient_name)\n",
    "                \n",
    "\n",
    "\n"
   ]
  },
  {
   "cell_type": "markdown",
   "id": "19c59b46",
   "metadata": {},
   "source": [
    "# This code snippet is for training for timesegments other than initial one"
   ]
  },
  {
   "cell_type": "code",
   "execution_count": 4,
   "id": "602d27bf",
   "metadata": {},
   "outputs": [],
   "source": [
    "class bc_pinn_t:\n",
    "    # Initialize the class\n",
    "    def __init__(self,domain,initial,boundary,domaindata,prevtimedata,datalist,lowb,upb,\n",
    "                 ntrain,batch_size,layers,re,\n",
    "                 load_model=False,filedr='',freeze=0,timestep=0\n",
    "                 ,savewandb='',saveloss='',gradname='',ics_val=0,bcs_val=0,dds_val=0,pds_val=0):\n",
    "        \n",
    "        self.domain   = domain\n",
    "        self.initial  = initial\n",
    "        self.boundary = boundary\n",
    "        self.domain_data = domaindata\n",
    "        self.prev_data = prevtimedata\n",
    "        self.datalist = datalist\n",
    "\n",
    "        self.freeze = freeze\n",
    "        self.time_step = timestep\n",
    "        \n",
    "        self.params_name = savewandb\n",
    "        self.loss_name   = saveloss\n",
    "        self.gradient_name= gradname\n",
    "        \n",
    "        self.ntrain = ntrain\n",
    "        self.batch_size= batch_size\n",
    "        #=========================================================================================================#\n",
    "        \n",
    "        # Calling domain data for initializing the neural network before entering the Adam optimization\n",
    "        self.xa=self.domain[:,0].reshape(self.domain[:,0].shape[0],1)\n",
    "        self.ya=self.domain[:,1].reshape(self.domain[:,1].shape[0],1)\n",
    "        self.ta=self.domain[:,2].reshape(self.domain[:,2].shape[0],1)\n",
    "        self.ua=self.domain_data[:,3].reshape(self.domain_data[:,3].shape[0],1)\n",
    "        self.va=self.domain_data[:,4].reshape(self.domain_data[:,4].shape[0],1)\n",
    "        \n",
    "        # This creates an array of collocation points only for the domain\n",
    "\n",
    "        self.lowb = lowb\n",
    "        self.upb = upb\n",
    "        \n",
    "        #=========================================================================================================#\n",
    "        \n",
    "        # Calling boundary and initial conditions data as they dont change through the adam iterations\n",
    "                \n",
    "        self.x0=self.initial[:,0].reshape(self.initial[:, 0].shape[0], 1)\n",
    "        self.y0=self.initial[:,1].reshape(self.initial[:, 1].shape[0], 1)\n",
    "        self.t0=self.initial[:,2].reshape(self.initial[:, 2].shape[0], 1)\n",
    "        self.u0=self.initial[:,3].reshape(self.initial[:, 3].shape[0], 1)\n",
    "        self.v0=self.initial[:,4].reshape(self.initial[:, 4].shape[0], 1)\n",
    "        \n",
    "        self.xb=self.boundary[:,0].reshape(self.boundary[:, 0].shape[0], 1)\n",
    "        self.yb=self.boundary[:,1].reshape(self.boundary[:, 1].shape[0], 1)\n",
    "        self.tb=self.boundary[:,2].reshape(self.boundary[:, 2].shape[0], 1)\n",
    "        self.ub=self.boundary[:,3].reshape(self.boundary[:, 3].shape[0], 1)\n",
    "        self.vb=self.boundary[:,4].reshape(self.boundary[:, 4].shape[0], 1)\n",
    "        \n",
    "  \n",
    "        self.layers = layers\n",
    "        self.re = re\n",
    "\n",
    "        # Initialize NN\n",
    "        if load_model ==False:\n",
    "            self.weights, self.biases = self.initialize_NN(self.layers)\n",
    "        else:\n",
    "            self.weights,self.biases = self.load_parameters(filedr,self.layers)\n",
    "            \n",
    "        \n",
    "\n",
    "        # tf placeholders and graph\n",
    "        \n",
    "        self.sess = tf.compat.v1.Session(config=tf.compat.v1.ConfigProto(allow_soft_placement=True,\n",
    "                                                     log_device_placement=True))\n",
    "        \n",
    "        self.learning_rate = tf.compat.v1.placeholder(tf.float32, shape=[])\n",
    "        \n",
    "        # Initial conditions placeholders\n",
    "        self.x_ini_tf = tf.compat.v1.placeholder(tf.float32, shape=[None, self.x0.shape[1]])\n",
    "        self.y_ini_tf = tf.compat.v1.placeholder(tf.float32, shape=[None, self.y0.shape[1]])\n",
    "        self.t_ini_tf = tf.compat.v1.placeholder(tf.float32, shape=[None, self.t0.shape[1]])\n",
    "        self.u_ini_tf = tf.compat.v1.placeholder(tf.float32, shape=[None, self.u0.shape[1]])\n",
    "        self.v_ini_tf = tf.compat.v1.placeholder(tf.float32, shape=[None, self.v0.shape[1]])\n",
    "        \n",
    "        # Boundary conditions placeholders\n",
    "        self.x_boundary_tf = tf.compat.v1.placeholder(tf.float32, shape=[None, self.xb.shape[1]])\n",
    "        self.y_boundary_tf = tf.compat.v1.placeholder(tf.float32, shape=[None, self.yb.shape[1]])\n",
    "        self.t_boundary_tf = tf.compat.v1.placeholder(tf.float32, shape=[None, self.tb.shape[1]])\n",
    "        self.u_boundary_tf = tf.compat.v1.placeholder(tf.float32, shape=[None, self.ub.shape[1]])\n",
    "        self.v_boundary_tf = tf.compat.v1.placeholder(tf.float32, shape=[None, self.vb.shape[1]])\n",
    "        \n",
    "        # Domain placeholders having the size of batch_size\n",
    "        self.x_tf = tf.compat.v1.placeholder(tf.float32, shape=[None, self.xa.shape[1]])\n",
    "        self.y_tf = tf.compat.v1.placeholder(tf.float32, shape=[None, self.ya.shape[1]])\n",
    "        self.t_tf = tf.compat.v1.placeholder(tf.float32, shape=[None, self.ta.shape[1]])\n",
    "        \n",
    "        # Domain data placeholders \n",
    "        self.xdata_tf = tf.compat.v1.placeholder(tf.float32, shape=[None, self.xa.shape[1]])\n",
    "        self.ydata_tf = tf.compat.v1.placeholder(tf.float32, shape=[None, self.ya.shape[1]])\n",
    "        self.tdata_tf = tf.compat.v1.placeholder(tf.float32, shape=[None, self.ta.shape[1]])\n",
    "        \n",
    "        self.udata_tf = tf.compat.v1.placeholder(tf.float32, shape=[None, self.ua.shape[1]])\n",
    "        self.vdata_tf = tf.compat.v1.placeholder(tf.float32, shape=[None, self.va.shape[1]])\n",
    "        \n",
    "        # Previous timestep placeholders\n",
    "        self.xtime_tf = tf.compat.v1.placeholder(tf.float32)\n",
    "        self.ytime_tf = tf.compat.v1.placeholder(tf.float32)\n",
    "        self.ttime_tf = tf.compat.v1.placeholder(tf.float32)\n",
    "        self.utime_tf = tf.compat.v1.placeholder(tf.float32)\n",
    "        self.vtime_tf = tf.compat.v1.placeholder(tf.float32)\n",
    "        self.ptime_tf = tf.compat.v1.placeholder(tf.float32)\n",
    "        \n",
    "        # Initial conditions predictions\n",
    "        self.u_ini_pred, self.v_ini_pred, self.p_ini_pred =\\\n",
    "            self.net_NS(self.x_ini_tf, self.y_ini_tf, self.t_ini_tf)\n",
    "        \n",
    "        # Boundary conditions predictions\n",
    "        self.u_boundary_pred, self.v_boundary_pred, self.p_boundary_pred = \\\n",
    "            self.net_NS(self.x_boundary_tf, self.y_boundary_tf, self.t_boundary_tf)\n",
    "        \n",
    "        # Domain data predictions\n",
    "        self.u_dom_pred,self.v_dom_pred,_=\\\n",
    "            self.net_NS(self.xdata_tf,self.ydata_tf,self.tdata_tf)\n",
    "        \n",
    "        # Domain residual predictions\n",
    "        self.u_pred, self.v_pred, self.p_pred, self.f_u_pred, self.f_v_pred, self.f_e_pred = \\\n",
    "            self.net_f_NS(self.x_tf, self.y_tf, self.t_tf)\n",
    "        \n",
    "        # Previous time step predictions\n",
    "        self.u_time_pred,self.v_time_pred,self.p_time_pred=\\\n",
    "            self.net_NS(self.xtime_tf,self.ytime_tf,self.ttime_tf)\n",
    "        \n",
    "        # Adaptive reweighting constants\n",
    "        self.alpha, self.beta, self.gamma, self.zeta = 0.9,0.9,0.9,0.9\n",
    "        \n",
    "        self.adaptive_constant_ics_val= ics_val\n",
    "        self.adaptive_constant_bcs_val= bcs_val\n",
    "        self.adaptive_constant_dds_val= dds_val\n",
    "        self.adaptive_constant_pds_val= pds_val\n",
    "                \n",
    "        self.adaptive_constant_ics_tf =tf.compat.v1.placeholder(tf.float32, shape=self.adaptive_constant_ics_val.shape)\n",
    "        self.adaptive_constant_bcs_tf =tf.compat.v1.placeholder(tf.float32, shape=self.adaptive_constant_bcs_val.shape)\n",
    "        self.adaptive_constant_dds_tf =tf.compat.v1.placeholder(tf.float32, shape=self.adaptive_constant_dds_val.shape)\n",
    "        self.adaptive_constant_pds_tf =tf.compat.v1.placeholder(tf.float32, shape=self.adaptive_constant_pds_val.shape)\n",
    "        \n",
    "\n",
    "        # set loss function\n",
    "        self.initial_loss  = self.adaptive_constant_ics_tf * tf.reduce_mean(input_tensor=tf.square(self.u_ini_tf - self.u_ini_pred)) + \\\n",
    "                             self.adaptive_constant_ics_tf * tf.reduce_mean(input_tensor=tf.square(self.v_ini_tf - self.v_ini_pred))\n",
    "        \n",
    "        self.boundary_loss = self.adaptive_constant_bcs_tf * tf.reduce_mean(input_tensor=tf.square(self.u_boundary_tf - self.u_boundary_pred)) + \\\n",
    "                             self.adaptive_constant_bcs_tf * tf.reduce_mean(input_tensor=tf.square(self.v_boundary_tf - self.v_boundary_pred))\n",
    "\n",
    "        self.domdata_loss  = self.adaptive_constant_dds_tf * tf.reduce_mean(input_tensor=tf.square(self.udata_tf - self.u_dom_pred)) + \\\n",
    "                             self.adaptive_constant_dds_tf * tf.reduce_mean(input_tensor=tf.square(self.vdata_tf - self.v_dom_pred))\n",
    "\n",
    "        self.prevtime_loss = self.adaptive_constant_pds_tf * tf.reduce_mean(input_tensor=tf.square(self.utime_tf - self.u_time_pred)) + \\\n",
    "                             self.adaptive_constant_pds_tf * tf.reduce_mean(input_tensor=tf.square(self.vtime_tf - self.v_time_pred)) + \\\n",
    "                             self.adaptive_constant_pds_tf * tf.reduce_mean(input_tensor=tf.square(self.ptime_tf - self.p_time_pred))   \n",
    "        \n",
    "        self.residual_loss = tf.reduce_mean(input_tensor=tf.square(self.f_u_pred)) + \\\n",
    "                             tf.reduce_mean(input_tensor=tf.square(self.f_v_pred)) + \\\n",
    "                             tf.reduce_mean(input_tensor=tf.square(self.f_e_pred))\n",
    "        \n",
    "\n",
    "        self.loss =  self.initial_loss + self.boundary_loss + self.residual_loss + self.domdata_loss + self.prevtime_loss \n",
    "        \n",
    "        self.loss_i=[]\n",
    "        self.loss_b=[]\n",
    "        self.loss_r=[]\n",
    "        self.loss_d=[]\n",
    "        self.loss_p=[]\n",
    "\n",
    "        self.optimizer_Adam = tf.compat.v1.train.AdamOptimizer(self.learning_rate)\n",
    "        self.train_op_Adam = self.optimizer_Adam.minimize(self.loss)\n",
    "\n",
    "        init = tf.compat.v1.global_variables_initializer()\n",
    "        self.sess.run(init)\n",
    "#===========================================================================================================#\n",
    "#=================================Saving gradients==========================================================#\n",
    "#===========================================================================================================#\n",
    "        # saving gradients of residual, boundary conditions, initial conditions, domain data\n",
    "        self.dict_gradients_res_layers = self.generate_grad_dict(self.layers)\n",
    "        self.dict_gradients_bcs_layers = self.generate_grad_dict(self.layers)\n",
    "        self.dict_gradients_ics_layers = self.generate_grad_dict(self.layers)\n",
    "        self.dict_gradients_dds_layers = self.generate_grad_dict(self.layers)\n",
    "        self.dict_gradients_pds_layers = self.generate_grad_dict(self.layers)\n",
    "\n",
    "        # storing gradients \n",
    "        self.grad_res = []\n",
    "        self.grad_bcs = []\n",
    "        self.grad_ics = []\n",
    "        self.grad_dds = []\n",
    "        self.grad_pds = []\n",
    "\n",
    "        for i in range(len(self.layers)-1):\n",
    "            self.grad_res.append(tf.gradients(ys=self.residual_loss, xs=self.weights[i])[0])\n",
    "            self.grad_bcs.append(tf.gradients(ys=self.boundary_loss, xs=self.weights[i])[0])\n",
    "            self.grad_ics.append(tf.gradients(ys=self.initial_loss, xs=self.weights[i])[0])\n",
    "            self.grad_dds.append(tf.gradients(ys=self.domdata_loss, xs=self.weights[i])[0])\n",
    "            self.grad_pds.append(tf.gradients(ys=self.prevtime_loss, xs=self.weights[i])[0])\n",
    "        \n",
    "        self.adaptive_constant_bcs_list=[]\n",
    "        self.adaptive_constant_ics_list=[]\n",
    "        self.adaptive_constant_dds_list=[]\n",
    "        self.adaptive_constant_pds_list=[]\n",
    "        \n",
    "        for i in range(len(self.layers)-1):\n",
    "            self.adaptive_constant_bcs_list.append(\n",
    "                tf.reduce_max(tf.abs(self.grad_res[i]))/ tf.reduce_mean(tf.abs(self.grad_bcs[i])))\n",
    "            self.adaptive_constant_ics_list.append(\n",
    "                tf.reduce_max(tf.abs(self.grad_res[i]))/ tf.reduce_mean(tf.abs(self.grad_ics[i])))\n",
    "            self.adaptive_constant_dds_list.append(\n",
    "                tf.reduce_max(tf.abs(self.grad_res[i]))/ tf.reduce_mean(tf.abs(self.grad_dds[i])))\n",
    "            self.adaptive_constant_pds_list.append(\n",
    "                tf.reduce_max(tf.abs(self.grad_res[i]))/ tf.reduce_mean(tf.abs(self.grad_pds[i])))\n",
    "            \n",
    "        self.adaptive_constant_bcs = tf.reduce_max(tf.stack(self.adaptive_constant_bcs_list))\n",
    "        self.adaptive_constant_ics = tf.reduce_max(tf.stack(self.adaptive_constant_ics_list))\n",
    "        self.adaptive_constant_dds = tf.reduce_max(tf.stack(self.adaptive_constant_dds_list))\n",
    "        self.adaptive_constant_pds = tf.reduce_max(tf.stack(self.adaptive_constant_pds_list))\n",
    "            \n",
    "    def generate_grad_dict(self,layers):\n",
    "        num = len(layers)-1\n",
    "        grad_dict={}\n",
    "        for i in range(num):\n",
    "            grad_dict['layer_{}'.format(i+1)]=[]\n",
    "        return grad_dict\n",
    "    \n",
    "    def save_gradients(self,tf_dict):\n",
    "        num_layers=len(self.layers)\n",
    "        for i in range(num_layers-1):\n",
    "            grad_res_value,grad_bcs_value,grad_ics_value,grad_dds_value,grad_pds_value = self.sess.run([self.grad_res[i],self.grad_bcs[i],self.grad_ics[i],self.grad_dds[i],self.grad_pds[i]],feed_dict=tf_dict)\n",
    "            \n",
    "            self.dict_gradients_res_layers['layer_'+str(i+1)].append(grad_res_value.flatten())\n",
    "            self.dict_gradients_bcs_layers['layer_'+str(i+1)].append(grad_bcs_value.flatten())\n",
    "            self.dict_gradients_ics_layers['layer_'+str(i+1)].append(grad_ics_value.flatten())\n",
    "            self.dict_gradients_dds_layers['layer_'+str(i+1)].append(grad_dds_value.flatten())\n",
    "            self.dict_gradients_pds_layers['layer_'+str(i+1)].append(grad_pds_value.flatten())\n",
    "            \n",
    "        return None\n",
    "    \n",
    "    def save_gradients_infile(self,fileDr):    \n",
    "        res=self.dict_gradients_res_layers\n",
    "        bcs=self.dict_gradients_bcs_layers\n",
    "        ics=self.dict_gradients_ics_layers\n",
    "        dds=self.dict_gradients_dds_layers\n",
    "        pds=self.dict_gradients_pds_layers\n",
    "        \n",
    "        with open(fileDr,'wb') as f:\n",
    "            pickle.dump([res,bcs,ics,dds,pds],f)\n",
    "            print(\"Gradients are saved in pickle file\")        \n",
    "    \n",
    "    def save_weights(self,fileDr):\n",
    "        with open(fileDr, 'wb') as f:\n",
    "            b=self.adaptive_constant_bcs_val\n",
    "            i=self.adaptive_constant_ics_val\n",
    "            d=self.adaptive_constant_dds_val\n",
    "            p=self.adaptive_constant_pds_val\n",
    "            pickle.dump([b,i,d,p],f)\n",
    "            print(\"Adaptive weights are saved in pickle file\")\n",
    "#===========================================================================================================#\n",
    "#====================================Transfer Learning======================================================#\n",
    "#===========================================================================================================#\n",
    "    def save_parameters(self,fileDr):\n",
    "        weights=self.sess.run(self.weights)\n",
    "        biases= self.sess.run(self.biases)\n",
    "        \n",
    "        with open(fileDr,'wb') as f:\n",
    "            pickle.dump([weights,biases],f)\n",
    "            print(\"Parameters are saved in pickle file\")\n",
    "\n",
    "    def load_parameters(self,fileDr,layers):\n",
    "        tf_weights=[]\n",
    "        tf_biases=[]\n",
    "        num_layers=len(layers)\n",
    "        \n",
    "        # returns the weights and biases of the network as np array\n",
    "        with open(fileDr,'rb') as f:\n",
    "            weights,biases=pickle.load(f)\n",
    "            assert num_layers == (len(weights)+1)\n",
    "        \n",
    "        # returns the weights and biases of the network as tf.variable\n",
    "        for num in range(0,num_layers-1):\n",
    "            tf_weights.append ( tf.Variable (weights[num],trainable ='True' ))\n",
    "            tf_biases.append  ( tf.Variable (biases[num],trainable ='True' ))\n",
    "        \n",
    "        print(\"Parameters are loaded succesffuly\")\n",
    "        \n",
    "        return tf_weights,tf_biases\n",
    "    \n",
    "#===========================================================================================================#\n",
    "#========================================saving loss values=================================================#\n",
    "#===========================================================================================================#\n",
    "    def save_loss(self,fileDr,tf_dict):\n",
    "        self.loss_i.append(self.sess.run(self.initial_loss,tf_dict))\n",
    "        self.loss_b.append(self.sess.run(self.boundary_loss,tf_dict))\n",
    "        self.loss_r.append(self.sess.run(self.residual_loss,tf_dict))\n",
    "        self.loss_d.append(self.sess.run(self.domdata_loss,tf_dict))\n",
    "        self.loss_p.append(self.sess.run(self.prevtime_loss,tf_dict))\n",
    "        \n",
    "        root_path=Path(r\"E:\\Vamsi_oe20s302\\Vamsi\\seq2seq learning\\Re100_mts_params\\novel_method\\exp20\")\n",
    "        my_path=root_path/fileDr\n",
    "        \n",
    "        with open(my_path,'wb') as f:\n",
    "            pickle.dump([self.loss_i,self.loss_b,self.loss_r,self.loss_d,self.loss_p],f)\n",
    "            print(\"Loss are saved in pickle file\")\n",
    "    \n",
    "    def load_loss(self,fileDr):\n",
    "        \n",
    "        root_path=Path(r\"E:\\Vamsi_oe20s302\\Vamsi\\seq2seq learning\\Re100_mts_params\\novel_method\\exp20\")\n",
    "        my_path=root_path/fileDr\n",
    "        \n",
    "        # returns the weights and biases of the network as np array\n",
    "        with open(my_path,'rb') as f:\n",
    "            initial,boundary,residual,datadomain,prevtimeloss=pickle.load(f)\n",
    "        \n",
    "        print(\"Losses are loaded successfully\")\n",
    "        \n",
    "        return initial,boundary,residual,datadomain,prevtimeloss\n",
    "    \n",
    "#===========================================================================================================#\n",
    "#========================================Utility fucntions of NN============================================#\n",
    "#===========================================================================================================#\n",
    " \n",
    "\n",
    "# initialize the weight and bias\n",
    "    def initialize_NN(self, layers):\n",
    "        weights = []\n",
    "        biases = []\n",
    "        num_layers = len(layers)\n",
    "        for l in range(0, num_layers - 1):\n",
    "            W = self.xavier_init(size=[layers[l], layers[l + 1]])\n",
    "            b = tf.Variable(tf.zeros([1, layers[l + 1]], dtype=tf.float32), dtype=tf.float32)\n",
    "            weights.append(W)\n",
    "            biases.append(b)\n",
    "        return weights, biases\n",
    "\n",
    "# xavier used to initialize the weight\n",
    "    def xavier_init(self, size):\n",
    "        in_dim = size[0]\n",
    "        out_dim = size[1]\n",
    "        xavier_stddev = np.sqrt(2 / (in_dim + out_dim))\n",
    "        return tf.Variable(tf.random.truncated_normal([in_dim, out_dim], stddev=xavier_stddev), dtype=tf.float32)\n",
    "\n",
    "# generate the neural network\n",
    "    def neural_net(self, X, weights, biases):\n",
    "        num_layers = len(weights) + 1\n",
    "\n",
    "        H = 2.0 * (X - self.lowb) / (self.upb - self.lowb) - 1.0\n",
    "        for l in range(0, num_layers - 2):\n",
    "            W = weights[l]\n",
    "            b = biases[l]\n",
    "#             H = tf.tanh(tf.add(tf.matmul(H, W), b))\n",
    "            H = tf.keras.activations.swish(tf.add(tf.matmul(H, W), b))\n",
    "        W = weights[-1]\n",
    "        b = biases[-1]\n",
    "        Y = tf.add(tf.matmul(H, W), b)\n",
    "        return Y\n",
    "    \n",
    "# ###################without assume###############\n",
    "    # supervised data driven\n",
    "    def net_NS(self, x, y, t):\n",
    "\n",
    "        u_v_p = self.neural_net(tf.concat([x, y, t], 1), self.weights, self.biases)\n",
    "        u = u_v_p[:, 0:1]\n",
    "        v = u_v_p[:, 1:2]\n",
    "        p = u_v_p[:, 2:3]\n",
    "\n",
    "        return u, v, p\n",
    "\n",
    "    # unsupervised NS residual\n",
    "    def net_f_NS(self, x, y, t):\n",
    "\n",
    "        u_v_p = self.neural_net(tf.concat([x, y, t], 1), self.weights, self.biases)\n",
    "        u = u_v_p[:, 0:1]\n",
    "        v = u_v_p[:, 1:2]\n",
    "        p = u_v_p[:, 2:3]\n",
    "\n",
    "        u_t = tf.gradients(ys=u, xs=t)[0] \n",
    "        u_x = tf.gradients(ys=u, xs=x)[0] \n",
    "        u_y = tf.gradients(ys=u, xs=y)[0] \n",
    "        u_xx = tf.gradients(ys=u_x, xs=x)[0] \n",
    "        u_yy = tf.gradients(ys=u_y, xs=y)[0] \n",
    "        \n",
    "        v_t = tf.gradients(ys=v, xs=t)[0] \n",
    "        v_x = tf.gradients(ys=v, xs=x)[0] \n",
    "        v_y = tf.gradients(ys=v, xs=y)[0] \n",
    "        v_xx = tf.gradients(ys=v_x, xs=x)[0] \n",
    "        v_yy = tf.gradients(ys=v_y, xs=y)[0] \n",
    "\n",
    "        p_x = tf.gradients(ys=p, xs=x)[0] \n",
    "        p_y = tf.gradients(ys=p, xs=y)[0] \n",
    "\n",
    "        f_u = u_t + (u * u_x + v * u_y) + p_x - (1/((10*self.re))) * (u_xx + u_yy)\n",
    "        f_v = v_t + (u * v_x + v * v_y) + p_y - (1/((10*self.re))) * (v_xx + v_yy)\n",
    "        f_e = u_x + v_y\n",
    "\n",
    "        return u, v, p, f_u, f_v, f_e\n",
    "    \n",
    "#===========================================================================================================#\n",
    "#===========================Predicting and finding error every 10 epochs====================================#\n",
    "#===========================================================================================================#\n",
    "   \n",
    "\n",
    "    def predict(self, x_star, y_star, t_star):\n",
    "\n",
    "        tf_dict = {self.x_tf: x_star, self.y_tf: y_star, self.t_tf: t_star}\n",
    "\n",
    "        u_star = self.sess.run(self.u_pred, tf_dict)\n",
    "        v_star = self.sess.run(self.v_pred, tf_dict)\n",
    "        p_star = self.sess.run(self.p_pred, tf_dict)\n",
    "\n",
    "        return u_star, v_star, p_star\n",
    "    \n",
    "    def load_testdata(self,time_step):\n",
    "        \n",
    "        # Converting the time_step from decimal to integer 0.1 --> 1\n",
    "        ts=int(10*time_step)\n",
    "\n",
    "        # Loading the complete list of data \n",
    "        data_list=self.datalist\n",
    "\n",
    "        # Extracting the data for the given range of time steps [0,0.1] and so on\n",
    "        dt=0.1\n",
    "        times=[round(i,3) for i in np.arange(0,7+dt,dt)]\n",
    "\n",
    "        # Finding the indexes of initial and final timestep from the times list\n",
    "        t1=times.index(round((time_step-1.0),2))\n",
    "        t2=times.index(time_step)\n",
    "\n",
    "        temp=[]\n",
    "        # Excluding INITIAL DATA from the collocation points, to make sure that the model is not overfitting on\n",
    "        # initial points, as there is u,v data available for the model. \n",
    "\n",
    "        for i in range(t1,t2+1):\n",
    "            if i<t2+1:\n",
    "                temp.append(data_list[i])\n",
    "\n",
    "        # data stores the final timestep data for the given time segment\n",
    "\n",
    "        data=np.concatenate(temp[4:],axis=0)\n",
    "\n",
    "        x_star=data[:,0].reshape(data[:,0].shape[0],1)\n",
    "        y_star=data[:,1].reshape(data[:,1].shape[0],1)\n",
    "        t_star=data[:,2].reshape(data[:,2].shape[0],1)\n",
    "\n",
    "        X_star=[x_star,y_star,t_star]\n",
    "\n",
    "        u_star=data[:,3].reshape(data[:,3].shape[0],1)\n",
    "        v_star=data[:,4].reshape(data[:,4].shape[0],1)\n",
    "        p_star=data[:,5].reshape(data[:,5].shape[0],1)\n",
    "\n",
    "        Y_star=[u_star,v_star,p_star]\n",
    "\n",
    "        return X_star,Y_star\n",
    "    \n",
    "    def find_error(self,test_time_step):\n",
    "        \n",
    "        X_star,Y_star=self.load_testdata(test_time_step)\n",
    "        u_pred,_,_ = self.predict(X_star[0],X_star[1],X_star[2])\n",
    "        \n",
    "        error_u = np.linalg.norm(Y_star[0] - u_pred, 2) / np.linalg.norm(Y_star[0], 2)\n",
    "        \n",
    "\n",
    "        return error_u\n",
    "        \n",
    "    \n",
    "    \n",
    "    \n",
    "#===========================================================================================================#\n",
    "#===========================ADAM TRAINING FUNCTION==========================================================#\n",
    "#===========================================================================================================#\n",
    "\n",
    "    def Adam_train(self, epoch=5000, learning_rate=1e-3):\n",
    "\n",
    "        start_time = time.time()\n",
    "        \n",
    "        iters = int(self.ntrain / self.batch_size)\n",
    "        \n",
    "        for it in range(epoch):\n",
    "            \n",
    "            for i in (range(iters)):\n",
    "            \n",
    "                # Randomly sampling ntrain datapoints in the spatio-temporal region\n",
    "                idx=  np.random.choice(self.domain.shape[0],self.batch_size,replace=False)\n",
    "                \n",
    "#                 didx= np.random.choice(self.domain_data.shape[0],250,replace=False)\n",
    "                \n",
    "                # Should increase the batch size of prev data so that the model would be able to see more number of points\n",
    "                # per iteration\n",
    "                pidx= np.random.choice(self.prev_data.shape[0],5000,replace=False)\n",
    "                \n",
    "                \n",
    "                self.data_domain = self.domain[idx,:]\n",
    "                self.data_driven = self.domain_data\n",
    "                self.prev_batch  = self.prev_data[pidx,:]\n",
    "                \n",
    "                # Collocation points inside the domain without data\n",
    "                xd=self.data_domain[:,0].reshape(self.data_domain[:, 0].shape[0], 1)\n",
    "                yd=self.data_domain[:,1].reshape(self.data_domain[:, 1].shape[0], 1)\n",
    "                td=self.data_domain[:,2].reshape(self.data_domain[:, 2].shape[0], 1)\n",
    "                \n",
    "                # Collocation points inside the domain with data\n",
    "                xdata=self.data_driven[:,0].reshape(self.data_driven[:, 0].shape[0], 1)\n",
    "                ydata=self.data_driven[:,1].reshape(self.data_driven[:, 1].shape[0], 1)\n",
    "                tdata=self.data_driven[:,2].reshape(self.data_driven[:, 2].shape[0], 1)\n",
    "                udata=self.data_driven[:,3].reshape(self.data_driven[:, 3].shape[0], 1)\n",
    "                vdata=self.data_driven[:,4].reshape(self.data_driven[:, 4].shape[0], 1)\n",
    "                \n",
    "                # Points from the previous time steps with data\n",
    "                xprev=self.prev_batch[:,0].reshape(self.prev_batch[:,0].shape[0],1)\n",
    "                yprev=self.prev_batch[:,1].reshape(self.prev_batch[:,1].shape[0],1)\n",
    "                tprev=self.prev_batch[:,2].reshape(self.prev_batch[:,2].shape[0],1)\n",
    "                uprev=self.prev_batch[:,3].reshape(self.prev_batch[:,3].shape[0],1)\n",
    "                vprev=self.prev_batch[:,4].reshape(self.prev_batch[:,4].shape[0],1)\n",
    "                pprev=self.prev_batch[:,5].reshape(self.prev_batch[:,5].shape[0],1)\n",
    "                \n",
    "                Xd = np.concatenate([xd,yd,td], 1)\n",
    "        \n",
    "                self.tf_dict = {self.x_ini_tf: self.x0, \n",
    "                           self.y_ini_tf: self.y0,\n",
    "                           self.t_ini_tf: self.t0, \n",
    "                           self.u_ini_tf: self.u0,\n",
    "                           self.v_ini_tf: self.v0, \n",
    "                           \n",
    "                           self.x_boundary_tf: self.xb,\n",
    "                           self.y_boundary_tf: self.yb, \n",
    "                           self.t_boundary_tf: self.tb,\n",
    "                           self.u_boundary_tf: self.ub, \n",
    "                           self.v_boundary_tf: self.vb,\n",
    "                           \n",
    "                           self.x_tf: xd, \n",
    "                           self.y_tf: yd, \n",
    "                           self.t_tf: td,\n",
    "                           \n",
    "                           self.xdata_tf: xdata, \n",
    "                           self.ydata_tf: ydata, \n",
    "                           self.tdata_tf: tdata,\n",
    "                           self.udata_tf: udata,\n",
    "                           self.vdata_tf: vdata,\n",
    "                           \n",
    "                           self.xtime_tf: xprev,\n",
    "                           self.ytime_tf: yprev,\n",
    "                           self.ttime_tf: tprev,\n",
    "                           self.utime_tf: uprev,\n",
    "                           self.vtime_tf: vprev,\n",
    "                           self.ptime_tf: pprev,\n",
    "                           \n",
    "                           self.adaptive_constant_bcs_tf: self.adaptive_constant_bcs_val,\n",
    "                           self.adaptive_constant_ics_tf: self.adaptive_constant_ics_val,\n",
    "                           self.adaptive_constant_dds_tf: self.adaptive_constant_dds_val,\n",
    "                           self.adaptive_constant_pds_tf: self.adaptive_constant_pds_val,\n",
    "                           \n",
    "                           \n",
    "                           self.learning_rate: learning_rate}\n",
    "\n",
    "                self.sess.run(self.train_op_Adam, self.tf_dict)\n",
    "            \n",
    "            if it % 10 == 0:\n",
    "                \n",
    "                elapsed = time.time() - start_time\n",
    "                \n",
    "                t_loss= self.sess.run(self.loss, self.tf_dict)\n",
    "                i_loss= self.sess.run(self.initial_loss,self.tf_dict)\n",
    "                b_loss= self.sess.run(self.boundary_loss,self.tf_dict)\n",
    "                r_loss= self.sess.run(self.residual_loss,self.tf_dict)\n",
    "                d_loss= self.sess.run(self.domdata_loss,self.tf_dict)\n",
    "                p_loss= self.sess.run(self.prevtime_loss,self.tf_dict)\n",
    "                \n",
    "                # Saving the loss values in a pickle file\n",
    "#                 self.save_loss(self.loss_name,tf_dict)\n",
    "                \n",
    "                # Finding the error value at given timestep for every 10 epochs\n",
    "                eu1= self.find_error(1)\n",
    "\n",
    "                adaptive_constant_bcs_val=self.sess.run(self.adaptive_constant_bcs,self.tf_dict)\n",
    "                adaptive_constant_ics_val=self.sess.run(self.adaptive_constant_ics,self.tf_dict)\n",
    "                adaptive_constant_dds_val=self.sess.run(self.adaptive_constant_dds,self.tf_dict)\n",
    "                adaptive_constant_pds_val=self.sess.run(self.adaptive_constant_pds,self.tf_dict)\n",
    "                \n",
    "                self.adaptive_constant_bcs_val = adaptive_constant_bcs_val*(1.0-self.beta)+self.beta*self.adaptive_constant_bcs_val\n",
    "                self.adaptive_constant_ics_val = adaptive_constant_ics_val*(1.0-self.alpha)+self.alpha*self.adaptive_constant_ics_val\n",
    "                self.adaptive_constant_dds_val = adaptive_constant_dds_val*(1.0-self.gamma)+self.gamma*self.adaptive_constant_dds_val\n",
    "                self.adaptive_constant_pds_val = adaptive_constant_pds_val*(1.0-self.zeta)+self.zeta*self.adaptive_constant_pds_val\n",
    "                \n",
    "                \n",
    "                # Logging the loss values and error values to wandb workspace:\n",
    "                log_dict={\"Total_loss\":t_loss,\"Initial_loss\":i_loss,\\\n",
    "                         \"Boundary_loss\":b_loss,\"Residual_loss\":r_loss,\\\n",
    "                         \"Data_loss\":d_loss,\"Previous_loss\":p_loss,\\\n",
    "                          \"time step 1\":eu1,\\\n",
    "                         \"BCS adaptive constant\":self.adaptive_constant_bcs_val,\\\n",
    "                         \"ICS adaptive constant\":self.adaptive_constant_ics_val,\\\n",
    "                         \"DDS adaptive constant\":self.adaptive_constant_dds_val,\\\n",
    "                          \"PDS adaptive constant\":self.adaptive_constant_pds_val\n",
    "                         \n",
    "                         }\n",
    "                \n",
    "                wandb.log(log_dict)\n",
    "                \n",
    "                print('epochs: %d, Loss: %.3e, Time: %.2f' %\n",
    "                      (it, t_loss, elapsed))\n",
    "                \n",
    "                start_time = time.time()\n",
    "            \n",
    "#             if it % 10 == 0 and it > 0:\n",
    "#                 self.save_parameters(self.params_name)\n",
    "#             if it == epoch-1:\n",
    "#                 self.save_gradients(tf_dict)\n",
    "#                 self.save_gradients_infile(self.gradient_name)\n",
    "            \n",
    "                \n",
    "\n",
    "\n"
   ]
  },
  {
   "cell_type": "markdown",
   "id": "0c8cc697",
   "metadata": {},
   "source": [
    "# Data loading functions"
   ]
  },
  {
   "cell_type": "code",
   "execution_count": 8,
   "id": "7e4b8716",
   "metadata": {},
   "outputs": [],
   "source": [
    "def load_complete_data():\n",
    "\n",
    "    path=r\"E:\\Vamsi_oe20s302\\Research work\\Simulations and data\\Unsteady trials\\data\\trials\\Re100_data_true\"\n",
    "\n",
    "    uvel=pd.read_csv(path+r\"/u_vel.csv\")\n",
    "    uvel=uvel.to_numpy()\n",
    "    \n",
    "    vvel=pd.read_csv(path+r\"/v_vel.csv\")\n",
    "    vvel=vvel.to_numpy()\n",
    "    \n",
    "    press=pd.read_csv(path+r\"/press.csv\")\n",
    "    press=press.to_numpy()\n",
    "    \n",
    "    xy=pd.read_csv(path+r\"/xy.csv\")\n",
    "    xy=xy.to_numpy()\n",
    "    \n",
    "    time=pd.read_csv(path+r\"/time.csv\")\n",
    "    time=time.to_numpy()\n",
    "    time=time-time[0]\n",
    "\n",
    "    N=xy.shape[0]\n",
    "    TT = np.tile(time, (1,N)).T # N x T\n",
    "    \n",
    "    # stores the data for each time step as a list\n",
    "    data_list=[]\n",
    "    \n",
    "    for i in range(TT.shape[1]):\n",
    "        if i<N:\n",
    "            t=TT[:,i:i+1]\n",
    "            u=uvel[:,i:i+1]\n",
    "            v=vvel[:,i:i+1]\n",
    "            p=press[:,i:i+1]\n",
    "            a=np.concatenate([xy,t,u,v,p],1)\n",
    "            data_list.append(a)\n",
    "    \n",
    "    dl=data_list\n",
    "    fdl=[]\n",
    "    for i in range(len(dl)):\n",
    "        if(np.unique(dl[i][:,2])<7):\n",
    "            fdl.append(dl[i])\n",
    "        else:\n",
    "            break\n",
    "    \n",
    "    ffd=np.concatenate(fdl[:],0)\n",
    "    xmin=min(ffd[:,0])\n",
    "    xmax=max(ffd[:,0])\n",
    "    ymin=min(ffd[:,1])\n",
    "    ymax=max(ffd[:,1])\n",
    "    tmin=min(ffd[:,2])\n",
    "    tmax=max(ffd[:,2])\n",
    "\n",
    "    lowb=np.array([xmin,ymin,tmin])\n",
    "    upb =np.array([xmax,ymax,tmax])\n",
    "\n",
    "    \n",
    "    return data_list,lowb,upb\n"
   ]
  },
  {
   "cell_type": "code",
   "execution_count": 27,
   "id": "af593a6f",
   "metadata": {},
   "outputs": [],
   "source": [
    "# here we are sending initial condition points as well for calculating the residual, \n",
    "# cfd data is sent only for t=0, for time segment 1\n",
    "# for the other time segments take the predictions of the model at final time step of current segment as initial conditions\n",
    "\n",
    "def load_data(time_segment):\n",
    "    path=r'E:\\Vamsi_oe20s302\\Research work\\Simulations and data\\Unsteady trials\\data\\trials\\Re100_comparisons\\96 data points'\n",
    "    b_name =path+'/'+'boundary_data.csv'\n",
    "    c_name =path+'/'+'domain_colloc.csv'\n",
    "    d_name =path+'/'+'domain_data.csv'\n",
    "    i_name =path+'/'+'initial.csv'\n",
    "\n",
    "    c=pd.read_csv(c_name).to_numpy()\n",
    "    i=pd.read_csv(i_name).to_numpy()\n",
    "    b=pd.read_csv(b_name).to_numpy()\n",
    "    d=pd.read_csv(d_name).to_numpy()\n",
    "\n",
    "    \n",
    "    dt=0.1\n",
    "    times=[round(i,3) for i in np.arange(0,7+dt,dt)]\n",
    "\n",
    "    # Finding the indexes of initial and final timestep\n",
    "    t1=times.index(round((time_segment-1.0),2))\n",
    "    t2=times.index(time_segment)\n",
    "    tun=np.unique(c[:,2])\n",
    "    tun_temp=(tun[t1:t2+2])\n",
    "\n",
    "    c_temp=c\n",
    "    c_temp=c_temp[:,:][c_temp[:,2]<tun_temp[len(tun_temp)-1]]\n",
    "\n",
    "    d_temp=d[:,:][d[:,2]>tun_temp[0]]\n",
    "    d_temp=d_temp[:,:][d_temp[:,2]<tun_temp[len(tun_temp)-1]]\n",
    "\n",
    "    b_temp=b[:,:][b[:,2]>tun_temp[0]]\n",
    "    b_temp=b_temp[:,:][b_temp[:,2]<tun_temp[len(tun_temp)-1]]\n",
    "\n",
    "\n",
    "    if time_segment==1:\n",
    "        return c_temp,i,b_temp,d_temp\n",
    "    else:\n",
    "        return c_temp,b_temp,d_temp"
   ]
  },
  {
   "cell_type": "markdown",
   "id": "920e16b7",
   "metadata": {},
   "source": [
    "# Details of the number of points used "
   ]
  },
  {
   "cell_type": "code",
   "execution_count": 10,
   "id": "7df67f98",
   "metadata": {
    "scrolled": true
   },
   "outputs": [
    {
     "name": "stdout",
     "output_type": "stream",
     "text": [
      "1\n",
      "Domain: (array([0. , 0.1, 0.2, 0.3, 0.4, 0.5, 0.6, 0.7, 0.8, 0.9, 1. ]), array([400, 400, 400, 400, 400, 400, 400, 400, 400, 400, 400], dtype=int64))\n",
      "Boundary: (array([0.1, 0.2, 0.3, 0.4, 0.5, 0.6, 0.7, 0.8, 0.9, 1. ]), array([4, 4, 4, 4, 4, 4, 4, 4, 4, 4], dtype=int64))\n",
      "Domain data: [96 96 96 96 96 96 96 96 96 96]\n",
      "initial: [96]\n",
      "2\n",
      "Domain: (array([0. , 0.1, 0.2, 0.3, 0.4, 0.5, 0.6, 0.7, 0.8, 0.9, 1. , 1.1, 1.2,\n",
      "       1.3, 1.4, 1.5, 1.6, 1.7, 1.8, 1.9, 2. ]), array([400, 400, 400, 400, 400, 400, 400, 400, 400, 400, 400, 400, 400,\n",
      "       400, 400, 400, 400, 400, 400, 400, 400], dtype=int64))\n",
      "Boundary: (array([1.1, 1.2, 1.3, 1.4, 1.5, 1.6, 1.7, 1.8, 1.9, 2. ]), array([4, 4, 4, 4, 4, 4, 4, 4, 4, 4], dtype=int64))\n",
      "Domain data: [96 96 96 96 96 96 96 96 96 96]\n",
      "initial: [96]\n",
      "3\n",
      "Domain: (array([0. , 0.1, 0.2, 0.3, 0.4, 0.5, 0.6, 0.7, 0.8, 0.9, 1. , 1.1, 1.2,\n",
      "       1.3, 1.4, 1.5, 1.6, 1.7, 1.8, 1.9, 2. , 2.1, 2.2, 2.3, 2.4, 2.5,\n",
      "       2.6, 2.7, 2.8, 2.9, 3. ]), array([400, 400, 400, 400, 400, 400, 400, 400, 400, 400, 400, 400, 400,\n",
      "       400, 400, 400, 400, 400, 400, 400, 400, 400, 400, 400, 400, 400,\n",
      "       400, 400, 400, 400, 400], dtype=int64))\n",
      "Boundary: (array([2.1, 2.2, 2.3, 2.4, 2.5, 2.6, 2.7, 2.8, 2.9, 3. ]), array([4, 4, 4, 4, 4, 4, 4, 4, 4, 4], dtype=int64))\n",
      "Domain data: [96 96 96 96 96 96 96 96 96 96]\n",
      "initial: [96]\n",
      "4\n",
      "Domain: (array([0. , 0.1, 0.2, 0.3, 0.4, 0.5, 0.6, 0.7, 0.8, 0.9, 1. , 1.1, 1.2,\n",
      "       1.3, 1.4, 1.5, 1.6, 1.7, 1.8, 1.9, 2. , 2.1, 2.2, 2.3, 2.4, 2.5,\n",
      "       2.6, 2.7, 2.8, 2.9, 3. , 3.1, 3.2, 3.3, 3.4, 3.5, 3.6, 3.7, 3.8,\n",
      "       3.9, 4. ]), array([400, 400, 400, 400, 400, 400, 400, 400, 400, 400, 400, 400, 400,\n",
      "       400, 400, 400, 400, 400, 400, 400, 400, 400, 400, 400, 400, 400,\n",
      "       400, 400, 400, 400, 400, 400, 400, 400, 400, 400, 400, 400, 400,\n",
      "       400, 400], dtype=int64))\n",
      "Boundary: (array([3.1, 3.2, 3.3, 3.4, 3.5, 3.6, 3.7, 3.8, 3.9, 4. ]), array([4, 4, 4, 4, 4, 4, 4, 4, 4, 4], dtype=int64))\n",
      "Domain data: [96 96 96 96 96 96 96 96 96 96]\n",
      "initial: [96]\n",
      "5\n",
      "Domain: (array([0. , 0.1, 0.2, 0.3, 0.4, 0.5, 0.6, 0.7, 0.8, 0.9, 1. , 1.1, 1.2,\n",
      "       1.3, 1.4, 1.5, 1.6, 1.7, 1.8, 1.9, 2. , 2.1, 2.2, 2.3, 2.4, 2.5,\n",
      "       2.6, 2.7, 2.8, 2.9, 3. , 3.1, 3.2, 3.3, 3.4, 3.5, 3.6, 3.7, 3.8,\n",
      "       3.9, 4. , 4.1, 4.2, 4.3, 4.4, 4.5, 4.6, 4.7, 4.8, 4.9, 5. ]), array([400, 400, 400, 400, 400, 400, 400, 400, 400, 400, 400, 400, 400,\n",
      "       400, 400, 400, 400, 400, 400, 400, 400, 400, 400, 400, 400, 400,\n",
      "       400, 400, 400, 400, 400, 400, 400, 400, 400, 400, 400, 400, 400,\n",
      "       400, 400, 400, 400, 400, 400, 400, 400, 400, 400, 400, 400],\n",
      "      dtype=int64))\n",
      "Boundary: (array([4.1, 4.2, 4.3, 4.4, 4.5, 4.6, 4.7, 4.8, 4.9, 5. ]), array([4, 4, 4, 4, 4, 4, 4, 4, 4, 4], dtype=int64))\n",
      "Domain data: [96 96 96 96 96 96 96 96 96 96]\n",
      "initial: [96]\n",
      "6\n",
      "Domain: (array([0. , 0.1, 0.2, 0.3, 0.4, 0.5, 0.6, 0.7, 0.8, 0.9, 1. , 1.1, 1.2,\n",
      "       1.3, 1.4, 1.5, 1.6, 1.7, 1.8, 1.9, 2. , 2.1, 2.2, 2.3, 2.4, 2.5,\n",
      "       2.6, 2.7, 2.8, 2.9, 3. , 3.1, 3.2, 3.3, 3.4, 3.5, 3.6, 3.7, 3.8,\n",
      "       3.9, 4. , 4.1, 4.2, 4.3, 4.4, 4.5, 4.6, 4.7, 4.8, 4.9, 5. , 5.1,\n",
      "       5.2, 5.3, 5.4, 5.5, 5.6, 5.7, 5.8, 5.9, 6. ]), array([400, 400, 400, 400, 400, 400, 400, 400, 400, 400, 400, 400, 400,\n",
      "       400, 400, 400, 400, 400, 400, 400, 400, 400, 400, 400, 400, 400,\n",
      "       400, 400, 400, 400, 400, 400, 400, 400, 400, 400, 400, 400, 400,\n",
      "       400, 400, 400, 400, 400, 400, 400, 400, 400, 400, 400, 400, 400,\n",
      "       400, 400, 400, 400, 400, 400, 400, 400, 400], dtype=int64))\n",
      "Boundary: (array([5.1, 5.2, 5.3, 5.4, 5.5, 5.6, 5.7, 5.8, 5.9, 6. ]), array([4, 4, 4, 4, 4, 4, 4, 4, 4, 4], dtype=int64))\n",
      "Domain data: [96 96 96 96 96 96 96 96 96 96]\n",
      "initial: [96]\n",
      "7\n",
      "Domain: (array([0. , 0.1, 0.2, 0.3, 0.4, 0.5, 0.6, 0.7, 0.8, 0.9, 1. , 1.1, 1.2,\n",
      "       1.3, 1.4, 1.5, 1.6, 1.7, 1.8, 1.9, 2. , 2.1, 2.2, 2.3, 2.4, 2.5,\n",
      "       2.6, 2.7, 2.8, 2.9, 3. , 3.1, 3.2, 3.3, 3.4, 3.5, 3.6, 3.7, 3.8,\n",
      "       3.9, 4. , 4.1, 4.2, 4.3, 4.4, 4.5, 4.6, 4.7, 4.8, 4.9, 5. , 5.1,\n",
      "       5.2, 5.3, 5.4, 5.5, 5.6, 5.7, 5.8, 5.9, 6. , 6.1, 6.2, 6.3, 6.4,\n",
      "       6.5, 6.6, 6.7, 6.8, 6.9]), array([400, 400, 400, 400, 400, 400, 400, 400, 400, 400, 400, 400, 400,\n",
      "       400, 400, 400, 400, 400, 400, 400, 400, 400, 400, 400, 400, 400,\n",
      "       400, 400, 400, 400, 400, 400, 400, 400, 400, 400, 400, 400, 400,\n",
      "       400, 400, 400, 400, 400, 400, 400, 400, 400, 400, 400, 400, 400,\n",
      "       400, 400, 400, 400, 400, 400, 400, 400, 400, 400, 400, 400, 400,\n",
      "       400, 400, 400, 400, 400], dtype=int64))\n",
      "Boundary: (array([6.1, 6.2, 6.3, 6.4, 6.5, 6.6, 6.7, 6.8, 6.9]), array([4, 4, 4, 4, 4, 4, 4, 4, 4], dtype=int64))\n",
      "Domain data: [96 96 96 96 96 96 96 96 96]\n",
      "initial: [96]\n"
     ]
    }
   ],
   "source": [
    "for i in range(1,8):\n",
    "    if i == 1:\n",
    "        d,ini,b,dd=load_data(i)\n",
    "    else:\n",
    "        d,b,dd=load_data(i)\n",
    "    print(i)\n",
    "    print(\"Domain:\",np.unique(d[:,2],return_counts=True))\n",
    "    print(\"Boundary:\",np.unique(b[:,2],return_counts=True))\n",
    "    print(\"Domain data:\",np.unique(dd[:,2],return_counts=True)[1])\n",
    "    print(\"initial:\",np.unique(ini[:,2],return_counts=True)[1])"
   ]
  },
  {
   "cell_type": "code",
   "execution_count": 13,
   "id": "92cfd5de",
   "metadata": {},
   "outputs": [],
   "source": [
    "def load_testdata(time_step):\n",
    "    \n",
    "    if time_step==0:\n",
    "        \n",
    "        data_list,_,_=load_complete_data()\n",
    "        data=data_list[0]\n",
    "        \n",
    "        x_star=data[:,0].reshape(data[:,0].shape[0],1)\n",
    "        y_star=data[:,1].reshape(data[:,1].shape[0],1)\n",
    "        t_star=data[:,2].reshape(data[:,2].shape[0],1)\n",
    "\n",
    "        X_star=[x_star,y_star,t_star]\n",
    "\n",
    "        u_star=data[:,3].reshape(data[:,3].shape[0],1)\n",
    "        v_star=data[:,4].reshape(data[:,4].shape[0],1)\n",
    "        p_star=data[:,5].reshape(data[:,5].shape[0],1)\n",
    "\n",
    "        Y_star=[u_star,v_star,p_star]\n",
    "        \n",
    "    else:\n",
    "        \n",
    "        # Converting the time_step from decimal to integer 0.1 --> 1\n",
    "        ts=int(10*time_step)\n",
    "\n",
    "        # Loading the complete list of data \n",
    "        data_list=load_complete_data()\n",
    "\n",
    "        # Extracting the data for the given range of time steps [0,0.1] and so on\n",
    "        dt=0.1\n",
    "        times=[round(i,3) for i in np.arange(0,7+dt,dt)]\n",
    "\n",
    "        # Finding the indexes of initial and final timestep from the times list\n",
    "        t1=times.index(round((time_step-1.0),2))\n",
    "        t2=times.index(time_step)\n",
    "\n",
    "        temp=[]\n",
    "\n",
    "        for i in range(t1,t2+1):\n",
    "            if i<t2+1:\n",
    "                temp.append(data_list[i])\n",
    "\n",
    "        # data stores the final timestep data for the given time segment\n",
    "        \n",
    "        # Change the value inside the temp to according to the index of time_step in the given timesegment you are choosing\n",
    "\n",
    "        data=np.concatenate(temp[10:],axis=0)\n",
    "\n",
    "        x_star=data[:,0].reshape(data[:,0].shape[0],1)\n",
    "        y_star=data[:,1].reshape(data[:,1].shape[0],1)\n",
    "        t_star=data[:,2].reshape(data[:,2].shape[0],1)\n",
    "\n",
    "        X_star=[x_star,y_star,t_star]\n",
    "\n",
    "        u_star=data[:,3].reshape(data[:,3].shape[0],1)\n",
    "        v_star=data[:,4].reshape(data[:,4].shape[0],1)\n",
    "        p_star=data[:,5].reshape(data[:,5].shape[0],1)\n",
    "\n",
    "        Y_star=[u_star,v_star,p_star]\n",
    "\n",
    "    return X_star,Y_star\n",
    "\n",
    "\n"
   ]
  },
  {
   "cell_type": "code",
   "execution_count": 14,
   "id": "bdbcb0cf",
   "metadata": {},
   "outputs": [],
   "source": [
    "def load_train_data(timestep):\n",
    "    data_list,_,_=load_complete_data()\n",
    "\n",
    "    data=data_list[timestep]\n",
    "    x_star=data[:,0].reshape(data[:,0].shape[0],1)\n",
    "    y_star=data[:,1].reshape(data[:,1].shape[0],1)\n",
    "    t_star=data[:,2].reshape(data[:,2].shape[0],1)\n",
    "\n",
    "    X_star=[x_star,y_star,t_star]\n",
    "\n",
    "    u_star=data[:,3].reshape(data[:,3].shape[0],1)\n",
    "    v_star=data[:,4].reshape(data[:,4].shape[0],1)\n",
    "    p_star=data[:,5].reshape(data[:,5].shape[0],1)\n",
    "\n",
    "    Y_star=[u_star,v_star,p_star]\n",
    "\n",
    "    return X_star,Y_star"
   ]
  },
  {
   "cell_type": "code",
   "execution_count": 15,
   "id": "d0357f67",
   "metadata": {},
   "outputs": [],
   "source": [
    "# This snippet should be run for every time segment to obtain the predictions at each timestep in the specific timesegment\n",
    "\n",
    "def time_segments(time_step):\n",
    "    dt=0.1\n",
    "    steps=[]\n",
    "    for i in np.arange(round((time_step-1.0),3),round((time_step+dt),3),dt):\n",
    "        steps.append(round(i,3))\n",
    "\n",
    "    return steps\n",
    "\n",
    "def return_indexes(time_step):\n",
    "    idx=[]\n",
    "    dt=0.1\n",
    "    times=[round(i,3) for i in np.arange(0,7+dt,dt)]\n",
    "    segs=time_segments(time_step)\n",
    "\n",
    "    for i in range(len(segs)):\n",
    "        idx.append(times.index(segs[i]))\n",
    "\n",
    "    return idx"
   ]
  },
  {
   "cell_type": "markdown",
   "id": "61d7503b",
   "metadata": {},
   "source": [
    "# Function to save the predictions of each timestep in previous timesegments"
   ]
  },
  {
   "cell_type": "code",
   "execution_count": 16,
   "id": "cef1d551",
   "metadata": {},
   "outputs": [],
   "source": [
    "def read_prev_data(fileDr):\n",
    "    \n",
    "    with open(fileDr,'rb') as f:\n",
    "        pdata=pickle.load(f)\n",
    "    print(\"Previous predictions are loaded from pickle file\")\n",
    "    return pdata"
   ]
  },
  {
   "cell_type": "code",
   "execution_count": 17,
   "id": "1b938c06",
   "metadata": {},
   "outputs": [],
   "source": [
    "def save_prev_data(idx,fileDr,t,model):\n",
    "    if t == 1:\n",
    "        prev_data=np.empty(shape=(1,6))\n",
    "\n",
    "        for i in range(len(idx)):\n",
    "            xi,_=load_train_data(idx[i])\n",
    "            \n",
    "            upredi,vpredi,ppredi=model.predict(xi[0],xi[1],xi[2])\n",
    "            prev_data=np.append(prev_data,np.hstack((xi[0],xi[1],xi[2],upredi,vpredi,ppredi)),axis=0)\n",
    "\n",
    "        # Removing the first row of the array\n",
    "        prev_data=np.delete(prev_data,(0),axis=0)\n",
    "    \n",
    "    else:\n",
    "        # Reading from the previously stored data and appending \n",
    "        prev_data= read_prev_data(fileDr)\n",
    "        \n",
    "        # Appending the predictions for timesteps other than the first timestep \n",
    "        # for ex: excluding predictions for t=0.1 in the time segment [0.1,0.2]\n",
    "        for i in range(1,len(idx)):\n",
    "            xi,_=load_train_data(idx[i])\n",
    "            \n",
    "            upredi,vpredi,ppredi=model.predict(xi[0],xi[1],xi[2])\n",
    "            prev_data=np.append(prev_data,np.hstack((xi[0],xi[1],xi[2],upredi,vpredi,ppredi)),axis=0)\n",
    "        \n",
    "        \n",
    "    \n",
    "    with open(fileDr,'wb') as f:\n",
    "        pickle.dump(prev_data,f)\n",
    "        print(\"Previous predictions are saved in pickle file\")\n",
    "    "
   ]
  },
  {
   "cell_type": "markdown",
   "id": "a97903dc",
   "metadata": {},
   "source": [
    "# Run this Code segment to save the predictions at the final timestep of the segment"
   ]
  },
  {
   "cell_type": "code",
   "execution_count": 18,
   "id": "b97c7463",
   "metadata": {},
   "outputs": [],
   "source": [
    "'''\n",
    "Run this code to save the predictions of the model at the final timestep of \n",
    "the segment \n",
    "'''\n",
    "def save_uv_values(model,fileDr,time_step):\n",
    "    u=[]\n",
    "    v=[]\n",
    "    X_star,Y_star=load_testdata(time_step)\n",
    "    print(\"Saving the predictions for time step:\",np.unique(X_star[2]))\n",
    "    u_pred, v_pred, p_pred = model.predict(X_star[0],X_star[1],X_star[2])\n",
    "    \n",
    "    \n",
    "    with open(fileDr,'wb') as f:\n",
    "        pickle.dump([u_pred,v_pred,X_star[2]],f)\n",
    "        print(\"Predictions are saved in pickle file\")\n"
   ]
  },
  {
   "cell_type": "code",
   "execution_count": 19,
   "id": "ab2a38cf",
   "metadata": {},
   "outputs": [],
   "source": [
    "def read_uv_values(fileDr):\n",
    "    \n",
    "    with open(fileDr,'rb') as f:\n",
    "        u,v,t=pickle.load(f)\n",
    "    print(\"Predictions are loaded\")\n",
    "    return u,v,t"
   ]
  },
  {
   "cell_type": "markdown",
   "id": "388c7cb0",
   "metadata": {},
   "source": [
    "# Loading Gradients in a pickle file"
   ]
  },
  {
   "cell_type": "code",
   "execution_count": 20,
   "id": "d7611020",
   "metadata": {},
   "outputs": [],
   "source": [
    "def load_gradients(fileDr):\n",
    "    with open(fileDr,'rb') as f:\n",
    "        res,bcs,ics,dds=pickle.load(f)\n",
    "    print(\"Gradients are loaded\")\n",
    "    return res,bcs,ics,dds"
   ]
  },
  {
   "cell_type": "markdown",
   "id": "b9660104",
   "metadata": {},
   "source": [
    "# Loading adaptive weights"
   ]
  },
  {
   "cell_type": "code",
   "execution_count": 21,
   "id": "302e69ac",
   "metadata": {},
   "outputs": [],
   "source": [
    "def load_aws_1st(fileDr):\n",
    "    with open(fileDr,'rb') as f:\n",
    "        b,i,d=pickle.load(f)\n",
    "    print(\"Adaptive weights are loaded\")\n",
    "    return b,i,d"
   ]
  },
  {
   "cell_type": "code",
   "execution_count": 22,
   "id": "a596bf5e",
   "metadata": {},
   "outputs": [],
   "source": [
    "def load_aws_rest(fileDr):\n",
    "    with open(fileDr,'rb') as f:\n",
    "        b,i,d,p=pickle.load(f)\n",
    "    print(\"Adaptive weights are loaded\")\n",
    "    return b,i,d,p"
   ]
  },
  {
   "cell_type": "markdown",
   "id": "53b44999",
   "metadata": {},
   "source": [
    "# Creating a folder for the current experiment"
   ]
  },
  {
   "cell_type": "code",
   "execution_count": 23,
   "id": "01871c94",
   "metadata": {},
   "outputs": [],
   "source": [
    "def createFolder(directory):\n",
    "    try:\n",
    "        if not os.path.exists(directory):\n",
    "            os.makedirs(directory)\n",
    "    except OSError:\n",
    "        print ('Error: Creating directory. ' +  directory)"
   ]
  },
  {
   "cell_type": "markdown",
   "id": "c9ee4687",
   "metadata": {},
   "source": [
    "# Commence the initial training using standard PINN"
   ]
  },
  {
   "cell_type": "code",
   "execution_count": 24,
   "id": "18a3a66a",
   "metadata": {
    "scrolled": true
   },
   "outputs": [
    {
     "name": "stdout",
     "output_type": "stream",
     "text": [
      "################# Folders created! ##################\n",
      "Device mapping:\n",
      "/job:localhost/replica:0/task:0/device:GPU:0 -> device: 0, name: NVIDIA GeForce RTX 3060, pci bus id: 0000:01:00.0, compute capability: 8.6\n",
      "/job:localhost/replica:0/task:0/device:GPU:1 -> device: 1, name: NVIDIA GeForce RTX 3060, pci bus id: 0000:03:00.0, compute capability: 8.6\n",
      "\n"
     ]
    },
    {
     "data": {
      "text/html": [
       "wandb version 0.15.7 is available!  To upgrade, please run:\n",
       " $ pip install wandb --upgrade"
      ],
      "text/plain": [
       "<IPython.core.display.HTML object>"
      ]
     },
     "metadata": {},
     "output_type": "display_data"
    },
    {
     "data": {
      "text/html": [
       "Tracking run with wandb version 0.13.3"
      ],
      "text/plain": [
       "<IPython.core.display.HTML object>"
      ]
     },
     "metadata": {},
     "output_type": "display_data"
    },
    {
     "data": {
      "text/html": [
       "Run data is saved locally in <code>C:\\Users\\user1\\Downloads\\Vamsi_oe20s302\\Research work\\Final Cylinder notebooks\\Using_fixed_datasets\\Proposed Surrogate\\wandb\\run-20230801_133207-132xrw4e</code>"
      ],
      "text/plain": [
       "<IPython.core.display.HTML object>"
      ]
     },
     "metadata": {},
     "output_type": "display_data"
    },
    {
     "data": {
      "text/html": [
       "Syncing run <strong><a href=\"https://wandb.ai/vamsi_malineni6/fds_surr_96_checking_normalization/runs/132xrw4e\" target=\"_blank\">eager-disco-5</a></strong> to <a href=\"https://wandb.ai/vamsi_malineni6/fds_surr_96_checking_normalization\" target=\"_blank\">Weights & Biases</a> (<a href=\"https://wandb.me/run\" target=\"_blank\">docs</a>)<br/>"
      ],
      "text/plain": [
       "<IPython.core.display.HTML object>"
      ]
     },
     "metadata": {},
     "output_type": "display_data"
    },
    {
     "name": "stdout",
     "output_type": "stream",
     "text": [
      "epochs: 0, Loss: 3.481e-01, Time: 32.12\n",
      "epochs: 10, Loss: 1.691e-01, Time: 34.36\n",
      "epochs: 20, Loss: 7.582e-01, Time: 33.94\n",
      "epochs: 30, Loss: 2.183e+00, Time: 34.24\n",
      "epochs: 40, Loss: 2.333e+00, Time: 33.78\n",
      "epochs: 50, Loss: 4.833e+00, Time: 34.49\n",
      "epochs: 60, Loss: 5.589e+00, Time: 33.98\n",
      "epochs: 70, Loss: 4.237e+00, Time: 34.02\n",
      "epochs: 80, Loss: 2.049e+00, Time: 33.96\n",
      "epochs: 90, Loss: 4.773e-01, Time: 33.62\n",
      "epochs: 100, Loss: 2.521e-01, Time: 33.48\n",
      "epochs: 110, Loss: 1.405e-01, Time: 33.99\n",
      "epochs: 120, Loss: 1.055e-01, Time: 35.07\n",
      "epochs: 130, Loss: 9.920e-02, Time: 36.92\n",
      "epochs: 140, Loss: 1.707e-01, Time: 36.59\n",
      "epochs: 150, Loss: 5.152e-02, Time: 37.01\n",
      "epochs: 160, Loss: 5.907e-02, Time: 36.30\n",
      "epochs: 170, Loss: 5.075e-02, Time: 35.86\n",
      "epochs: 180, Loss: 4.187e-02, Time: 35.55\n",
      "epochs: 190, Loss: 3.547e-02, Time: 35.36\n",
      "epochs: 200, Loss: 6.829e-02, Time: 34.53\n",
      "epochs: 210, Loss: 5.197e-02, Time: 34.68\n",
      "epochs: 220, Loss: 3.312e-02, Time: 34.72\n",
      "epochs: 230, Loss: 3.078e-02, Time: 34.76\n",
      "epochs: 240, Loss: 2.083e-02, Time: 34.73\n",
      "epochs: 250, Loss: 3.264e-02, Time: 35.06\n",
      "epochs: 260, Loss: 2.048e-02, Time: 34.98\n",
      "epochs: 270, Loss: 2.502e-02, Time: 33.82\n",
      "epochs: 280, Loss: 2.017e-02, Time: 32.66\n",
      "epochs: 290, Loss: 3.397e-02, Time: 33.17\n",
      "epochs: 300, Loss: 2.655e-02, Time: 33.40\n",
      "epochs: 310, Loss: 2.201e-02, Time: 33.47\n",
      "epochs: 320, Loss: 2.713e-02, Time: 33.58\n",
      "epochs: 330, Loss: 8.007e-02, Time: 33.03\n",
      "epochs: 340, Loss: 1.748e-02, Time: 33.87\n",
      "epochs: 350, Loss: 1.800e-02, Time: 33.13\n",
      "epochs: 360, Loss: 3.025e-02, Time: 33.51\n",
      "epochs: 370, Loss: 1.473e-02, Time: 32.93\n",
      "epochs: 380, Loss: 2.673e-02, Time: 33.23\n",
      "epochs: 390, Loss: 3.775e-02, Time: 33.60\n",
      "epochs: 400, Loss: 3.321e-02, Time: 33.07\n",
      "epochs: 410, Loss: 4.323e-02, Time: 33.49\n",
      "epochs: 420, Loss: 2.487e-02, Time: 33.08\n",
      "epochs: 430, Loss: 1.792e-02, Time: 33.20\n",
      "epochs: 440, Loss: 3.837e-02, Time: 33.16\n",
      "epochs: 450, Loss: 2.020e-02, Time: 33.37\n",
      "epochs: 460, Loss: 1.501e-02, Time: 33.12\n",
      "epochs: 470, Loss: 1.227e-02, Time: 33.36\n",
      "epochs: 480, Loss: 2.936e-02, Time: 33.34\n",
      "epochs: 490, Loss: 3.260e-02, Time: 33.92\n",
      "epochs: 500, Loss: 1.659e-02, Time: 34.10\n",
      "epochs: 510, Loss: 1.875e-02, Time: 33.89\n",
      "epochs: 520, Loss: 2.239e-02, Time: 34.06\n",
      "epochs: 530, Loss: 1.569e-02, Time: 34.83\n",
      "epochs: 540, Loss: 1.730e-02, Time: 35.03\n",
      "epochs: 550, Loss: 1.198e-02, Time: 34.99\n",
      "epochs: 560, Loss: 8.718e-02, Time: 34.70\n",
      "epochs: 570, Loss: 1.395e-02, Time: 35.57\n",
      "epochs: 580, Loss: 1.139e-02, Time: 34.88\n",
      "epochs: 590, Loss: 1.559e-02, Time: 37.13\n",
      "epochs: 600, Loss: 1.207e-02, Time: 37.28\n",
      "epochs: 610, Loss: 1.550e-02, Time: 37.97\n",
      "epochs: 620, Loss: 2.240e-02, Time: 39.12\n",
      "epochs: 630, Loss: 1.753e-02, Time: 38.24\n",
      "epochs: 640, Loss: 1.980e-02, Time: 33.58\n",
      "epochs: 650, Loss: 1.024e-02, Time: 33.34\n",
      "epochs: 660, Loss: 1.176e-02, Time: 33.22\n",
      "epochs: 670, Loss: 2.557e-02, Time: 33.30\n",
      "epochs: 680, Loss: 2.092e-02, Time: 33.27\n",
      "epochs: 690, Loss: 3.000e-02, Time: 33.44\n",
      "epochs: 700, Loss: 1.448e-02, Time: 33.02\n",
      "epochs: 710, Loss: 2.762e-02, Time: 33.29\n",
      "epochs: 720, Loss: 1.212e-02, Time: 33.41\n",
      "epochs: 730, Loss: 2.010e-02, Time: 33.04\n",
      "epochs: 740, Loss: 1.064e-02, Time: 32.37\n",
      "epochs: 750, Loss: 1.992e-02, Time: 32.77\n",
      "epochs: 760, Loss: 3.430e-02, Time: 32.61\n",
      "epochs: 770, Loss: 1.127e-02, Time: 32.38\n",
      "epochs: 780, Loss: 2.272e-02, Time: 33.04\n",
      "epochs: 790, Loss: 1.049e-02, Time: 32.87\n",
      "epochs: 800, Loss: 3.380e-02, Time: 33.18\n",
      "epochs: 810, Loss: 9.930e-03, Time: 32.77\n",
      "epochs: 820, Loss: 1.298e-02, Time: 32.39\n",
      "epochs: 830, Loss: 1.921e-02, Time: 32.92\n",
      "epochs: 840, Loss: 1.369e-02, Time: 32.36\n",
      "epochs: 850, Loss: 1.080e-02, Time: 32.53\n",
      "epochs: 860, Loss: 2.650e-02, Time: 34.64\n",
      "epochs: 870, Loss: 1.027e-02, Time: 35.05\n",
      "epochs: 880, Loss: 1.252e-02, Time: 35.02\n",
      "epochs: 890, Loss: 3.335e-02, Time: 34.91\n",
      "epochs: 900, Loss: 2.103e-02, Time: 34.82\n",
      "epochs: 910, Loss: 1.417e-02, Time: 34.31\n",
      "epochs: 920, Loss: 1.658e-02, Time: 34.52\n",
      "epochs: 930, Loss: 9.946e-03, Time: 34.14\n",
      "epochs: 940, Loss: 3.147e-02, Time: 34.28\n",
      "epochs: 950, Loss: 9.720e-03, Time: 34.51\n",
      "epochs: 960, Loss: 1.605e-02, Time: 34.35\n",
      "epochs: 970, Loss: 9.568e-03, Time: 34.27\n",
      "epochs: 980, Loss: 7.996e-02, Time: 34.50\n",
      "epochs: 990, Loss: 2.095e-02, Time: 34.49\n",
      "Parameters are saved in pickle file\n",
      "Gradients are saved in pickle file\n",
      "Previous predictions are saved in pickle file\n",
      "Adaptive weights are saved in pickle file\n"
     ]
    }
   ],
   "source": [
    "import os\n",
    "if __name__ == \"__main__\":\n",
    "    '''\n",
    "This code snippet starts the standard pinn training for the first time segment (0,1] and the predictions for the intermediate\n",
    "time steps would be saved as a list of arrays in prev_data\n",
    "    '''\n",
    "    \n",
    "    N_train = 25000\n",
    "    batch_size=1000\n",
    "    Reynolds = 100\n",
    "    \n",
    "    depth = 10\n",
    "    \n",
    "    layers = [3]+(depth)*[100]+[3]\n",
    "    \n",
    "    time_step = 1\n",
    "    sparse_per= 1\n",
    "    sparse_ini=1\n",
    "    noise= 0\n",
    "    \n",
    "    datalist,lowb,upb=load_complete_data()\n",
    "    domain, initial, boundary, domain_data = load_data(time_step)\n",
    "\n",
    "    # Enter the names of the files :\n",
    "    '''\n",
    "    load_params : name of the file from where you want to load the weights and biases initially\n",
    "    params_name : name of the file where you want to save the weights and biases, incase of RESUMING TRAINING run this file\n",
    "    loss_name   : name of the file where you want to save the loss components\n",
    "    prev_name   : name of the file where you want to save the predictions of each time step in the segment\n",
    "    '''\n",
    "    \n",
    "    params_file = 'params_exp'\n",
    "    prev_file = 'prev_data_predictions_lts'\n",
    "    pred_file = 'uv_preds_lts_exp'\n",
    "    \n",
    "    weight_file='adaptive_weights'\n",
    "    grad_file = 'gradient_info_adaptive_'\n",
    "    grad_file = grad_file+str(time_step)\n",
    "\n",
    "    # create a folder only once; then send the path of the folder alone to the save_prev_data and save_uv_values function\n",
    "    # the path should be the source name along with the respective file name\n",
    " \n",
    "    #==========================================================================================================#\n",
    "     # Change the results_path and params_path accordingly\n",
    "    results_path = r'E:\\Vamsi_oe20s302\\Vamsi\\seq2seq learning\\RE100_mts_results\\Using_fixed_datasets'\n",
    "    params_path  = r'E:\\Vamsi_oe20s302\\Vamsi\\seq2seq learning\\Re100_mts_params\\Using_fixed_datasets'\n",
    " \n",
    "    #==========================================================================================================#\n",
    "    # Change the experiment name to create new folders as experiments\n",
    "    #==========================================================================================================#\n",
    "    exp_name='aw-cn-run1' \n",
    "    #==========================================================================================================#\n",
    " \n",
    "    # Joining the respective path and experiment name\n",
    "    results_path_plus_name = os.path.join(results_path,exp_name)\n",
    "    params_path_plus_name  = os.path.join(params_path,exp_name)\n",
    "\n",
    "    # creating folders for the current experiment in both results and params\n",
    "    createFolder(results_path_plus_name)\n",
    "    createFolder(params_path_plus_name)\n",
    "    print(\"################# Folders created! ##################\")\n",
    "    # Joining the final paths with file names, these must be sent to the functions\n",
    "    global params_name\n",
    "    global prev_name\n",
    "    global pred_name\n",
    "    global weight_name\n",
    "    \n",
    "    params_name = params_path_plus_name  + '/'  + params_file \n",
    "    prev_name   = results_path_plus_name + '/'  + prev_file\n",
    "    pred_name   = results_path_plus_name + '/'  + pred_file \n",
    "    grad_name   = results_path_plus_name + '/'  + grad_file \n",
    "    weight_name = results_path_plus_name + '/'  + weight_file\n",
    "    \n",
    "    #==========================================================================================================#\n",
    "    # Start Training\n",
    "    #==========================================================================================================#\n",
    "   \n",
    "    with tf.device('/gpu:0'):\n",
    "        \n",
    "        # Loading the previously trained model\n",
    "        model = bc_pinn_t0(domain,initial,boundary,domain_data,datalist,lowb,upb,N_train,batch_size,\n",
    "                           layers,re=Reynolds,\n",
    "                           load_model=False,filedr='',\n",
    "                           timestep=time_step,\n",
    "                           savewandb=params_name,saveloss='',gradname=grad_name)\n",
    "        \n",
    "        wandb.init(entity=entity_name,project=project_name)\n",
    "        name_run= str(time_step)+\"-run1\"\n",
    "        wandb.run.name=name_run\n",
    "        \n",
    "        model.Adam_train(1000, 1e-3)\n",
    "#         model.Adam_train(00, 1e-4)\n",
    "        model.save_parameters(params_name)\n",
    "        \n",
    "        # Saving the gradients in a differnt file\n",
    "        model.save_gradients(model.tf_dict)\n",
    "        model.save_gradients_infile(model.gradient_name)\n",
    "        \n",
    "        # Saving the predictions at each time steps of the timesegment \n",
    "        idx=return_indexes(time_step)\n",
    "        save_prev_data(idx,prev_name,time_step,model)\n",
    "        \n",
    "#         # Saving the u and v predictions of the final time steps of the timesegment\n",
    "#         save_uv_values(model,pred_name,time_step)\n",
    "        \n",
    "        # Saving the adaptive weighting coefficient values in a pickle file\n",
    "        model.save_weights(weight_name)"
   ]
  },
  {
   "cell_type": "code",
   "execution_count": 23,
   "id": "e1a17225",
   "metadata": {},
   "outputs": [
    {
     "name": "stdout",
     "output_type": "stream",
     "text": [
      "Adaptive weights are saved in pickle file\n"
     ]
    }
   ],
   "source": [
    "# Saving the adaptive weighting coefficient values in a pickle file\n",
    "model.save_weights(weight_name)"
   ]
  },
  {
   "cell_type": "code",
   "execution_count": 18,
   "id": "5482f262",
   "metadata": {},
   "outputs": [],
   "source": [
    "params_file = 'params_exp'\n",
    "prev_file = 'prev_data_predictions_lts'\n",
    "pred_file = 'uv_preds_lts_exp'\n",
    "\n",
    "error_file = 'sparse_mi_1d_errors_ex'\n",
    "grad_file = 'gradient_info_adaptive_'\n",
    "grad_file = grad_file+str(0)\n",
    "\n",
    "# create a folder only once; then send the path of the folder alone to the save_prev_data and save_uv_values function\n",
    "# the path should be the source name along with the respective file name\n",
    "#==========================================================================================================#\n",
    " # Change the results_path and params_path accordingly\n",
    "results_path = r'E:\\Vamsi_oe20s302\\Vamsi\\seq2seq learning\\RE100_mts_results\\Using_fixed_datasets'\n",
    "params_path  = r'E:\\Vamsi_oe20s302\\Vamsi\\seq2seq learning\\Re100_mts_params\\Using_fixed_datasets'\n",
    "\n",
    "#==========================================================================================================#\n",
    "# Change the experiment name to create new folders as experiments\n",
    "#==========================================================================================================#\n",
    "exp_name='aw-fin-exp1'\n",
    "#==========================================================================================================#\n",
    "\n",
    "# Joining the respective path and experiment name\n",
    "results_path_plus_name = os.path.join(results_path,exp_name)\n",
    "params_path_plus_name  = os.path.join(params_path,exp_name)\n",
    "\n",
    "# Joining the final paths with file names, these must be sent to the functions\n",
    "global params_name\n",
    "global prev_name\n",
    "global pred_name\n",
    "\n",
    "params_name = params_path_plus_name  + '/'  + params_file \n",
    "prev_name   = results_path_plus_name + '/'  + prev_file\n",
    "pred_name   = results_path_plus_name + '/'  + pred_file \n",
    "error_name  = results_path_plus_name + '/'  + error_file \n",
    "grad_name   = results_path_plus_name + '/'  + grad_file \n",
    "weight_file='adaptive_weights'\n",
    "\n",
    "weight_name = results_path_plus_name + '/'  + weight_file\n",
    "datalist,lowb,upb=load_complete_data()\n"
   ]
  },
  {
   "cell_type": "markdown",
   "id": "914993ec",
   "metadata": {},
   "source": [
    "# Start the training for the next timesegments"
   ]
  },
  {
   "cell_type": "code",
   "execution_count": 26,
   "id": "30a075e4",
   "metadata": {
    "scrolled": true
   },
   "outputs": [
    {
     "name": "stdout",
     "output_type": "stream",
     "text": [
      "Adaptive weights are loaded\n"
     ]
    },
    {
     "data": {
      "text/html": [
       "Finishing last run (ID:132xrw4e) before initializing another..."
      ],
      "text/plain": [
       "<IPython.core.display.HTML object>"
      ]
     },
     "metadata": {},
     "output_type": "display_data"
    },
    {
     "data": {
      "text/html": [
       "Waiting for W&B process to finish... <strong style=\"color:green\">(success).</strong>"
      ],
      "text/plain": [
       "<IPython.core.display.HTML object>"
      ]
     },
     "metadata": {},
     "output_type": "display_data"
    },
    {
     "data": {
      "application/vnd.jupyter.widget-view+json": {
       "model_id": "",
       "version_major": 2,
       "version_minor": 0
      },
      "text/plain": [
       "VBox(children=(Label(value='0.001 MB of 0.001 MB uploaded (0.000 MB deduped)\\r'), FloatProgress(value=1.0, max…"
      ]
     },
     "metadata": {},
     "output_type": "display_data"
    },
    {
     "data": {
      "text/html": [
       "<style>\n",
       "    table.wandb td:nth-child(1) { padding: 0 10px; text-align: left ; width: auto;} td:nth-child(2) {text-align: left ; width: 100%}\n",
       "    .wandb-row { display: flex; flex-direction: row; flex-wrap: wrap; justify-content: flex-start; width: 100% }\n",
       "    .wandb-col { display: flex; flex-direction: column; flex-basis: 100%; flex: 1; padding: 10px; }\n",
       "    </style>\n",
       "<div class=\"wandb-row\"><div class=\"wandb-col\"><h3>Run history:</h3><br/><table class=\"wandb\"><tr><td>BCS adaptive constant</td><td>▁▂▆▇▆▆▆▆▆▆▆▆▆▆▆▇▇▆▆▆▆▇█▇▇▇█▇▇▇▇▇██▇▇▇▇██</td></tr><tr><td>Boundary_loss</td><td>▂▂█▅▁▁▁▁▁▁▁▁▁▁▁▁▁▁▁▁▁▁▁▁▁▁▁▁▁▁▁▁▁▁▁▁▁▁▁▁</td></tr><tr><td>DDS adaptive constant</td><td>▁▃▇▇▆▆▆▇▆▆▆▆▆▆▆▆▆▆▆▆▆▇▇▆▇▇▇▇▇▇▇▇███▇▇▇██</td></tr><tr><td>Data_loss</td><td>▁▂▇█▁▁▁▁▁▁▁▁▁▁▁▁▁▁▁▁▁▁▁▁▁▁▁▁▁▁▁▁▁▁▁▁▁▁▁▁</td></tr><tr><td>ICS adaptive constant</td><td>▁▂▆▆▅▅▅▆▅▆▆▇▇▆▆▇▆▆▆▆▆▇▇▇▇▇███▇▇▇███▇█▇██</td></tr><tr><td>Initial_loss</td><td>▂▃█▂▁▁▁▁▁▁▁▁▁▁▁▁▁▁▁▁▁▁▁▁▁▁▁▁▁▁▁▁▁▁▁▁▁▁▁▁</td></tr><tr><td>Residual_loss</td><td>▁▁▄█▂▂▁▁▁▁▁▁▁▁▁▁▁▁▁▁▁▁▁▁▁▁▁▁▁▁▁▁▁▁▁▁▁▁▁▁</td></tr><tr><td>Total_loss</td><td>▁▂█▇▁▁▁▁▁▁▁▁▁▁▁▁▁▁▁▁▁▁▁▁▁▁▁▁▁▁▁▁▁▁▁▁▁▁▁▁</td></tr><tr><td>time step 1</td><td>█▄▄▄▂▁▁▁▁▁▁▁▁▁▁▁▁▁▁▁▁▁▁▁▁▁▁▁▁▁▁▁▁▁▁▁▁▁▁▁</td></tr></table><br/></div><div class=\"wandb-col\"><h3>Run summary:</h3><br/><table class=\"wandb\"><tr><td>BCS adaptive constant</td><td>76.3436</td></tr><tr><td>Boundary_loss</td><td>0.00194</td></tr><tr><td>DDS adaptive constant</td><td>70.48564</td></tr><tr><td>Data_loss</td><td>0.00865</td></tr><tr><td>ICS adaptive constant</td><td>59.20304</td></tr><tr><td>Initial_loss</td><td>0.00451</td></tr><tr><td>Residual_loss</td><td>0.00584</td></tr><tr><td>Total_loss</td><td>0.02095</td></tr><tr><td>time step 1</td><td>0.01208</td></tr></table><br/></div></div>"
      ],
      "text/plain": [
       "<IPython.core.display.HTML object>"
      ]
     },
     "metadata": {},
     "output_type": "display_data"
    },
    {
     "data": {
      "text/html": [
       "Synced <strong style=\"color:#cdcd00\">eager-disco-5</strong>: <a href=\"https://wandb.ai/vamsi_malineni6/fds_surr_96_checking_normalization/runs/132xrw4e\" target=\"_blank\">https://wandb.ai/vamsi_malineni6/fds_surr_96_checking_normalization/runs/132xrw4e</a><br/>Synced 5 W&B file(s), 0 media file(s), 0 artifact file(s) and 0 other file(s)"
      ],
      "text/plain": [
       "<IPython.core.display.HTML object>"
      ]
     },
     "metadata": {},
     "output_type": "display_data"
    },
    {
     "data": {
      "text/html": [
       "Find logs at: <code>.\\wandb\\run-20230801_133207-132xrw4e\\logs</code>"
      ],
      "text/plain": [
       "<IPython.core.display.HTML object>"
      ]
     },
     "metadata": {},
     "output_type": "display_data"
    },
    {
     "data": {
      "text/html": [
       "Successfully finished last run (ID:132xrw4e). Initializing new run:<br/>"
      ],
      "text/plain": [
       "<IPython.core.display.HTML object>"
      ]
     },
     "metadata": {},
     "output_type": "display_data"
    },
    {
     "data": {
      "application/vnd.jupyter.widget-view+json": {
       "model_id": "f6f2998388914dc98f54b9712047e2c5",
       "version_major": 2,
       "version_minor": 0
      },
      "text/plain": [
       "VBox(children=(Label(value='Waiting for wandb.init()...\\r'), FloatProgress(value=0.03381202220916748, max=1.0)…"
      ]
     },
     "metadata": {},
     "output_type": "display_data"
    },
    {
     "data": {
      "text/html": [
       "wandb version 0.15.7 is available!  To upgrade, please run:\n",
       " $ pip install wandb --upgrade"
      ],
      "text/plain": [
       "<IPython.core.display.HTML object>"
      ]
     },
     "metadata": {},
     "output_type": "display_data"
    },
    {
     "data": {
      "text/html": [
       "Tracking run with wandb version 0.13.3"
      ],
      "text/plain": [
       "<IPython.core.display.HTML object>"
      ]
     },
     "metadata": {},
     "output_type": "display_data"
    },
    {
     "data": {
      "text/html": [
       "Run data is saved locally in <code>C:\\Users\\user1\\Downloads\\Vamsi_oe20s302\\Research work\\Final Cylinder notebooks\\Using_fixed_datasets\\Proposed Surrogate\\wandb\\run-20230801_143752-as6qyqp2</code>"
      ],
      "text/plain": [
       "<IPython.core.display.HTML object>"
      ]
     },
     "metadata": {},
     "output_type": "display_data"
    },
    {
     "data": {
      "text/html": [
       "Syncing run <strong><a href=\"https://wandb.ai/vamsi_malineni6/fds_surr_96_checking_normalization/runs/as6qyqp2\" target=\"_blank\">efficient-sea-6</a></strong> to <a href=\"https://wandb.ai/vamsi_malineni6/fds_surr_96_checking_normalization\" target=\"_blank\">Weights & Biases</a> (<a href=\"https://wandb.me/run\" target=\"_blank\">docs</a>)<br/>"
      ],
      "text/plain": [
       "<IPython.core.display.HTML object>"
      ]
     },
     "metadata": {},
     "output_type": "display_data"
    },
    {
     "name": "stdout",
     "output_type": "stream",
     "text": [
      "Previous predictions are loaded from pickle file\n",
      "Parameters are loaded succesffuly\n",
      "Device mapping:\n",
      "/job:localhost/replica:0/task:0/device:GPU:0 -> device: 0, name: NVIDIA GeForce RTX 3060, pci bus id: 0000:01:00.0, compute capability: 8.6\n",
      "/job:localhost/replica:0/task:0/device:GPU:1 -> device: 1, name: NVIDIA GeForce RTX 3060, pci bus id: 0000:03:00.0, compute capability: 8.6\n",
      "\n",
      "===============================================================================================\n",
      "Commencing training for the timesegment:( 1 2 ] \n",
      "===============================================================================================\n",
      "epochs: 0, Loss: 2.210e+00, Time: 49.77\n",
      "epochs: 10, Loss: 2.393e-01, Time: 34.93\n",
      "epochs: 20, Loss: 1.933e-01, Time: 34.96\n",
      "epochs: 30, Loss: 6.240e-02, Time: 35.62\n",
      "epochs: 40, Loss: 3.182e-02, Time: 35.08\n",
      "epochs: 50, Loss: 1.364e-01, Time: 34.86\n",
      "epochs: 60, Loss: 6.432e-02, Time: 34.89\n",
      "epochs: 70, Loss: 3.270e-02, Time: 35.71\n",
      "epochs: 80, Loss: 2.495e-02, Time: 35.57\n",
      "epochs: 90, Loss: 2.449e-02, Time: 35.85\n",
      "epochs: 100, Loss: 1.691e-02, Time: 35.46\n",
      "epochs: 110, Loss: 2.409e-02, Time: 35.47\n",
      "epochs: 120, Loss: 2.001e-02, Time: 35.17\n",
      "epochs: 130, Loss: 4.575e-02, Time: 34.89\n",
      "epochs: 140, Loss: 1.483e-01, Time: 37.63\n",
      "epochs: 150, Loss: 2.297e-02, Time: 36.96\n",
      "epochs: 160, Loss: 1.921e-02, Time: 37.44\n",
      "epochs: 170, Loss: 1.326e-02, Time: 37.30\n",
      "epochs: 180, Loss: 1.385e-02, Time: 36.90\n",
      "epochs: 190, Loss: 1.660e-02, Time: 37.18\n",
      "epochs: 200, Loss: 2.670e-02, Time: 37.04\n",
      "epochs: 210, Loss: 1.195e-02, Time: 36.69\n",
      "epochs: 220, Loss: 1.328e-02, Time: 36.71\n",
      "epochs: 230, Loss: 5.116e-02, Time: 36.98\n",
      "epochs: 240, Loss: 1.377e-02, Time: 37.01\n",
      "epochs: 250, Loss: 8.966e-03, Time: 36.58\n",
      "epochs: 260, Loss: 3.298e-02, Time: 36.90\n",
      "epochs: 270, Loss: 2.806e-02, Time: 36.57\n",
      "epochs: 280, Loss: 1.495e-02, Time: 35.70\n",
      "epochs: 290, Loss: 2.216e-02, Time: 35.07\n",
      "epochs: 0, Loss: 2.601e-02, Time: 3.55\n",
      "epochs: 10, Loss: 6.041e-03, Time: 35.12\n",
      "epochs: 20, Loss: 6.738e-03, Time: 35.92\n",
      "epochs: 30, Loss: 7.986e-03, Time: 35.97\n",
      "epochs: 40, Loss: 8.313e-03, Time: 35.40\n",
      "epochs: 50, Loss: 8.072e-03, Time: 35.15\n",
      "epochs: 60, Loss: 8.214e-03, Time: 35.35\n",
      "epochs: 70, Loss: 8.282e-03, Time: 34.79\n",
      "epochs: 80, Loss: 8.643e-03, Time: 35.12\n",
      "epochs: 90, Loss: 8.838e-03, Time: 35.11\n",
      "epochs: 100, Loss: 8.455e-03, Time: 35.34\n",
      "epochs: 110, Loss: 8.391e-03, Time: 35.06\n",
      "epochs: 120, Loss: 8.084e-03, Time: 36.19\n",
      "epochs: 130, Loss: 7.934e-03, Time: 36.63\n",
      "epochs: 140, Loss: 7.933e-03, Time: 37.17\n",
      "epochs: 150, Loss: 7.963e-03, Time: 36.45\n",
      "epochs: 160, Loss: 8.039e-03, Time: 36.01\n",
      "epochs: 170, Loss: 7.734e-03, Time: 35.76\n",
      "epochs: 180, Loss: 8.166e-03, Time: 36.53\n",
      "epochs: 190, Loss: 8.016e-03, Time: 36.49\n",
      "88.57904013871654\n",
      "90.1120155293422\n",
      "64.57146325194675\n",
      "92.76642870403224\n",
      "Adaptive weights are saved in pickle file\n",
      "Parameters are saved in pickle file\n",
      "Gradients are saved in pickle file\n",
      "Previous predictions are loaded from pickle file\n"
     ]
    },
    {
     "name": "stderr",
     "output_type": "stream",
     "text": [
      "\u001b[34m\u001b[1mwandb\u001b[0m: \u001b[33mWARNING\u001b[0m Calling wandb.run.save without any arguments is deprecated.Changes to attributes are automatically persisted.\n"
     ]
    },
    {
     "name": "stdout",
     "output_type": "stream",
     "text": [
      "Previous predictions are saved in pickle file\n"
     ]
    },
    {
     "data": {
      "text/html": [
       "Waiting for W&B process to finish... <strong style=\"color:green\">(success).</strong>"
      ],
      "text/plain": [
       "<IPython.core.display.HTML object>"
      ]
     },
     "metadata": {},
     "output_type": "display_data"
    },
    {
     "data": {
      "application/vnd.jupyter.widget-view+json": {
       "model_id": "",
       "version_major": 2,
       "version_minor": 0
      },
      "text/plain": [
       "VBox(children=(Label(value='0.001 MB of 0.001 MB uploaded (0.000 MB deduped)\\r'), FloatProgress(value=1.0, max…"
      ]
     },
     "metadata": {},
     "output_type": "display_data"
    },
    {
     "data": {
      "text/html": [
       "<style>\n",
       "    table.wandb td:nth-child(1) { padding: 0 10px; text-align: left ; width: auto;} td:nth-child(2) {text-align: left ; width: 100%}\n",
       "    .wandb-row { display: flex; flex-direction: row; flex-wrap: wrap; justify-content: flex-start; width: 100% }\n",
       "    .wandb-col { display: flex; flex-direction: column; flex-basis: 100%; flex: 1; padding: 10px; }\n",
       "    </style>\n",
       "<div class=\"wandb-row\"><div class=\"wandb-col\"><h3>Run history:</h3><br/><table class=\"wandb\"><tr><td>BCS adaptive constant</td><td>▄▄▃▃▂▂▂▂▂▂▂▁▁▁▁▁▁▂▂▂▃▃▂▃▂▄▆▆▇▇██▆▇▇▆▇▆▆▆</td></tr><tr><td>Boundary_loss</td><td>█▁▁▁▁▁▁▁▁▁▁▁▁▁▁▁▁▁▁▁▁▁▁▁▁▁▁▁▁▁▁▁▁▁▁▁▁▁▁▁</td></tr><tr><td>DDS adaptive constant</td><td>▆▅▄▄▃▃▂▂▂▂▂▂▁▁▃▂▁▁▁▁▃▂▂▂▁▃▆▆▆▇██▇█▇▇▇▇▆▆</td></tr><tr><td>Data_loss</td><td>█▁▁▁▁▁▁▁▁▁▁▁▁▁▁▁▁▁▁▁▁▁▁▁▁▁▁▁▁▁▁▁▁▁▁▁▁▁▁▁</td></tr><tr><td>ICS adaptive constant</td><td>▂▂▁▁▁▁▁▂▂▂▂▂▂▂▂▂▂▂▂▂▂▂▂▂▁▄▇▇▇▇███▇▇▇▆▆▆▅</td></tr><tr><td>Initial_loss</td><td>█▃▅▂▄▂▂▁▁▁▁▂▁▁▁▁▂▁▁▃▁▂▂▁▂▁▁▁▁▁▁▁▁▁▁▁▁▁▁▁</td></tr><tr><td>PDS adaptive constant</td><td>█▇▆▆▅▄▄▃▃▃▃▃▂▂▂▂▂▂▂▂▂▁▁▁▁▂▂▂▃▃▃▃▃▃▃▃▃▂▂▂</td></tr><tr><td>Previous_loss</td><td>▁▇█▂▆▂▂▁▁▁▁▂▁▁▁▁▁▁▁▃▁▂▂▁▂▁▁▁▁▁▁▁▁▁▁▁▁▁▁▁</td></tr><tr><td>Residual_loss</td><td>█▃▂▂▂▁▁▁▁▁▁▁▁▁▁▁▁▁▁▁▁▁▁▁▁▁▁▁▁▁▁▁▁▁▁▁▁▁▁▁</td></tr><tr><td>Total_loss</td><td>█▂▂▁▁▁▁▁▁▁▁▁▁▁▁▁▁▁▁▁▁▁▁▁▁▁▁▁▁▁▁▁▁▁▁▁▁▁▁▁</td></tr><tr><td>time step 1</td><td>█▃▂▁▂▂▂▁▁▁▁▂▁▁▁▁▁▁▁▃▁▁▁▁▁▁▁▁▁▁▁▁▁▁▁▁▁▁▁▁</td></tr></table><br/></div><div class=\"wandb-col\"><h3>Run summary:</h3><br/><table class=\"wandb\"><tr><td>BCS adaptive constant</td><td>90.11202</td></tr><tr><td>Boundary_loss</td><td>8e-05</td></tr><tr><td>DDS adaptive constant</td><td>64.57146</td></tr><tr><td>Data_loss</td><td>0.00542</td></tr><tr><td>ICS adaptive constant</td><td>88.57904</td></tr><tr><td>Initial_loss</td><td>0.00022</td></tr><tr><td>PDS adaptive constant</td><td>92.76643</td></tr><tr><td>Previous_loss</td><td>0.00045</td></tr><tr><td>Residual_loss</td><td>0.00184</td></tr><tr><td>Total_loss</td><td>0.00802</td></tr><tr><td>time step 1</td><td>0.0106</td></tr></table><br/></div></div>"
      ],
      "text/plain": [
       "<IPython.core.display.HTML object>"
      ]
     },
     "metadata": {},
     "output_type": "display_data"
    },
    {
     "data": {
      "text/html": [
       "Synced <strong style=\"color:#cdcd00\">efficient-sea-6</strong>: <a href=\"https://wandb.ai/vamsi_malineni6/fds_surr_96_checking_normalization/runs/as6qyqp2\" target=\"_blank\">https://wandb.ai/vamsi_malineni6/fds_surr_96_checking_normalization/runs/as6qyqp2</a><br/>Synced 5 W&B file(s), 0 media file(s), 0 artifact file(s) and 0 other file(s)"
      ],
      "text/plain": [
       "<IPython.core.display.HTML object>"
      ]
     },
     "metadata": {},
     "output_type": "display_data"
    },
    {
     "data": {
      "text/html": [
       "Find logs at: <code>.\\wandb\\run-20230801_143752-as6qyqp2\\logs</code>"
      ],
      "text/plain": [
       "<IPython.core.display.HTML object>"
      ]
     },
     "metadata": {},
     "output_type": "display_data"
    },
    {
     "name": "stdout",
     "output_type": "stream",
     "text": [
      "Adaptive weights are loaded\n"
     ]
    },
    {
     "data": {
      "application/vnd.jupyter.widget-view+json": {
       "model_id": "36d0194d5f8c40acbeaa9bc329a9fe1d",
       "version_major": 2,
       "version_minor": 0
      },
      "text/plain": [
       "VBox(children=(Label(value='Waiting for wandb.init()...\\r'), FloatProgress(value=0.03347246646881104, max=1.0)…"
      ]
     },
     "metadata": {},
     "output_type": "display_data"
    },
    {
     "data": {
      "text/html": [
       "wandb version 0.15.7 is available!  To upgrade, please run:\n",
       " $ pip install wandb --upgrade"
      ],
      "text/plain": [
       "<IPython.core.display.HTML object>"
      ]
     },
     "metadata": {},
     "output_type": "display_data"
    },
    {
     "data": {
      "text/html": [
       "Tracking run with wandb version 0.13.3"
      ],
      "text/plain": [
       "<IPython.core.display.HTML object>"
      ]
     },
     "metadata": {},
     "output_type": "display_data"
    },
    {
     "data": {
      "text/html": [
       "Run data is saved locally in <code>C:\\Users\\user1\\Downloads\\Vamsi_oe20s302\\Research work\\Final Cylinder notebooks\\Using_fixed_datasets\\Proposed Surrogate\\wandb\\run-20230801_151449-133w677v</code>"
      ],
      "text/plain": [
       "<IPython.core.display.HTML object>"
      ]
     },
     "metadata": {},
     "output_type": "display_data"
    },
    {
     "data": {
      "text/html": [
       "Syncing run <strong><a href=\"https://wandb.ai/vamsi_malineni6/fds_surr_96_checking_normalization/runs/133w677v\" target=\"_blank\">autumn-donkey-7</a></strong> to <a href=\"https://wandb.ai/vamsi_malineni6/fds_surr_96_checking_normalization\" target=\"_blank\">Weights & Biases</a> (<a href=\"https://wandb.me/run\" target=\"_blank\">docs</a>)<br/>"
      ],
      "text/plain": [
       "<IPython.core.display.HTML object>"
      ]
     },
     "metadata": {},
     "output_type": "display_data"
    },
    {
     "name": "stdout",
     "output_type": "stream",
     "text": [
      "Previous predictions are loaded from pickle file\n",
      "Parameters are loaded succesffuly\n",
      "Device mapping:\n",
      "/job:localhost/replica:0/task:0/device:GPU:0 -> device: 0, name: NVIDIA GeForce RTX 3060, pci bus id: 0000:01:00.0, compute capability: 8.6\n",
      "/job:localhost/replica:0/task:0/device:GPU:1 -> device: 1, name: NVIDIA GeForce RTX 3060, pci bus id: 0000:03:00.0, compute capability: 8.6\n",
      "\n",
      "===============================================================================================\n",
      "Commencing training for the timesegment:( 2 3 ] \n",
      "===============================================================================================\n",
      "epochs: 0, Loss: 4.953e+00, Time: 80.72\n",
      "epochs: 10, Loss: 4.884e-01, Time: 35.82\n",
      "epochs: 20, Loss: 1.712e-01, Time: 36.49\n",
      "epochs: 30, Loss: 1.663e-01, Time: 36.56\n",
      "epochs: 40, Loss: 1.294e-01, Time: 36.51\n",
      "epochs: 50, Loss: 1.099e-01, Time: 35.92\n",
      "epochs: 60, Loss: 2.420e-01, Time: 36.13\n",
      "epochs: 70, Loss: 1.687e-01, Time: 36.14\n",
      "epochs: 80, Loss: 5.786e-02, Time: 36.42\n",
      "epochs: 90, Loss: 6.391e-02, Time: 36.63\n",
      "epochs: 100, Loss: 5.258e-02, Time: 36.64\n",
      "epochs: 110, Loss: 5.794e-02, Time: 36.84\n",
      "epochs: 120, Loss: 8.036e-02, Time: 36.67\n",
      "epochs: 130, Loss: 5.810e-02, Time: 36.49\n",
      "epochs: 140, Loss: 9.401e-02, Time: 37.38\n",
      "epochs: 150, Loss: 3.584e-02, Time: 37.04\n",
      "epochs: 160, Loss: 4.237e-02, Time: 36.88\n",
      "epochs: 170, Loss: 6.460e-02, Time: 37.15\n",
      "epochs: 180, Loss: 3.830e-02, Time: 36.85\n",
      "epochs: 190, Loss: 3.284e-02, Time: 37.49\n",
      "epochs: 200, Loss: 2.498e-02, Time: 38.81\n",
      "epochs: 210, Loss: 3.148e-02, Time: 38.83\n",
      "epochs: 220, Loss: 7.900e-02, Time: 39.28\n",
      "epochs: 230, Loss: 5.188e-02, Time: 39.45\n",
      "epochs: 240, Loss: 2.137e-02, Time: 39.08\n",
      "epochs: 250, Loss: 1.792e-01, Time: 39.14\n",
      "epochs: 260, Loss: 7.894e-02, Time: 38.05\n",
      "epochs: 270, Loss: 7.366e-02, Time: 36.01\n",
      "epochs: 280, Loss: 3.639e-02, Time: 35.94\n",
      "epochs: 290, Loss: 3.150e-02, Time: 35.80\n",
      "epochs: 0, Loss: 1.673e-02, Time: 3.58\n",
      "epochs: 10, Loss: 1.543e-02, Time: 35.80\n",
      "epochs: 20, Loss: 1.518e-02, Time: 36.02\n",
      "epochs: 30, Loss: 1.789e-02, Time: 35.96\n",
      "epochs: 40, Loss: 1.761e-02, Time: 37.61\n",
      "epochs: 50, Loss: 1.751e-02, Time: 38.34\n",
      "epochs: 60, Loss: 1.757e-02, Time: 37.78\n",
      "epochs: 70, Loss: 1.737e-02, Time: 37.12\n",
      "epochs: 80, Loss: 1.747e-02, Time: 36.92\n",
      "epochs: 90, Loss: 1.726e-02, Time: 37.15\n",
      "epochs: 100, Loss: 1.709e-02, Time: 37.38\n",
      "epochs: 110, Loss: 1.616e-02, Time: 37.69\n",
      "epochs: 120, Loss: 1.638e-02, Time: 37.05\n",
      "epochs: 130, Loss: 1.668e-02, Time: 36.64\n",
      "epochs: 140, Loss: 1.751e-02, Time: 37.01\n",
      "epochs: 150, Loss: 1.606e-02, Time: 36.77\n",
      "epochs: 160, Loss: 1.725e-02, Time: 36.68\n",
      "epochs: 170, Loss: 1.513e-02, Time: 36.64\n",
      "epochs: 180, Loss: 1.452e-02, Time: 36.33\n",
      "epochs: 190, Loss: 1.549e-02, Time: 36.65\n",
      "112.47554852508267\n",
      "89.51993519242006\n",
      "70.92608837038146\n",
      "185.18817821803742\n",
      "Adaptive weights are saved in pickle file\n",
      "Parameters are saved in pickle file\n",
      "Gradients are saved in pickle file\n",
      "Previous predictions are loaded from pickle file\n",
      "Previous predictions are saved in pickle file\n"
     ]
    },
    {
     "data": {
      "text/html": [
       "Waiting for W&B process to finish... <strong style=\"color:green\">(success).</strong>"
      ],
      "text/plain": [
       "<IPython.core.display.HTML object>"
      ]
     },
     "metadata": {},
     "output_type": "display_data"
    },
    {
     "data": {
      "application/vnd.jupyter.widget-view+json": {
       "model_id": "",
       "version_major": 2,
       "version_minor": 0
      },
      "text/plain": [
       "VBox(children=(Label(value='0.001 MB of 0.001 MB uploaded (0.000 MB deduped)\\r'), FloatProgress(value=1.0, max…"
      ]
     },
     "metadata": {},
     "output_type": "display_data"
    },
    {
     "data": {
      "text/html": [
       "<style>\n",
       "    table.wandb td:nth-child(1) { padding: 0 10px; text-align: left ; width: auto;} td:nth-child(2) {text-align: left ; width: 100%}\n",
       "    .wandb-row { display: flex; flex-direction: row; flex-wrap: wrap; justify-content: flex-start; width: 100% }\n",
       "    .wandb-col { display: flex; flex-direction: column; flex-basis: 100%; flex: 1; padding: 10px; }\n",
       "    </style>\n",
       "<div class=\"wandb-row\"><div class=\"wandb-col\"><h3>Run history:</h3><br/><table class=\"wandb\"><tr><td>BCS adaptive constant</td><td>▅▄▄▃▃▂▂▂▂▂▂▂▁▁▁▁▂▂▂▂▂▂▁▁▄▆▆▆▇██▇▆▆▆▅▅▅▆▆</td></tr><tr><td>Boundary_loss</td><td>█▁▁▁▁▁▁▁▁▁▁▁▁▁▁▁▁▁▁▁▁▁▁▁▁▁▁▁▁▁▁▁▁▁▁▁▁▁▁▁</td></tr><tr><td>DDS adaptive constant</td><td>▅▅▄▃▄▄▃▃▃▃▃▂▂▁▂▂▁▁▁▂▂▂▁▁▄▅▆▇▇████▇▇▇▇▇▇▇</td></tr><tr><td>Data_loss</td><td>█▂▁▁▁▁▁▁▁▁▁▁▁▁▁▁▁▁▁▁▁▁▁▁▁▁▁▁▁▁▁▁▁▁▁▁▁▁▁▁</td></tr><tr><td>ICS adaptive constant</td><td>▃▃▃▃▄▄▃▃▃▅▅▄▃▃▂▂▁▁▁▂▂▁▁▁▃▅▆█▇▇▇▇▇▆▆▆▆▆▆▆</td></tr><tr><td>Initial_loss</td><td>█▁▁▁▁▂▂▁▁▁▁▁▁▁▁▁▁▁▁▁▂▁▁▁▁▁▁▁▁▁▁▁▁▁▁▁▁▁▁▁</td></tr><tr><td>PDS adaptive constant</td><td>▁▂▃▄▅▅▅▅▆▇█▇▆▅▅▅▄▄▃▅▅▄▃▄▅▇▇▇▇██▇████▇▇▇▇</td></tr><tr><td>Previous_loss</td><td>█▁▁▁▁▂▂▁▁▁▁▁▁▁▁▁▁▁▁▁▃▂▁▁▁▁▁▁▁▁▁▁▁▁▁▁▁▁▁▁</td></tr><tr><td>Residual_loss</td><td>█▃▂▂▂▂▁▁▁▁▁▁▁▁▁▁▁▁▁▁▁▁▁▁▁▁▁▁▁▁▁▁▁▁▁▁▁▁▁▁</td></tr><tr><td>Total_loss</td><td>█▂▁▁▁▁▁▁▁▁▁▁▁▁▁▁▁▁▁▁▁▁▁▁▁▁▁▁▁▁▁▁▁▁▁▁▁▁▁▁</td></tr><tr><td>time step 1</td><td>█▁▁▂▁▂▂▁▁▁▁▁▁▁▁▁▁▁▂▁▃▁▂▁▁▁▁▁▁▁▁▁▁▁▁▁▁▁▁▁</td></tr></table><br/></div><div class=\"wandb-col\"><h3>Run summary:</h3><br/><table class=\"wandb\"><tr><td>BCS adaptive constant</td><td>89.51994</td></tr><tr><td>Boundary_loss</td><td>0.0002</td></tr><tr><td>DDS adaptive constant</td><td>70.92609</td></tr><tr><td>Data_loss</td><td>0.0074</td></tr><tr><td>ICS adaptive constant</td><td>112.47555</td></tr><tr><td>Initial_loss</td><td>0.00068</td></tr><tr><td>PDS adaptive constant</td><td>185.18818</td></tr><tr><td>Previous_loss</td><td>0.00128</td></tr><tr><td>Residual_loss</td><td>0.00593</td></tr><tr><td>Total_loss</td><td>0.01549</td></tr><tr><td>time step 1</td><td>0.0106</td></tr></table><br/></div></div>"
      ],
      "text/plain": [
       "<IPython.core.display.HTML object>"
      ]
     },
     "metadata": {},
     "output_type": "display_data"
    },
    {
     "data": {
      "text/html": [
       "Synced <strong style=\"color:#cdcd00\">autumn-donkey-7</strong>: <a href=\"https://wandb.ai/vamsi_malineni6/fds_surr_96_checking_normalization/runs/133w677v\" target=\"_blank\">https://wandb.ai/vamsi_malineni6/fds_surr_96_checking_normalization/runs/133w677v</a><br/>Synced 5 W&B file(s), 0 media file(s), 0 artifact file(s) and 0 other file(s)"
      ],
      "text/plain": [
       "<IPython.core.display.HTML object>"
      ]
     },
     "metadata": {},
     "output_type": "display_data"
    },
    {
     "data": {
      "text/html": [
       "Find logs at: <code>.\\wandb\\run-20230801_151449-133w677v\\logs</code>"
      ],
      "text/plain": [
       "<IPython.core.display.HTML object>"
      ]
     },
     "metadata": {},
     "output_type": "display_data"
    },
    {
     "name": "stdout",
     "output_type": "stream",
     "text": [
      "Adaptive weights are loaded\n"
     ]
    },
    {
     "data": {
      "application/vnd.jupyter.widget-view+json": {
       "model_id": "463ca1a6e3134505900fae4f6021d57e",
       "version_major": 2,
       "version_minor": 0
      },
      "text/plain": [
       "VBox(children=(Label(value='Waiting for wandb.init()...\\r'), FloatProgress(value=0.03343443870544434, max=1.0)…"
      ]
     },
     "metadata": {},
     "output_type": "display_data"
    },
    {
     "data": {
      "text/html": [
       "wandb version 0.15.7 is available!  To upgrade, please run:\n",
       " $ pip install wandb --upgrade"
      ],
      "text/plain": [
       "<IPython.core.display.HTML object>"
      ]
     },
     "metadata": {},
     "output_type": "display_data"
    },
    {
     "data": {
      "text/html": [
       "Tracking run with wandb version 0.13.3"
      ],
      "text/plain": [
       "<IPython.core.display.HTML object>"
      ]
     },
     "metadata": {},
     "output_type": "display_data"
    },
    {
     "data": {
      "text/html": [
       "Run data is saved locally in <code>C:\\Users\\user1\\Downloads\\Vamsi_oe20s302\\Research work\\Final Cylinder notebooks\\Using_fixed_datasets\\Proposed Surrogate\\wandb\\run-20230801_155415-3kirapbp</code>"
      ],
      "text/plain": [
       "<IPython.core.display.HTML object>"
      ]
     },
     "metadata": {},
     "output_type": "display_data"
    },
    {
     "data": {
      "text/html": [
       "Syncing run <strong><a href=\"https://wandb.ai/vamsi_malineni6/fds_surr_96_checking_normalization/runs/3kirapbp\" target=\"_blank\">legendary-sound-8</a></strong> to <a href=\"https://wandb.ai/vamsi_malineni6/fds_surr_96_checking_normalization\" target=\"_blank\">Weights & Biases</a> (<a href=\"https://wandb.me/run\" target=\"_blank\">docs</a>)<br/>"
      ],
      "text/plain": [
       "<IPython.core.display.HTML object>"
      ]
     },
     "metadata": {},
     "output_type": "display_data"
    },
    {
     "ename": "FileNotFoundError",
     "evalue": "[Errno 2] No such file or directory: 'E:\\\\Vamsi_oe20s302\\\\Research work\\\\Simulations and data\\\\Unsteady trials\\\\data\\\\trials\\\\Re100_comparisons\\\\96 data points/domain_colloc_96.csv'",
     "output_type": "error",
     "traceback": [
      "\u001b[1;31m---------------------------------------------------------------------------\u001b[0m",
      "\u001b[1;31mFileNotFoundError\u001b[0m                         Traceback (most recent call last)",
      "\u001b[1;32m~\\AppData\\Local\\Temp\\ipykernel_356\\4038751848.py\u001b[0m in \u001b[0;36m<module>\u001b[1;34m\u001b[0m\n\u001b[0;32m     34\u001b[0m \u001b[1;33m\u001b[0m\u001b[0m\n\u001b[0;32m     35\u001b[0m         \u001b[1;31m# Loading the initial and the boundary conditions for the next timestep\u001b[0m\u001b[1;33m\u001b[0m\u001b[1;33m\u001b[0m\u001b[0m\n\u001b[1;32m---> 36\u001b[1;33m         \u001b[0mdomain\u001b[0m\u001b[1;33m,\u001b[0m\u001b[0mboundary\u001b[0m\u001b[1;33m,\u001b[0m \u001b[0mdomain_data\u001b[0m \u001b[1;33m=\u001b[0m \u001b[0mload_data\u001b[0m\u001b[1;33m(\u001b[0m\u001b[0mtime_step\u001b[0m\u001b[1;33m)\u001b[0m\u001b[1;33m\u001b[0m\u001b[0m\n\u001b[0m\u001b[0;32m     37\u001b[0m \u001b[1;33m\u001b[0m\u001b[0m\n\u001b[0;32m     38\u001b[0m         \u001b[1;31m# Loading the previous timesegment data\u001b[0m\u001b[1;33m\u001b[0m\u001b[1;33m\u001b[0m\u001b[0m\n",
      "\u001b[1;32m~\\AppData\\Local\\Temp\\ipykernel_356\\1544597702.py\u001b[0m in \u001b[0;36mload_data\u001b[1;34m(time_segment)\u001b[0m\n\u001b[0;32m     10\u001b[0m     \u001b[0mi_name\u001b[0m \u001b[1;33m=\u001b[0m\u001b[0mpath\u001b[0m\u001b[1;33m+\u001b[0m\u001b[1;34m'/'\u001b[0m\u001b[1;33m+\u001b[0m\u001b[1;34m'initial_96.csv'\u001b[0m\u001b[1;33m\u001b[0m\u001b[0m\n\u001b[0;32m     11\u001b[0m \u001b[1;33m\u001b[0m\u001b[0m\n\u001b[1;32m---> 12\u001b[1;33m     \u001b[0mc\u001b[0m\u001b[1;33m=\u001b[0m\u001b[0mpd\u001b[0m\u001b[1;33m.\u001b[0m\u001b[0mread_csv\u001b[0m\u001b[1;33m(\u001b[0m\u001b[0mc_name\u001b[0m\u001b[1;33m)\u001b[0m\u001b[1;33m.\u001b[0m\u001b[0mto_numpy\u001b[0m\u001b[1;33m(\u001b[0m\u001b[1;33m)\u001b[0m\u001b[1;33m\u001b[0m\u001b[0m\n\u001b[0m\u001b[0;32m     13\u001b[0m     \u001b[0mi\u001b[0m\u001b[1;33m=\u001b[0m\u001b[0mpd\u001b[0m\u001b[1;33m.\u001b[0m\u001b[0mread_csv\u001b[0m\u001b[1;33m(\u001b[0m\u001b[0mi_name\u001b[0m\u001b[1;33m)\u001b[0m\u001b[1;33m.\u001b[0m\u001b[0mto_numpy\u001b[0m\u001b[1;33m(\u001b[0m\u001b[1;33m)\u001b[0m\u001b[1;33m\u001b[0m\u001b[0m\n\u001b[0;32m     14\u001b[0m     \u001b[0mb\u001b[0m\u001b[1;33m=\u001b[0m\u001b[0mpd\u001b[0m\u001b[1;33m.\u001b[0m\u001b[0mread_csv\u001b[0m\u001b[1;33m(\u001b[0m\u001b[0mb_name\u001b[0m\u001b[1;33m)\u001b[0m\u001b[1;33m.\u001b[0m\u001b[0mto_numpy\u001b[0m\u001b[1;33m(\u001b[0m\u001b[1;33m)\u001b[0m\u001b[1;33m\u001b[0m\u001b[0m\n",
      "\u001b[1;32m~\\AppData\\Roaming\\Python\\Python37\\site-packages\\pandas\\io\\parsers.py\u001b[0m in \u001b[0;36mread_csv\u001b[1;34m(filepath_or_buffer, sep, delimiter, header, names, index_col, usecols, squeeze, prefix, mangle_dupe_cols, dtype, engine, converters, true_values, false_values, skipinitialspace, skiprows, skipfooter, nrows, na_values, keep_default_na, na_filter, verbose, skip_blank_lines, parse_dates, infer_datetime_format, keep_date_col, date_parser, dayfirst, cache_dates, iterator, chunksize, compression, thousands, decimal, lineterminator, quotechar, quoting, doublequote, escapechar, comment, encoding, dialect, error_bad_lines, warn_bad_lines, delim_whitespace, low_memory, memory_map, float_precision)\u001b[0m\n\u001b[0;32m    686\u001b[0m     )\n\u001b[0;32m    687\u001b[0m \u001b[1;33m\u001b[0m\u001b[0m\n\u001b[1;32m--> 688\u001b[1;33m     \u001b[1;32mreturn\u001b[0m \u001b[0m_read\u001b[0m\u001b[1;33m(\u001b[0m\u001b[0mfilepath_or_buffer\u001b[0m\u001b[1;33m,\u001b[0m \u001b[0mkwds\u001b[0m\u001b[1;33m)\u001b[0m\u001b[1;33m\u001b[0m\u001b[0m\n\u001b[0m\u001b[0;32m    689\u001b[0m \u001b[1;33m\u001b[0m\u001b[0m\n\u001b[0;32m    690\u001b[0m \u001b[1;33m\u001b[0m\u001b[0m\n",
      "\u001b[1;32m~\\AppData\\Roaming\\Python\\Python37\\site-packages\\pandas\\io\\parsers.py\u001b[0m in \u001b[0;36m_read\u001b[1;34m(filepath_or_buffer, kwds)\u001b[0m\n\u001b[0;32m    452\u001b[0m \u001b[1;33m\u001b[0m\u001b[0m\n\u001b[0;32m    453\u001b[0m     \u001b[1;31m# Create the parser.\u001b[0m\u001b[1;33m\u001b[0m\u001b[1;33m\u001b[0m\u001b[0m\n\u001b[1;32m--> 454\u001b[1;33m     \u001b[0mparser\u001b[0m \u001b[1;33m=\u001b[0m \u001b[0mTextFileReader\u001b[0m\u001b[1;33m(\u001b[0m\u001b[0mfp_or_buf\u001b[0m\u001b[1;33m,\u001b[0m \u001b[1;33m**\u001b[0m\u001b[0mkwds\u001b[0m\u001b[1;33m)\u001b[0m\u001b[1;33m\u001b[0m\u001b[0m\n\u001b[0m\u001b[0;32m    455\u001b[0m \u001b[1;33m\u001b[0m\u001b[0m\n\u001b[0;32m    456\u001b[0m     \u001b[1;32mif\u001b[0m \u001b[0mchunksize\u001b[0m \u001b[1;32mor\u001b[0m \u001b[0miterator\u001b[0m\u001b[1;33m:\u001b[0m\u001b[1;33m\u001b[0m\u001b[0m\n",
      "\u001b[1;32m~\\AppData\\Roaming\\Python\\Python37\\site-packages\\pandas\\io\\parsers.py\u001b[0m in \u001b[0;36m__init__\u001b[1;34m(self, f, engine, **kwds)\u001b[0m\n\u001b[0;32m    946\u001b[0m             \u001b[0mself\u001b[0m\u001b[1;33m.\u001b[0m\u001b[0moptions\u001b[0m\u001b[1;33m[\u001b[0m\u001b[1;34m\"has_index_names\"\u001b[0m\u001b[1;33m]\u001b[0m \u001b[1;33m=\u001b[0m \u001b[0mkwds\u001b[0m\u001b[1;33m[\u001b[0m\u001b[1;34m\"has_index_names\"\u001b[0m\u001b[1;33m]\u001b[0m\u001b[1;33m\u001b[0m\u001b[0m\n\u001b[0;32m    947\u001b[0m \u001b[1;33m\u001b[0m\u001b[0m\n\u001b[1;32m--> 948\u001b[1;33m         \u001b[0mself\u001b[0m\u001b[1;33m.\u001b[0m\u001b[0m_make_engine\u001b[0m\u001b[1;33m(\u001b[0m\u001b[0mself\u001b[0m\u001b[1;33m.\u001b[0m\u001b[0mengine\u001b[0m\u001b[1;33m)\u001b[0m\u001b[1;33m\u001b[0m\u001b[0m\n\u001b[0m\u001b[0;32m    949\u001b[0m \u001b[1;33m\u001b[0m\u001b[0m\n\u001b[0;32m    950\u001b[0m     \u001b[1;32mdef\u001b[0m \u001b[0mclose\u001b[0m\u001b[1;33m(\u001b[0m\u001b[0mself\u001b[0m\u001b[1;33m)\u001b[0m\u001b[1;33m:\u001b[0m\u001b[1;33m\u001b[0m\u001b[0m\n",
      "\u001b[1;32m~\\AppData\\Roaming\\Python\\Python37\\site-packages\\pandas\\io\\parsers.py\u001b[0m in \u001b[0;36m_make_engine\u001b[1;34m(self, engine)\u001b[0m\n\u001b[0;32m   1178\u001b[0m     \u001b[1;32mdef\u001b[0m \u001b[0m_make_engine\u001b[0m\u001b[1;33m(\u001b[0m\u001b[0mself\u001b[0m\u001b[1;33m,\u001b[0m \u001b[0mengine\u001b[0m\u001b[1;33m=\u001b[0m\u001b[1;34m\"c\"\u001b[0m\u001b[1;33m)\u001b[0m\u001b[1;33m:\u001b[0m\u001b[1;33m\u001b[0m\u001b[0m\n\u001b[0;32m   1179\u001b[0m         \u001b[1;32mif\u001b[0m \u001b[0mengine\u001b[0m \u001b[1;33m==\u001b[0m \u001b[1;34m\"c\"\u001b[0m\u001b[1;33m:\u001b[0m\u001b[1;33m\u001b[0m\u001b[0m\n\u001b[1;32m-> 1180\u001b[1;33m             \u001b[0mself\u001b[0m\u001b[1;33m.\u001b[0m\u001b[0m_engine\u001b[0m \u001b[1;33m=\u001b[0m \u001b[0mCParserWrapper\u001b[0m\u001b[1;33m(\u001b[0m\u001b[0mself\u001b[0m\u001b[1;33m.\u001b[0m\u001b[0mf\u001b[0m\u001b[1;33m,\u001b[0m \u001b[1;33m**\u001b[0m\u001b[0mself\u001b[0m\u001b[1;33m.\u001b[0m\u001b[0moptions\u001b[0m\u001b[1;33m)\u001b[0m\u001b[1;33m\u001b[0m\u001b[0m\n\u001b[0m\u001b[0;32m   1181\u001b[0m         \u001b[1;32melse\u001b[0m\u001b[1;33m:\u001b[0m\u001b[1;33m\u001b[0m\u001b[0m\n\u001b[0;32m   1182\u001b[0m             \u001b[1;32mif\u001b[0m \u001b[0mengine\u001b[0m \u001b[1;33m==\u001b[0m \u001b[1;34m\"python\"\u001b[0m\u001b[1;33m:\u001b[0m\u001b[1;33m\u001b[0m\u001b[0m\n",
      "\u001b[1;32m~\\AppData\\Roaming\\Python\\Python37\\site-packages\\pandas\\io\\parsers.py\u001b[0m in \u001b[0;36m__init__\u001b[1;34m(self, src, **kwds)\u001b[0m\n\u001b[0;32m   2008\u001b[0m         \u001b[0mkwds\u001b[0m\u001b[1;33m[\u001b[0m\u001b[1;34m\"usecols\"\u001b[0m\u001b[1;33m]\u001b[0m \u001b[1;33m=\u001b[0m \u001b[0mself\u001b[0m\u001b[1;33m.\u001b[0m\u001b[0musecols\u001b[0m\u001b[1;33m\u001b[0m\u001b[0m\n\u001b[0;32m   2009\u001b[0m \u001b[1;33m\u001b[0m\u001b[0m\n\u001b[1;32m-> 2010\u001b[1;33m         \u001b[0mself\u001b[0m\u001b[1;33m.\u001b[0m\u001b[0m_reader\u001b[0m \u001b[1;33m=\u001b[0m \u001b[0mparsers\u001b[0m\u001b[1;33m.\u001b[0m\u001b[0mTextReader\u001b[0m\u001b[1;33m(\u001b[0m\u001b[0msrc\u001b[0m\u001b[1;33m,\u001b[0m \u001b[1;33m**\u001b[0m\u001b[0mkwds\u001b[0m\u001b[1;33m)\u001b[0m\u001b[1;33m\u001b[0m\u001b[0m\n\u001b[0m\u001b[0;32m   2011\u001b[0m         \u001b[0mself\u001b[0m\u001b[1;33m.\u001b[0m\u001b[0munnamed_cols\u001b[0m \u001b[1;33m=\u001b[0m \u001b[0mself\u001b[0m\u001b[1;33m.\u001b[0m\u001b[0m_reader\u001b[0m\u001b[1;33m.\u001b[0m\u001b[0munnamed_cols\u001b[0m\u001b[1;33m\u001b[0m\u001b[0m\n\u001b[0;32m   2012\u001b[0m \u001b[1;33m\u001b[0m\u001b[0m\n",
      "\u001b[1;32mpandas\\_libs\\parsers.pyx\u001b[0m in \u001b[0;36mpandas._libs.parsers.TextReader.__cinit__\u001b[1;34m()\u001b[0m\n",
      "\u001b[1;32mpandas\\_libs\\parsers.pyx\u001b[0m in \u001b[0;36mpandas._libs.parsers.TextReader._setup_parser_source\u001b[1;34m()\u001b[0m\n",
      "\u001b[1;31mFileNotFoundError\u001b[0m: [Errno 2] No such file or directory: 'E:\\\\Vamsi_oe20s302\\\\Research work\\\\Simulations and data\\\\Unsteady trials\\\\data\\\\trials\\\\Re100_comparisons\\\\96 data points/domain_colloc_96.csv'"
     ]
    }
   ],
   "source": [
    "if __name__ == \"__main__\":\n",
    "\n",
    "    \n",
    "    N_train = 25000\n",
    "    batch_size=1000\n",
    "    Reynolds = 100\n",
    "    layers = [3]+10*[100]+[3]\n",
    "    \n",
    "    fre = 5\n",
    "    \n",
    "    # Timesteps for loop :\n",
    "    timesteps=[round(i,3) for i in np.arange(2,8,1)]\n",
    "    \n",
    "    for i in timesteps:\n",
    "        \n",
    "        time_step = i\n",
    "        if i == 2:\n",
    "            bcs_v,ics_v,dds_v=load_aws_1st(weight_name)\n",
    "            pds_v=np.array(1.0)\n",
    "        else:\n",
    "            bcs_v,ics_v,dds_v,pds_v=load_aws_rest(weight_name)\n",
    "\n",
    "        # Naming the gradients file after the time segment\n",
    "        grad_file='gradient_info_adaptive_'\n",
    "        grad_file = grad_file+str(time_step)\n",
    "        grad_name   = results_path_plus_name + '/'  + grad_file \n",
    "        \n",
    "        # initializing wandb workspace\n",
    "        wandb.init(entity=entity_name,project=project_name)\n",
    "        \n",
    "        # naming the run on wandb\n",
    "        name_run= str(time_step)+\"-run2\"\n",
    "        wandb.run.name=name_run\n",
    "        \n",
    "        # Loading the initial and the boundary conditions for the next timestep\n",
    "        domain,boundary, domain_data = load_data(time_step)\n",
    "        \n",
    "        # Loading the previous timesegment data\n",
    "        prevtimedata=read_prev_data(prev_name)\n",
    "\n",
    "        # Loading the initial conditions for the consecutive time segments\n",
    "        initial=prevtimedata[:,:][prevtimedata[:,2]==np.unique(prevtimedata[:,2])[-1]][:,0:5]\n",
    "        # Enter the names of the files :\n",
    "        '''\n",
    "        params_name : name of the file where you want to save the weights and biases, LOAD THE MODEL EVERYTIME, SINCE ITS THE SAME\n",
    "                      MODEL THAT IS BEING TRAINED OVER DIFFERNT TIMESEGMENTS, WITH FOCUS ON PREV TIME SEGMENTS                  \n",
    "        loss_name   : name of the file where you want to save the loss components\n",
    "        prev_name   : name of the file where you want to save the predictions of each time step in the segment\n",
    "        '''\n",
    "        #==========================================================================================================#\n",
    "        # Start Training\n",
    "        #==========================================================================================================#\n",
    "        \n",
    "\n",
    "        # Start the Training process\n",
    "        with tf.device('/gpu:0'):\n",
    "\n",
    "            bc_pinn_model = bc_pinn_t (domain,initial,boundary,domain_data,prevtimedata,datalist,lowb,upb,\n",
    "                                       N_train,batch_size,\n",
    "                                       layers,re=Reynolds,\n",
    "                                       load_model=True,filedr=params_name,\n",
    "                                       timestep=time_step,\n",
    "                                       savewandb=params_name,saveloss='',gradname=grad_name,\n",
    "                                      ics_val=ics_v,bcs_val=bcs_v,dds_val=dds_v,pds_val=pds_v)\n",
    "\n",
    "            print(\"===============================================================================================\")\n",
    "            print(\"Commencing training for the timesegment:(\",round((time_step-1),3),time_step,\"] \")\n",
    "            print(\"===============================================================================================\")\n",
    "            \n",
    "            bc_pinn_model.Adam_train(300, 1e-3)\n",
    "            bc_pinn_model.Adam_train(200, 1e-4)\n",
    "                    \n",
    "            print(bc_pinn_model.adaptive_constant_ics_val)\n",
    "            print(bc_pinn_model.adaptive_constant_bcs_val)\n",
    "            print(bc_pinn_model.adaptive_constant_dds_val)\n",
    "            print(bc_pinn_model.adaptive_constant_pds_val)\n",
    "            bc_pinn_model.save_weights(weight_name)        \n",
    "\n",
    "            bc_pinn_model.save_parameters(params_name)\n",
    "            \n",
    "            # Saving the gradients in a differnt file\n",
    "            bc_pinn_model.save_gradients(bc_pinn_model.tf_dict)\n",
    "            bc_pinn_model.save_gradients_infile(bc_pinn_model.gradient_name)\n",
    "        \n",
    "        \n",
    "        # This code snippet appends the predictions at each time step for the previous time segment.\n",
    "        idx=return_indexes(time_step)\n",
    "        save_prev_data(idx,prev_name,time_step,bc_pinn_model)\n",
    "        \n",
    "\n",
    "        # Save the experiment run and finish the experiment in wandb \n",
    "        wandb.run.save()\n",
    "        wandb.run.finish()\n",
    "\n"
   ]
  },
  {
   "cell_type": "code",
   "execution_count": 28,
   "id": "692680c9",
   "metadata": {
    "scrolled": true
   },
   "outputs": [
    {
     "name": "stdout",
     "output_type": "stream",
     "text": [
      "Adaptive weights are loaded\n"
     ]
    },
    {
     "data": {
      "text/html": [
       "Finishing last run (ID:3kirapbp) before initializing another..."
      ],
      "text/plain": [
       "<IPython.core.display.HTML object>"
      ]
     },
     "metadata": {},
     "output_type": "display_data"
    },
    {
     "data": {
      "text/html": [
       "Waiting for W&B process to finish... <strong style=\"color:green\">(success).</strong>"
      ],
      "text/plain": [
       "<IPython.core.display.HTML object>"
      ]
     },
     "metadata": {},
     "output_type": "display_data"
    },
    {
     "data": {
      "application/vnd.jupyter.widget-view+json": {
       "model_id": "",
       "version_major": 2,
       "version_minor": 0
      },
      "text/plain": [
       "VBox(children=(Label(value='0.001 MB of 0.001 MB uploaded (0.000 MB deduped)\\r'), FloatProgress(value=1.0, max…"
      ]
     },
     "metadata": {},
     "output_type": "display_data"
    },
    {
     "data": {
      "text/html": [
       "Synced <strong style=\"color:#cdcd00\">legendary-sound-8</strong>: <a href=\"https://wandb.ai/vamsi_malineni6/fds_surr_96_checking_normalization/runs/3kirapbp\" target=\"_blank\">https://wandb.ai/vamsi_malineni6/fds_surr_96_checking_normalization/runs/3kirapbp</a><br/>Synced 5 W&B file(s), 0 media file(s), 0 artifact file(s) and 0 other file(s)"
      ],
      "text/plain": [
       "<IPython.core.display.HTML object>"
      ]
     },
     "metadata": {},
     "output_type": "display_data"
    },
    {
     "data": {
      "text/html": [
       "Find logs at: <code>.\\wandb\\run-20230801_155415-3kirapbp\\logs</code>"
      ],
      "text/plain": [
       "<IPython.core.display.HTML object>"
      ]
     },
     "metadata": {},
     "output_type": "display_data"
    },
    {
     "data": {
      "text/html": [
       "Successfully finished last run (ID:3kirapbp). Initializing new run:<br/>"
      ],
      "text/plain": [
       "<IPython.core.display.HTML object>"
      ]
     },
     "metadata": {},
     "output_type": "display_data"
    },
    {
     "data": {
      "application/vnd.jupyter.widget-view+json": {
       "model_id": "44b3b8bff7e54a2a9d8313aeb3c6fb51",
       "version_major": 2,
       "version_minor": 0
      },
      "text/plain": [
       "VBox(children=(Label(value='Waiting for wandb.init()...\\r'), FloatProgress(value=0.033356269200642906, max=1.0…"
      ]
     },
     "metadata": {},
     "output_type": "display_data"
    },
    {
     "data": {
      "text/html": [
       "wandb version 0.15.7 is available!  To upgrade, please run:\n",
       " $ pip install wandb --upgrade"
      ],
      "text/plain": [
       "<IPython.core.display.HTML object>"
      ]
     },
     "metadata": {},
     "output_type": "display_data"
    },
    {
     "data": {
      "text/html": [
       "Tracking run with wandb version 0.13.3"
      ],
      "text/plain": [
       "<IPython.core.display.HTML object>"
      ]
     },
     "metadata": {},
     "output_type": "display_data"
    },
    {
     "data": {
      "text/html": [
       "Run data is saved locally in <code>C:\\Users\\user1\\Downloads\\Vamsi_oe20s302\\Research work\\Final Cylinder notebooks\\Using_fixed_datasets\\Proposed Surrogate\\wandb\\run-20230801_161007-10f0t3ju</code>"
      ],
      "text/plain": [
       "<IPython.core.display.HTML object>"
      ]
     },
     "metadata": {},
     "output_type": "display_data"
    },
    {
     "data": {
      "text/html": [
       "Syncing run <strong><a href=\"https://wandb.ai/vamsi_malineni6/fds_surr_96_checking_normalization/runs/10f0t3ju\" target=\"_blank\">avid-surf-9</a></strong> to <a href=\"https://wandb.ai/vamsi_malineni6/fds_surr_96_checking_normalization\" target=\"_blank\">Weights & Biases</a> (<a href=\"https://wandb.me/run\" target=\"_blank\">docs</a>)<br/>"
      ],
      "text/plain": [
       "<IPython.core.display.HTML object>"
      ]
     },
     "metadata": {},
     "output_type": "display_data"
    },
    {
     "name": "stdout",
     "output_type": "stream",
     "text": [
      "Previous predictions are loaded from pickle file\n",
      "Parameters are loaded succesffuly\n",
      "Device mapping:\n",
      "/job:localhost/replica:0/task:0/device:GPU:0 -> device: 0, name: NVIDIA GeForce RTX 3060, pci bus id: 0000:01:00.0, compute capability: 8.6\n",
      "/job:localhost/replica:0/task:0/device:GPU:1 -> device: 1, name: NVIDIA GeForce RTX 3060, pci bus id: 0000:03:00.0, compute capability: 8.6\n",
      "\n",
      "===============================================================================================\n",
      "Commencing training for the timesegment:( 3 4 ] \n",
      "===============================================================================================\n",
      "epochs: 0, Loss: 1.192e+01, Time: 97.09\n",
      "epochs: 10, Loss: 7.719e-01, Time: 39.22\n",
      "epochs: 20, Loss: 5.343e-01, Time: 38.86\n",
      "epochs: 30, Loss: 3.408e-01, Time: 38.89\n",
      "epochs: 40, Loss: 1.975e-01, Time: 39.01\n",
      "epochs: 50, Loss: 2.022e-01, Time: 39.86\n",
      "epochs: 60, Loss: 1.799e-01, Time: 39.74\n",
      "epochs: 70, Loss: 1.195e-01, Time: 40.20\n",
      "epochs: 80, Loss: 1.416e-01, Time: 40.53\n",
      "epochs: 90, Loss: 9.530e-02, Time: 40.51\n",
      "epochs: 100, Loss: 9.120e-02, Time: 40.15\n",
      "epochs: 110, Loss: 1.517e-01, Time: 38.74\n",
      "epochs: 120, Loss: 7.096e-02, Time: 39.04\n",
      "epochs: 130, Loss: 5.905e-02, Time: 39.62\n",
      "epochs: 140, Loss: 8.693e-02, Time: 39.18\n",
      "epochs: 150, Loss: 1.387e-01, Time: 38.74\n",
      "epochs: 160, Loss: 5.901e-02, Time: 38.47\n",
      "epochs: 170, Loss: 6.040e-02, Time: 38.35\n",
      "epochs: 180, Loss: 3.868e-02, Time: 39.15\n",
      "epochs: 190, Loss: 3.320e-02, Time: 39.80\n",
      "epochs: 200, Loss: 4.346e-02, Time: 39.06\n",
      "epochs: 210, Loss: 9.516e-02, Time: 38.29\n",
      "epochs: 220, Loss: 3.826e-02, Time: 39.26\n",
      "epochs: 230, Loss: 8.307e-02, Time: 38.84\n",
      "epochs: 240, Loss: 3.901e-02, Time: 39.25\n",
      "epochs: 250, Loss: 8.439e-02, Time: 42.38\n",
      "epochs: 260, Loss: 6.437e-02, Time: 42.27\n",
      "epochs: 270, Loss: 5.978e-02, Time: 43.12\n",
      "epochs: 280, Loss: 3.112e-02, Time: 43.38\n",
      "epochs: 290, Loss: 9.497e-02, Time: 44.13\n",
      "epochs: 0, Loss: 2.242e-02, Time: 4.14\n",
      "epochs: 10, Loss: 2.098e-02, Time: 43.69\n",
      "epochs: 20, Loss: 2.368e-02, Time: 39.30\n",
      "epochs: 30, Loss: 2.505e-02, Time: 39.19\n",
      "epochs: 40, Loss: 2.552e-02, Time: 39.44\n",
      "epochs: 50, Loss: 2.701e-02, Time: 39.48\n",
      "epochs: 60, Loss: 2.629e-02, Time: 39.04\n",
      "epochs: 70, Loss: 2.655e-02, Time: 39.48\n",
      "epochs: 80, Loss: 2.546e-02, Time: 39.94\n",
      "epochs: 90, Loss: 2.849e-02, Time: 39.08\n",
      "epochs: 100, Loss: 2.669e-02, Time: 39.06\n",
      "epochs: 110, Loss: 2.675e-02, Time: 39.63\n",
      "epochs: 120, Loss: 2.416e-02, Time: 39.07\n",
      "epochs: 130, Loss: 2.429e-02, Time: 38.68\n",
      "epochs: 140, Loss: 2.452e-02, Time: 39.07\n",
      "epochs: 150, Loss: 2.286e-02, Time: 38.80\n",
      "epochs: 160, Loss: 2.303e-02, Time: 38.17\n",
      "epochs: 170, Loss: 2.216e-02, Time: 38.22\n",
      "epochs: 180, Loss: 2.129e-02, Time: 38.01\n",
      "epochs: 190, Loss: 2.459e-02, Time: 37.90\n",
      "80.3570975145641\n",
      "73.24017978985941\n",
      "58.540726672454284\n",
      "132.7596133522653\n",
      "Adaptive weights are saved in pickle file\n",
      "Parameters are saved in pickle file\n",
      "Gradients are saved in pickle file\n",
      "Previous predictions are loaded from pickle file\n",
      "Previous predictions are saved in pickle file\n"
     ]
    },
    {
     "data": {
      "text/html": [
       "Waiting for W&B process to finish... <strong style=\"color:green\">(success).</strong>"
      ],
      "text/plain": [
       "<IPython.core.display.HTML object>"
      ]
     },
     "metadata": {},
     "output_type": "display_data"
    },
    {
     "data": {
      "application/vnd.jupyter.widget-view+json": {
       "model_id": "",
       "version_major": 2,
       "version_minor": 0
      },
      "text/plain": [
       "VBox(children=(Label(value='0.001 MB of 0.001 MB uploaded (0.000 MB deduped)\\r'), FloatProgress(value=1.0, max…"
      ]
     },
     "metadata": {},
     "output_type": "display_data"
    },
    {
     "data": {
      "text/html": [
       "<style>\n",
       "    table.wandb td:nth-child(1) { padding: 0 10px; text-align: left ; width: auto;} td:nth-child(2) {text-align: left ; width: 100%}\n",
       "    .wandb-row { display: flex; flex-direction: row; flex-wrap: wrap; justify-content: flex-start; width: 100% }\n",
       "    .wandb-col { display: flex; flex-direction: column; flex-basis: 100%; flex: 1; padding: 10px; }\n",
       "    </style>\n",
       "<div class=\"wandb-row\"><div class=\"wandb-col\"><h3>Run history:</h3><br/><table class=\"wandb\"><tr><td>BCS adaptive constant</td><td>▅▅▄▄▄▃▃▂▂▁▂▂▁▁▁▁▄▃▃▂▂▂▂▃▂▃▆▆████▇▆▆▆▅▅▅▄</td></tr><tr><td>Boundary_loss</td><td>█▁▁▁▁▁▁▁▁▁▁▁▁▁▁▁▁▁▁▁▁▁▁▁▁▁▁▁▁▁▁▁▁▁▁▁▁▁▁▁</td></tr><tr><td>DDS adaptive constant</td><td>▆█▇▇▆▅▄▃▃▃▂▂▁▁▁▂▃▃▃▃▃▂▂▂▁▂▅▅▇▇▇▇▇▇▆▆▅▆▆▄</td></tr><tr><td>Data_loss</td><td>█▂▁▁▁▁▁▁▁▁▁▁▁▁▁▁▁▁▁▁▁▁▁▁▁▁▁▁▁▁▁▁▁▁▁▁▁▁▁▁</td></tr><tr><td>ICS adaptive constant</td><td>▇▇▆▆▆▅▄▄▃▃▂▂▂▁▁▁▃▂▃▂▂▂▂▂▂▃▅▅▇▇██▇▆▆▅▅▄▄▄</td></tr><tr><td>Initial_loss</td><td>█▁▁▁▁▁▁▁▁▁▁▁▁▁▁▁▁▁▁▁▁▁▁▁▁▁▁▁▁▁▁▁▁▁▁▁▁▁▁▁</td></tr><tr><td>PDS adaptive constant</td><td>▇▇▇██▇▆▅▅▄▃▃▂▂▁▁▁▂▂▁▂▂▂▂▁▂▃▃▄▅▅▅▆▅▅▅▅▄▄▄</td></tr><tr><td>Previous_loss</td><td>█▁▁▁▁▁▁▁▁▁▁▁▁▁▁▁▁▁▁▁▁▁▁▁▁▁▁▁▁▁▁▁▁▁▁▁▁▁▁▁</td></tr><tr><td>Residual_loss</td><td>█▃▂▂▁▁▁▁▁▁▁▁▁▁▁▁▁▁▁▁▁▁▁▁▁▁▁▁▁▁▁▁▁▁▁▁▁▁▁▁</td></tr><tr><td>Total_loss</td><td>█▁▁▁▁▁▁▁▁▁▁▁▁▁▁▁▁▁▁▁▁▁▁▁▁▁▁▁▁▁▁▁▁▁▁▁▁▁▁▁</td></tr><tr><td>time step 1</td><td>█▁▁▁▁▁▁▁▁▂▁▁▂▁▁▁▁▁▁▁▂▁▁▁▁▁▁▁▁▁▁▁▁▁▁▁▁▁▁▁</td></tr></table><br/></div><div class=\"wandb-col\"><h3>Run summary:</h3><br/><table class=\"wandb\"><tr><td>BCS adaptive constant</td><td>73.24018</td></tr><tr><td>Boundary_loss</td><td>0.00131</td></tr><tr><td>DDS adaptive constant</td><td>58.54073</td></tr><tr><td>Data_loss</td><td>0.01083</td></tr><tr><td>ICS adaptive constant</td><td>80.3571</td></tr><tr><td>Initial_loss</td><td>0.00162</td></tr><tr><td>PDS adaptive constant</td><td>132.75961</td></tr><tr><td>Previous_loss</td><td>0.00258</td></tr><tr><td>Residual_loss</td><td>0.00825</td></tr><tr><td>Total_loss</td><td>0.02459</td></tr><tr><td>time step 1</td><td>0.01047</td></tr></table><br/></div></div>"
      ],
      "text/plain": [
       "<IPython.core.display.HTML object>"
      ]
     },
     "metadata": {},
     "output_type": "display_data"
    },
    {
     "data": {
      "text/html": [
       "Synced <strong style=\"color:#cdcd00\">avid-surf-9</strong>: <a href=\"https://wandb.ai/vamsi_malineni6/fds_surr_96_checking_normalization/runs/10f0t3ju\" target=\"_blank\">https://wandb.ai/vamsi_malineni6/fds_surr_96_checking_normalization/runs/10f0t3ju</a><br/>Synced 5 W&B file(s), 0 media file(s), 0 artifact file(s) and 0 other file(s)"
      ],
      "text/plain": [
       "<IPython.core.display.HTML object>"
      ]
     },
     "metadata": {},
     "output_type": "display_data"
    },
    {
     "data": {
      "text/html": [
       "Find logs at: <code>.\\wandb\\run-20230801_161007-10f0t3ju\\logs</code>"
      ],
      "text/plain": [
       "<IPython.core.display.HTML object>"
      ]
     },
     "metadata": {},
     "output_type": "display_data"
    },
    {
     "name": "stdout",
     "output_type": "stream",
     "text": [
      "Adaptive weights are loaded\n"
     ]
    },
    {
     "data": {
      "application/vnd.jupyter.widget-view+json": {
       "model_id": "18fd7e1413b84c7fa66aa98297ca24fb",
       "version_major": 2,
       "version_minor": 0
      },
      "text/plain": [
       "VBox(children=(Label(value='Waiting for wandb.init()...\\r'), FloatProgress(value=0.033453869819641116, max=1.0…"
      ]
     },
     "metadata": {},
     "output_type": "display_data"
    },
    {
     "data": {
      "text/html": [
       "wandb version 0.15.7 is available!  To upgrade, please run:\n",
       " $ pip install wandb --upgrade"
      ],
      "text/plain": [
       "<IPython.core.display.HTML object>"
      ]
     },
     "metadata": {},
     "output_type": "display_data"
    },
    {
     "data": {
      "text/html": [
       "Tracking run with wandb version 0.13.3"
      ],
      "text/plain": [
       "<IPython.core.display.HTML object>"
      ]
     },
     "metadata": {},
     "output_type": "display_data"
    },
    {
     "data": {
      "text/html": [
       "Run data is saved locally in <code>C:\\Users\\user1\\Downloads\\Vamsi_oe20s302\\Research work\\Final Cylinder notebooks\\Using_fixed_datasets\\Proposed Surrogate\\wandb\\run-20230801_165310-3hikdqwd</code>"
      ],
      "text/plain": [
       "<IPython.core.display.HTML object>"
      ]
     },
     "metadata": {},
     "output_type": "display_data"
    },
    {
     "data": {
      "text/html": [
       "Syncing run <strong><a href=\"https://wandb.ai/vamsi_malineni6/fds_surr_96_checking_normalization/runs/3hikdqwd\" target=\"_blank\">super-silence-10</a></strong> to <a href=\"https://wandb.ai/vamsi_malineni6/fds_surr_96_checking_normalization\" target=\"_blank\">Weights & Biases</a> (<a href=\"https://wandb.me/run\" target=\"_blank\">docs</a>)<br/>"
      ],
      "text/plain": [
       "<IPython.core.display.HTML object>"
      ]
     },
     "metadata": {},
     "output_type": "display_data"
    },
    {
     "name": "stdout",
     "output_type": "stream",
     "text": [
      "Previous predictions are loaded from pickle file\n",
      "Parameters are loaded succesffuly\n",
      "Device mapping:\n",
      "/job:localhost/replica:0/task:0/device:GPU:0 -> device: 0, name: NVIDIA GeForce RTX 3060, pci bus id: 0000:01:00.0, compute capability: 8.6\n",
      "/job:localhost/replica:0/task:0/device:GPU:1 -> device: 1, name: NVIDIA GeForce RTX 3060, pci bus id: 0000:03:00.0, compute capability: 8.6\n",
      "\n",
      "===============================================================================================\n",
      "Commencing training for the timesegment:( 4 5 ] \n",
      "===============================================================================================\n",
      "epochs: 0, Loss: 1.167e+01, Time: 127.47\n",
      "epochs: 10, Loss: 7.619e-01, Time: 41.34\n",
      "epochs: 20, Loss: 3.552e-01, Time: 42.79\n",
      "epochs: 30, Loss: 2.279e-01, Time: 42.90\n",
      "epochs: 40, Loss: 1.802e-01, Time: 42.33\n",
      "epochs: 50, Loss: 1.622e-01, Time: 42.64\n",
      "epochs: 60, Loss: 1.438e-01, Time: 42.35\n",
      "epochs: 70, Loss: 2.148e-01, Time: 42.43\n",
      "epochs: 80, Loss: 9.071e-02, Time: 42.83\n",
      "epochs: 90, Loss: 3.583e-01, Time: 41.61\n",
      "epochs: 100, Loss: 3.041e-01, Time: 41.52\n",
      "epochs: 110, Loss: 2.334e-01, Time: 41.48\n",
      "epochs: 120, Loss: 1.055e-01, Time: 40.83\n",
      "epochs: 130, Loss: 1.213e-01, Time: 41.69\n",
      "epochs: 140, Loss: 1.262e-01, Time: 40.46\n",
      "epochs: 150, Loss: 6.948e-02, Time: 40.90\n",
      "epochs: 160, Loss: 7.369e-02, Time: 41.10\n",
      "epochs: 170, Loss: 1.204e-01, Time: 40.72\n",
      "epochs: 180, Loss: 6.488e-02, Time: 40.12\n",
      "epochs: 190, Loss: 6.141e-02, Time: 40.45\n",
      "epochs: 200, Loss: 8.015e-02, Time: 40.66\n",
      "epochs: 210, Loss: 7.266e-02, Time: 40.43\n",
      "epochs: 220, Loss: 1.215e-01, Time: 41.16\n",
      "epochs: 230, Loss: 1.230e-01, Time: 41.27\n",
      "epochs: 240, Loss: 4.911e-02, Time: 40.68\n",
      "epochs: 250, Loss: 4.040e-02, Time: 40.61\n",
      "epochs: 260, Loss: 9.385e-02, Time: 40.38\n",
      "epochs: 270, Loss: 5.329e-02, Time: 40.60\n",
      "epochs: 280, Loss: 5.918e-02, Time: 41.04\n",
      "epochs: 290, Loss: 3.535e-02, Time: 40.56\n",
      "epochs: 0, Loss: 2.639e-02, Time: 4.14\n",
      "epochs: 10, Loss: 2.752e-02, Time: 40.62\n",
      "epochs: 20, Loss: 3.297e-02, Time: 40.50\n",
      "epochs: 30, Loss: 3.305e-02, Time: 40.90\n",
      "epochs: 40, Loss: 3.528e-02, Time: 41.53\n",
      "epochs: 50, Loss: 3.474e-02, Time: 40.96\n",
      "epochs: 60, Loss: 3.303e-02, Time: 40.53\n",
      "epochs: 70, Loss: 3.717e-02, Time: 40.43\n",
      "epochs: 80, Loss: 3.457e-02, Time: 40.24\n",
      "epochs: 90, Loss: 3.105e-02, Time: 39.79\n",
      "epochs: 100, Loss: 3.346e-02, Time: 39.94\n",
      "epochs: 110, Loss: 3.045e-02, Time: 39.98\n",
      "epochs: 120, Loss: 3.052e-02, Time: 40.23\n",
      "epochs: 130, Loss: 3.100e-02, Time: 41.37\n",
      "epochs: 140, Loss: 3.134e-02, Time: 41.96\n",
      "epochs: 150, Loss: 2.649e-02, Time: 41.41\n",
      "epochs: 160, Loss: 2.673e-02, Time: 41.90\n",
      "epochs: 170, Loss: 2.587e-02, Time: 42.74\n",
      "epochs: 180, Loss: 2.480e-02, Time: 42.90\n",
      "epochs: 190, Loss: 2.433e-02, Time: 42.99\n",
      "79.51806929421846\n",
      "66.19987907015685\n",
      "56.56645739677427\n",
      "120.95444842624039\n",
      "Adaptive weights are saved in pickle file\n",
      "Parameters are saved in pickle file\n",
      "Gradients are saved in pickle file\n",
      "Previous predictions are loaded from pickle file\n",
      "Previous predictions are saved in pickle file\n"
     ]
    },
    {
     "data": {
      "text/html": [
       "Waiting for W&B process to finish... <strong style=\"color:green\">(success).</strong>"
      ],
      "text/plain": [
       "<IPython.core.display.HTML object>"
      ]
     },
     "metadata": {},
     "output_type": "display_data"
    },
    {
     "data": {
      "application/vnd.jupyter.widget-view+json": {
       "model_id": "",
       "version_major": 2,
       "version_minor": 0
      },
      "text/plain": [
       "VBox(children=(Label(value='0.001 MB of 0.001 MB uploaded (0.000 MB deduped)\\r'), FloatProgress(value=1.0, max…"
      ]
     },
     "metadata": {},
     "output_type": "display_data"
    },
    {
     "data": {
      "text/html": [
       "<style>\n",
       "    table.wandb td:nth-child(1) { padding: 0 10px; text-align: left ; width: auto;} td:nth-child(2) {text-align: left ; width: 100%}\n",
       "    .wandb-row { display: flex; flex-direction: row; flex-wrap: wrap; justify-content: flex-start; width: 100% }\n",
       "    .wandb-col { display: flex; flex-direction: column; flex-basis: 100%; flex: 1; padding: 10px; }\n",
       "    </style>\n",
       "<div class=\"wandb-row\"><div class=\"wandb-col\"><h3>Run history:</h3><br/><table class=\"wandb\"><tr><td>BCS adaptive constant</td><td>▄▄▃▃▃▂▂▂▂▂▁▁▁▁▁▁▁▁▁▁▁▁▁▁▃▄▅▅▅██▇▇▆▆▆▅▄▄▄</td></tr><tr><td>Boundary_loss</td><td>█▁▁▁▁▁▁▁▁▁▁▁▁▁▁▁▁▁▁▁▁▁▁▁▁▁▁▁▁▁▁▁▁▁▁▁▁▁▁▁</td></tr><tr><td>DDS adaptive constant</td><td>▄▄▃▃▃▃▃▂▂▂▂▁▁▁▁▁▁▁▁▁▁▁▁▁▂▅▆▇▇██▇▆▆▆▅▄▄▄▄</td></tr><tr><td>Data_loss</td><td>█▂▁▁▁▁▁▁▁▁▁▁▁▁▁▁▁▁▁▁▁▁▁▁▁▁▁▁▁▁▁▁▁▁▁▁▁▁▁▁</td></tr><tr><td>ICS adaptive constant</td><td>▃▃▃▃▃▂▃▃▂▂▂▂▂▂▂▁▁▁▁▁▁▁▁▁▃▅▆▆▇███▇▇▆▆▅▄▄▄</td></tr><tr><td>Initial_loss</td><td>█▁▁▁▁▁▁▁▁▁▁▁▁▁▁▁▁▁▁▁▁▁▁▁▁▁▁▁▁▁▁▁▁▁▁▁▁▁▁▁</td></tr><tr><td>PDS adaptive constant</td><td>▄▆▅▆▅▅▄▄▄▅▄▃▃▂▂▂▂▂▂▁▃▂▁▁▃▅▆█▇███▆▆▆▅▅▅▅▄</td></tr><tr><td>Previous_loss</td><td>█▁▁▁▁▁▁▁▁▁▁▁▁▁▁▁▁▁▁▁▁▁▁▁▁▁▁▁▁▁▁▁▁▁▁▁▁▁▁▁</td></tr><tr><td>Residual_loss</td><td>█▃▂▂▁▂▁▁▁▁▁▁▁▁▁▁▁▁▁▁▁▁▁▁▁▁▁▁▁▁▁▁▁▁▁▁▁▁▁▁</td></tr><tr><td>Total_loss</td><td>█▁▁▁▁▁▁▁▁▁▁▁▁▁▁▁▁▁▁▁▁▁▁▁▁▁▁▁▁▁▁▁▁▁▁▁▁▁▁▁</td></tr><tr><td>time step 1</td><td>█▁▁▁▁▁▁▂▂▁▂▁▂▁▁▂▁▁▄▁▁▂▂▂▁▁▁▁▁▁▁▁▁▁▁▁▁▁▁▁</td></tr></table><br/></div><div class=\"wandb-col\"><h3>Run summary:</h3><br/><table class=\"wandb\"><tr><td>BCS adaptive constant</td><td>66.19988</td></tr><tr><td>Boundary_loss</td><td>0.00035</td></tr><tr><td>DDS adaptive constant</td><td>56.56646</td></tr><tr><td>Data_loss</td><td>0.00851</td></tr><tr><td>ICS adaptive constant</td><td>79.51807</td></tr><tr><td>Initial_loss</td><td>0.00131</td></tr><tr><td>PDS adaptive constant</td><td>120.95445</td></tr><tr><td>Previous_loss</td><td>0.00303</td></tr><tr><td>Residual_loss</td><td>0.01113</td></tr><tr><td>Total_loss</td><td>0.02433</td></tr><tr><td>time step 1</td><td>0.01055</td></tr></table><br/></div></div>"
      ],
      "text/plain": [
       "<IPython.core.display.HTML object>"
      ]
     },
     "metadata": {},
     "output_type": "display_data"
    },
    {
     "data": {
      "text/html": [
       "Synced <strong style=\"color:#cdcd00\">super-silence-10</strong>: <a href=\"https://wandb.ai/vamsi_malineni6/fds_surr_96_checking_normalization/runs/3hikdqwd\" target=\"_blank\">https://wandb.ai/vamsi_malineni6/fds_surr_96_checking_normalization/runs/3hikdqwd</a><br/>Synced 5 W&B file(s), 0 media file(s), 0 artifact file(s) and 0 other file(s)"
      ],
      "text/plain": [
       "<IPython.core.display.HTML object>"
      ]
     },
     "metadata": {},
     "output_type": "display_data"
    },
    {
     "data": {
      "text/html": [
       "Find logs at: <code>.\\wandb\\run-20230801_165310-3hikdqwd\\logs</code>"
      ],
      "text/plain": [
       "<IPython.core.display.HTML object>"
      ]
     },
     "metadata": {},
     "output_type": "display_data"
    },
    {
     "name": "stdout",
     "output_type": "stream",
     "text": [
      "Adaptive weights are loaded\n"
     ]
    },
    {
     "data": {
      "application/vnd.jupyter.widget-view+json": {
       "model_id": "3dda2d70468448099c1fe1951c99e545",
       "version_major": 2,
       "version_minor": 0
      },
      "text/plain": [
       "VBox(children=(Label(value='Waiting for wandb.init()...\\r'), FloatProgress(value=0.03346766630808513, max=1.0)…"
      ]
     },
     "metadata": {},
     "output_type": "display_data"
    },
    {
     "data": {
      "text/html": [
       "wandb version 0.15.7 is available!  To upgrade, please run:\n",
       " $ pip install wandb --upgrade"
      ],
      "text/plain": [
       "<IPython.core.display.HTML object>"
      ]
     },
     "metadata": {},
     "output_type": "display_data"
    },
    {
     "data": {
      "text/html": [
       "Tracking run with wandb version 0.13.3"
      ],
      "text/plain": [
       "<IPython.core.display.HTML object>"
      ]
     },
     "metadata": {},
     "output_type": "display_data"
    },
    {
     "data": {
      "text/html": [
       "Run data is saved locally in <code>C:\\Users\\user1\\Downloads\\Vamsi_oe20s302\\Research work\\Final Cylinder notebooks\\Using_fixed_datasets\\Proposed Surrogate\\wandb\\run-20230801_173849-q4o2gs7v</code>"
      ],
      "text/plain": [
       "<IPython.core.display.HTML object>"
      ]
     },
     "metadata": {},
     "output_type": "display_data"
    },
    {
     "data": {
      "text/html": [
       "Syncing run <strong><a href=\"https://wandb.ai/vamsi_malineni6/fds_surr_96_checking_normalization/runs/q4o2gs7v\" target=\"_blank\">sparkling-music-11</a></strong> to <a href=\"https://wandb.ai/vamsi_malineni6/fds_surr_96_checking_normalization\" target=\"_blank\">Weights & Biases</a> (<a href=\"https://wandb.me/run\" target=\"_blank\">docs</a>)<br/>"
      ],
      "text/plain": [
       "<IPython.core.display.HTML object>"
      ]
     },
     "metadata": {},
     "output_type": "display_data"
    },
    {
     "name": "stdout",
     "output_type": "stream",
     "text": [
      "Previous predictions are loaded from pickle file\n",
      "Parameters are loaded succesffuly\n",
      "Device mapping:\n",
      "/job:localhost/replica:0/task:0/device:GPU:0 -> device: 0, name: NVIDIA GeForce RTX 3060, pci bus id: 0000:01:00.0, compute capability: 8.6\n",
      "/job:localhost/replica:0/task:0/device:GPU:1 -> device: 1, name: NVIDIA GeForce RTX 3060, pci bus id: 0000:03:00.0, compute capability: 8.6\n",
      "\n",
      "===============================================================================================\n",
      "Commencing training for the timesegment:( 5 6 ] \n",
      "===============================================================================================\n",
      "epochs: 0, Loss: 1.225e+01, Time: 161.95\n",
      "epochs: 10, Loss: 1.811e+00, Time: 44.27\n",
      "epochs: 20, Loss: 4.806e-01, Time: 44.38\n",
      "epochs: 30, Loss: 2.990e-01, Time: 44.51\n",
      "epochs: 40, Loss: 2.002e-01, Time: 44.01\n",
      "epochs: 50, Loss: 2.344e-01, Time: 44.22\n",
      "epochs: 60, Loss: 2.694e-01, Time: 44.66\n",
      "epochs: 70, Loss: 1.241e-01, Time: 44.64\n",
      "epochs: 80, Loss: 1.112e-01, Time: 44.74\n",
      "epochs: 90, Loss: 1.138e-01, Time: 44.83\n",
      "epochs: 100, Loss: 9.359e-02, Time: 44.87\n",
      "epochs: 110, Loss: 1.341e-01, Time: 44.89\n",
      "epochs: 120, Loss: 1.110e-01, Time: 45.12\n",
      "epochs: 130, Loss: 8.503e-02, Time: 43.69\n",
      "epochs: 140, Loss: 1.411e-01, Time: 43.09\n",
      "epochs: 150, Loss: 6.308e-02, Time: 44.08\n",
      "epochs: 160, Loss: 6.949e-02, Time: 43.78\n",
      "epochs: 170, Loss: 1.278e-01, Time: 44.06\n",
      "epochs: 180, Loss: 2.025e-01, Time: 43.99\n",
      "epochs: 190, Loss: 1.422e-01, Time: 43.49\n",
      "epochs: 200, Loss: 9.255e-02, Time: 42.72\n",
      "epochs: 210, Loss: 1.126e-01, Time: 43.32\n",
      "epochs: 220, Loss: 3.463e-01, Time: 42.97\n",
      "epochs: 230, Loss: 5.616e-02, Time: 43.41\n",
      "epochs: 240, Loss: 4.975e-02, Time: 43.20\n",
      "epochs: 250, Loss: 1.058e-01, Time: 42.80\n",
      "epochs: 260, Loss: 7.734e-02, Time: 43.77\n",
      "epochs: 270, Loss: 1.484e-01, Time: 43.33\n",
      "epochs: 280, Loss: 3.920e-02, Time: 43.23\n",
      "epochs: 290, Loss: 7.090e-02, Time: 43.21\n",
      "epochs: 0, Loss: 3.305e-02, Time: 4.26\n",
      "epochs: 10, Loss: 2.838e-02, Time: 43.39\n",
      "epochs: 20, Loss: 2.969e-02, Time: 43.51\n",
      "epochs: 30, Loss: 3.148e-02, Time: 45.86\n",
      "epochs: 40, Loss: 3.434e-02, Time: 45.44\n",
      "epochs: 50, Loss: 3.421e-02, Time: 45.80\n",
      "epochs: 60, Loss: 3.334e-02, Time: 45.76\n",
      "epochs: 70, Loss: 3.432e-02, Time: 44.75\n",
      "epochs: 80, Loss: 3.631e-02, Time: 44.91\n",
      "epochs: 90, Loss: 3.571e-02, Time: 45.05\n",
      "epochs: 100, Loss: 3.533e-02, Time: 43.20\n",
      "epochs: 110, Loss: 3.590e-02, Time: 43.65\n",
      "epochs: 120, Loss: 3.595e-02, Time: 43.74\n",
      "epochs: 130, Loss: 3.592e-02, Time: 43.93\n",
      "epochs: 140, Loss: 3.228e-02, Time: 43.66\n",
      "epochs: 150, Loss: 3.263e-02, Time: 43.77\n",
      "epochs: 160, Loss: 3.114e-02, Time: 44.39\n",
      "epochs: 170, Loss: 3.064e-02, Time: 45.75\n",
      "epochs: 180, Loss: 3.247e-02, Time: 43.99\n",
      "epochs: 190, Loss: 2.971e-02, Time: 43.66\n",
      "75.80908729202625\n",
      "86.18093324365897\n",
      "63.96522505545944\n",
      "93.57768555606347\n",
      "Adaptive weights are saved in pickle file\n",
      "Parameters are saved in pickle file\n",
      "Gradients are saved in pickle file\n",
      "Previous predictions are loaded from pickle file\n",
      "Previous predictions are saved in pickle file\n"
     ]
    },
    {
     "data": {
      "text/html": [
       "Waiting for W&B process to finish... <strong style=\"color:green\">(success).</strong>"
      ],
      "text/plain": [
       "<IPython.core.display.HTML object>"
      ]
     },
     "metadata": {},
     "output_type": "display_data"
    },
    {
     "data": {
      "application/vnd.jupyter.widget-view+json": {
       "model_id": "",
       "version_major": 2,
       "version_minor": 0
      },
      "text/plain": [
       "VBox(children=(Label(value='0.001 MB of 0.001 MB uploaded (0.000 MB deduped)\\r'), FloatProgress(value=1.0, max…"
      ]
     },
     "metadata": {},
     "output_type": "display_data"
    },
    {
     "data": {
      "text/html": [
       "<style>\n",
       "    table.wandb td:nth-child(1) { padding: 0 10px; text-align: left ; width: auto;} td:nth-child(2) {text-align: left ; width: 100%}\n",
       "    .wandb-row { display: flex; flex-direction: row; flex-wrap: wrap; justify-content: flex-start; width: 100% }\n",
       "    .wandb-col { display: flex; flex-direction: column; flex-basis: 100%; flex: 1; padding: 10px; }\n",
       "    </style>\n",
       "<div class=\"wandb-row\"><div class=\"wandb-col\"><h3>Run history:</h3><br/><table class=\"wandb\"><tr><td>BCS adaptive constant</td><td>▃▃▃▃▃▂▂▂▂▁▁▁▂▂▂▁▁▁▁▂▂▂▂▃▃▄▄▆▇▇▇██▇█▇▇▆▇▆</td></tr><tr><td>Boundary_loss</td><td>█▂▁▁▁▁▁▁▁▁▁▁▁▁▁▁▁▁▁▁▁▁▁▁▁▁▁▁▁▁▁▁▁▁▁▁▁▁▁▁</td></tr><tr><td>DDS adaptive constant</td><td>▄▄▃▃▂▂▂▂▂▁▁▁▁▁▁▁▁▁▁▁▁▁▁▂▂▃▄▅▆▇▇█▇▇▇▆▆▅▆▅</td></tr><tr><td>Data_loss</td><td>█▃▁▁▁▁▁▁▁▁▁▁▁▁▁▁▁▁▁▁▁▁▁▁▁▁▁▁▁▁▁▁▁▁▁▁▁▁▁▁</td></tr><tr><td>ICS adaptive constant</td><td>▆▅▄▄▃▃▂▂▂▂▂▂▂▂▁▁▁▁▂▁▁▁▁▂▂▃▄▅▆▆▆▆█▇█▇▇▆▆▅</td></tr><tr><td>Initial_loss</td><td>█▂▁▁▁▁▁▁▁▁▁▁▁▁▁▁▁▁▁▁▁▁▁▁▁▁▁▁▁▁▁▁▁▁▁▁▁▁▁▁</td></tr><tr><td>PDS adaptive constant</td><td>█▇▆▅▄▄▅▅▄▃▄▃▃▂▂▂▂▂▃▂▂▂▁▁▁▃▃▅▄▄▄▅▆▅▆▅▇▆▆▅</td></tr><tr><td>Previous_loss</td><td>█▂▁▁▁▁▁▁▁▁▁▁▁▁▁▁▁▁▁▁▁▁▁▁▁▁▁▁▁▁▁▁▁▁▁▁▁▁▁▁</td></tr><tr><td>Residual_loss</td><td>█▄▃▂▂▂▁▁▁▁▁▁▁▁▁▁▁▁▂▁▁▁▁▁▁▁▁▁▁▁▁▁▁▁▁▁▁▁▁▁</td></tr><tr><td>Total_loss</td><td>█▂▁▁▁▁▁▁▁▁▁▁▁▁▁▁▁▁▁▁▁▁▁▁▁▁▁▁▁▁▁▁▁▁▁▁▁▁▁▁</td></tr><tr><td>time step 1</td><td>█▁▂▁▂▂▂▂▁▁▂▂▁▂▁▂▂▂▂▁▂▂▂▁▁▁▁▁▁▁▁▁▁▁▁▁▁▁▁▁</td></tr></table><br/></div><div class=\"wandb-col\"><h3>Run summary:</h3><br/><table class=\"wandb\"><tr><td>BCS adaptive constant</td><td>86.18093</td></tr><tr><td>Boundary_loss</td><td>0.00044</td></tr><tr><td>DDS adaptive constant</td><td>63.96523</td></tr><tr><td>Data_loss</td><td>0.01035</td></tr><tr><td>ICS adaptive constant</td><td>75.80909</td></tr><tr><td>Initial_loss</td><td>0.00183</td></tr><tr><td>PDS adaptive constant</td><td>93.57769</td></tr><tr><td>Previous_loss</td><td>0.00478</td></tr><tr><td>Residual_loss</td><td>0.0123</td></tr><tr><td>Total_loss</td><td>0.02971</td></tr><tr><td>time step 1</td><td>0.01051</td></tr></table><br/></div></div>"
      ],
      "text/plain": [
       "<IPython.core.display.HTML object>"
      ]
     },
     "metadata": {},
     "output_type": "display_data"
    },
    {
     "data": {
      "text/html": [
       "Synced <strong style=\"color:#cdcd00\">sparkling-music-11</strong>: <a href=\"https://wandb.ai/vamsi_malineni6/fds_surr_96_checking_normalization/runs/q4o2gs7v\" target=\"_blank\">https://wandb.ai/vamsi_malineni6/fds_surr_96_checking_normalization/runs/q4o2gs7v</a><br/>Synced 5 W&B file(s), 0 media file(s), 0 artifact file(s) and 0 other file(s)"
      ],
      "text/plain": [
       "<IPython.core.display.HTML object>"
      ]
     },
     "metadata": {},
     "output_type": "display_data"
    },
    {
     "data": {
      "text/html": [
       "Find logs at: <code>.\\wandb\\run-20230801_173849-q4o2gs7v\\logs</code>"
      ],
      "text/plain": [
       "<IPython.core.display.HTML object>"
      ]
     },
     "metadata": {},
     "output_type": "display_data"
    },
    {
     "name": "stdout",
     "output_type": "stream",
     "text": [
      "Adaptive weights are loaded\n"
     ]
    },
    {
     "data": {
      "application/vnd.jupyter.widget-view+json": {
       "model_id": "7b716bc390684f069dcaf7960b3bc304",
       "version_major": 2,
       "version_minor": 0
      },
      "text/plain": [
       "VBox(children=(Label(value='Waiting for wandb.init()...\\r'), FloatProgress(value=0.033559926350911456, max=1.0…"
      ]
     },
     "metadata": {},
     "output_type": "display_data"
    },
    {
     "data": {
      "text/html": [
       "wandb version 0.15.7 is available!  To upgrade, please run:\n",
       " $ pip install wandb --upgrade"
      ],
      "text/plain": [
       "<IPython.core.display.HTML object>"
      ]
     },
     "metadata": {},
     "output_type": "display_data"
    },
    {
     "data": {
      "text/html": [
       "Tracking run with wandb version 0.13.3"
      ],
      "text/plain": [
       "<IPython.core.display.HTML object>"
      ]
     },
     "metadata": {},
     "output_type": "display_data"
    },
    {
     "data": {
      "text/html": [
       "Run data is saved locally in <code>C:\\Users\\user1\\Downloads\\Vamsi_oe20s302\\Research work\\Final Cylinder notebooks\\Using_fixed_datasets\\Proposed Surrogate\\wandb\\run-20230801_182811-5qxncmkx</code>"
      ],
      "text/plain": [
       "<IPython.core.display.HTML object>"
      ]
     },
     "metadata": {},
     "output_type": "display_data"
    },
    {
     "data": {
      "text/html": [
       "Syncing run <strong><a href=\"https://wandb.ai/vamsi_malineni6/fds_surr_96_checking_normalization/runs/5qxncmkx\" target=\"_blank\">rural-butterfly-12</a></strong> to <a href=\"https://wandb.ai/vamsi_malineni6/fds_surr_96_checking_normalization\" target=\"_blank\">Weights & Biases</a> (<a href=\"https://wandb.me/run\" target=\"_blank\">docs</a>)<br/>"
      ],
      "text/plain": [
       "<IPython.core.display.HTML object>"
      ]
     },
     "metadata": {},
     "output_type": "display_data"
    },
    {
     "name": "stdout",
     "output_type": "stream",
     "text": [
      "Previous predictions are loaded from pickle file\n",
      "Parameters are loaded succesffuly\n",
      "Device mapping:\n",
      "/job:localhost/replica:0/task:0/device:GPU:0 -> device: 0, name: NVIDIA GeForce RTX 3060, pci bus id: 0000:01:00.0, compute capability: 8.6\n",
      "/job:localhost/replica:0/task:0/device:GPU:1 -> device: 1, name: NVIDIA GeForce RTX 3060, pci bus id: 0000:03:00.0, compute capability: 8.6\n",
      "\n",
      "===============================================================================================\n",
      "Commencing training for the timesegment:( 6 7 ] \n",
      "===============================================================================================\n",
      "epochs: 0, Loss: 1.014e+01, Time: 210.99\n",
      "epochs: 10, Loss: 6.303e-01, Time: 47.91\n",
      "epochs: 20, Loss: 3.444e-01, Time: 47.23\n",
      "epochs: 30, Loss: 2.776e-01, Time: 47.49\n",
      "epochs: 40, Loss: 3.048e-01, Time: 46.96\n",
      "epochs: 50, Loss: 1.962e-01, Time: 46.88\n",
      "epochs: 60, Loss: 1.700e-01, Time: 46.93\n",
      "epochs: 70, Loss: 1.474e-01, Time: 46.52\n",
      "epochs: 80, Loss: 1.736e-01, Time: 47.06\n",
      "epochs: 90, Loss: 2.114e-01, Time: 48.15\n",
      "epochs: 100, Loss: 8.503e-02, Time: 48.96\n",
      "epochs: 110, Loss: 9.384e-02, Time: 49.68\n",
      "epochs: 120, Loss: 9.721e-02, Time: 49.33\n",
      "epochs: 130, Loss: 2.467e-01, Time: 48.92\n",
      "epochs: 140, Loss: 3.124e-01, Time: 49.32\n",
      "epochs: 150, Loss: 1.389e-01, Time: 49.34\n",
      "epochs: 160, Loss: 5.788e-02, Time: 49.17\n",
      "epochs: 170, Loss: 6.868e-02, Time: 48.48\n",
      "epochs: 180, Loss: 6.596e-02, Time: 49.06\n",
      "epochs: 190, Loss: 8.140e-02, Time: 48.48\n",
      "epochs: 200, Loss: 6.153e-02, Time: 48.60\n",
      "epochs: 210, Loss: 8.352e-02, Time: 48.65\n",
      "epochs: 220, Loss: 6.064e-02, Time: 47.58\n",
      "epochs: 230, Loss: 5.819e-02, Time: 46.30\n",
      "epochs: 240, Loss: 6.879e-02, Time: 46.16\n",
      "epochs: 250, Loss: 7.380e-02, Time: 45.71\n",
      "epochs: 260, Loss: 7.464e-02, Time: 45.70\n",
      "epochs: 270, Loss: 3.421e-01, Time: 46.36\n",
      "epochs: 280, Loss: 8.513e-02, Time: 47.18\n",
      "epochs: 290, Loss: 5.359e-02, Time: 46.76\n",
      "epochs: 0, Loss: 3.302e-02, Time: 4.70\n",
      "epochs: 10, Loss: 3.041e-02, Time: 47.26\n",
      "epochs: 20, Loss: 3.406e-02, Time: 47.71\n",
      "epochs: 30, Loss: 3.520e-02, Time: 47.65\n",
      "epochs: 40, Loss: 3.569e-02, Time: 46.74\n",
      "epochs: 50, Loss: 3.577e-02, Time: 46.67\n",
      "epochs: 60, Loss: 3.691e-02, Time: 49.68\n",
      "epochs: 70, Loss: 3.662e-02, Time: 49.06\n",
      "epochs: 80, Loss: 3.555e-02, Time: 51.25\n",
      "epochs: 90, Loss: 3.616e-02, Time: 51.51\n",
      "epochs: 100, Loss: 3.290e-02, Time: 50.98\n",
      "epochs: 110, Loss: 3.391e-02, Time: 51.24\n",
      "epochs: 120, Loss: 3.522e-02, Time: 52.28\n",
      "epochs: 130, Loss: 3.279e-02, Time: 48.79\n",
      "epochs: 140, Loss: 3.375e-02, Time: 48.60\n",
      "epochs: 150, Loss: 3.404e-02, Time: 48.97\n",
      "epochs: 160, Loss: 3.132e-02, Time: 47.76\n",
      "epochs: 170, Loss: 3.887e-02, Time: 48.62\n",
      "epochs: 180, Loss: 2.876e-02, Time: 49.08\n",
      "epochs: 190, Loss: 3.201e-02, Time: 48.58\n",
      "72.83473830299621\n",
      "97.10829686318743\n",
      "70.39531376551491\n",
      "68.91516178910763\n",
      "Adaptive weights are saved in pickle file\n",
      "Parameters are saved in pickle file\n",
      "Gradients are saved in pickle file\n",
      "Previous predictions are loaded from pickle file\n",
      "Previous predictions are saved in pickle file\n"
     ]
    },
    {
     "data": {
      "text/html": [
       "Waiting for W&B process to finish... <strong style=\"color:green\">(success).</strong>"
      ],
      "text/plain": [
       "<IPython.core.display.HTML object>"
      ]
     },
     "metadata": {},
     "output_type": "display_data"
    },
    {
     "data": {
      "application/vnd.jupyter.widget-view+json": {
       "model_id": "",
       "version_major": 2,
       "version_minor": 0
      },
      "text/plain": [
       "VBox(children=(Label(value='0.001 MB of 0.001 MB uploaded (0.000 MB deduped)\\r'), FloatProgress(value=1.0, max…"
      ]
     },
     "metadata": {},
     "output_type": "display_data"
    },
    {
     "data": {
      "text/html": [
       "<style>\n",
       "    table.wandb td:nth-child(1) { padding: 0 10px; text-align: left ; width: auto;} td:nth-child(2) {text-align: left ; width: 100%}\n",
       "    .wandb-row { display: flex; flex-direction: row; flex-wrap: wrap; justify-content: flex-start; width: 100% }\n",
       "    .wandb-col { display: flex; flex-direction: column; flex-basis: 100%; flex: 1; padding: 10px; }\n",
       "    </style>\n",
       "<div class=\"wandb-row\"><div class=\"wandb-col\"><h3>Run history:</h3><br/><table class=\"wandb\"><tr><td>BCS adaptive constant</td><td>▄▃▃▂▂▂▂▁▂▁▁▁▁▁▁▁▁▂▂▂▂▃▂▃▃▅▇▇██▇▇▇██▇▆▇▆▆</td></tr><tr><td>Boundary_loss</td><td>█▁▁▁▁▁▁▁▁▁▁▁▁▁▁▁▁▁▁▁▁▁▁▁▁▁▁▁▁▁▁▁▁▁▁▁▁▁▁▁</td></tr><tr><td>DDS adaptive constant</td><td>▄▃▃▃▃▃▂▂▂▁▂▁▁▁▁▁▁▁▁▂▂▂▂▂▂▄▆▇██▇███▇▇▆▆▆▅</td></tr><tr><td>Data_loss</td><td>█▁▁▁▁▁▁▁▁▁▁▁▁▁▁▁▁▁▁▁▁▁▁▁▁▁▁▁▁▁▁▁▁▁▁▁▁▁▁▁</td></tr><tr><td>ICS adaptive constant</td><td>▅▄▄▃▃▂▂▂▁▁▂▁▁▂▁▁▁▁▁▂▃▃▃▂▂▅▆▇▇█████▇▇▆▆▆▅</td></tr><tr><td>Initial_loss</td><td>█▁▁▁▁▁▁▁▁▁▁▁▁▁▁▁▁▁▁▁▁▁▁▁▁▁▁▁▁▁▁▁▁▁▁▁▁▁▁▁</td></tr><tr><td>PDS adaptive constant</td><td>█▇▆▅▄▄▃▃▂▂▂▂▂▂▁▁▁▁▁▂▃▃▃▃▄▆▆▆▇▇▆▆▆▇▇▆▅▅▄▄</td></tr><tr><td>Previous_loss</td><td>█▂▁▁▁▁▁▁▁▁▁▁▁▁▁▁▁▁▁▁▁▁▁▁▁▁▁▁▁▁▁▁▁▁▁▁▁▁▁▁</td></tr><tr><td>Residual_loss</td><td>█▃▂▂▂▁▁▁▁▁▁▁▁▁▁▁▁▁▁▁▁▁▁▁▁▁▁▁▁▁▁▁▁▁▁▁▁▁▁▁</td></tr><tr><td>Total_loss</td><td>█▁▁▁▁▁▁▁▁▁▁▁▁▁▁▁▁▁▁▁▁▁▁▁▁▁▁▁▁▁▁▁▁▁▁▁▁▁▁▁</td></tr><tr><td>time step 1</td><td>█▁▁▂▂▁▁▂▂▂▁▁▂▂▁▂▁▁▂▁▁▁▂▂▁▁▁▁▁▁▁▁▁▁▁▁▁▁▁▁</td></tr></table><br/></div><div class=\"wandb-col\"><h3>Run summary:</h3><br/><table class=\"wandb\"><tr><td>BCS adaptive constant</td><td>97.1083</td></tr><tr><td>Boundary_loss</td><td>0.00053</td></tr><tr><td>DDS adaptive constant</td><td>70.39531</td></tr><tr><td>Data_loss</td><td>0.01014</td></tr><tr><td>ICS adaptive constant</td><td>72.83474</td></tr><tr><td>Initial_loss</td><td>0.00219</td></tr><tr><td>PDS adaptive constant</td><td>68.91516</td></tr><tr><td>Previous_loss</td><td>0.00647</td></tr><tr><td>Residual_loss</td><td>0.01268</td></tr><tr><td>Total_loss</td><td>0.03201</td></tr><tr><td>time step 1</td><td>0.01062</td></tr></table><br/></div></div>"
      ],
      "text/plain": [
       "<IPython.core.display.HTML object>"
      ]
     },
     "metadata": {},
     "output_type": "display_data"
    },
    {
     "data": {
      "text/html": [
       "Synced <strong style=\"color:#cdcd00\">rural-butterfly-12</strong>: <a href=\"https://wandb.ai/vamsi_malineni6/fds_surr_96_checking_normalization/runs/5qxncmkx\" target=\"_blank\">https://wandb.ai/vamsi_malineni6/fds_surr_96_checking_normalization/runs/5qxncmkx</a><br/>Synced 5 W&B file(s), 0 media file(s), 0 artifact file(s) and 0 other file(s)"
      ],
      "text/plain": [
       "<IPython.core.display.HTML object>"
      ]
     },
     "metadata": {},
     "output_type": "display_data"
    },
    {
     "data": {
      "text/html": [
       "Find logs at: <code>.\\wandb\\run-20230801_182811-5qxncmkx\\logs</code>"
      ],
      "text/plain": [
       "<IPython.core.display.HTML object>"
      ]
     },
     "metadata": {},
     "output_type": "display_data"
    }
   ],
   "source": [
    "if __name__ == \"__main__\":\n",
    "\n",
    "    \n",
    "    N_train = 25000\n",
    "    batch_size=1000\n",
    "    Reynolds = 100\n",
    "    layers = [3]+10*[100]+[3]\n",
    "    \n",
    "    fre = 5\n",
    "    \n",
    "    # Timesteps for loop :\n",
    "    timesteps=[round(i,3) for i in np.arange(4,8,1)]\n",
    "    \n",
    "    for i in timesteps:\n",
    "        \n",
    "        time_step = i\n",
    "        if i == 2:\n",
    "            bcs_v,ics_v,dds_v=load_aws_1st(weight_name)\n",
    "            pds_v=np.array(1.0)\n",
    "        else:\n",
    "            bcs_v,ics_v,dds_v,pds_v=load_aws_rest(weight_name)\n",
    "\n",
    "        # Naming the gradients file after the time segment\n",
    "        grad_file='gradient_info_adaptive_'\n",
    "        grad_file = grad_file+str(time_step)\n",
    "        grad_name   = results_path_plus_name + '/'  + grad_file \n",
    "        \n",
    "        # initializing wandb workspace\n",
    "        wandb.init(entity=entity_name,project=project_name)\n",
    "        \n",
    "        # naming the run on wandb\n",
    "        name_run= str(time_step)+\"-run2\"\n",
    "        wandb.run.name=name_run\n",
    "        \n",
    "        # Loading the initial and the boundary conditions for the next timestep\n",
    "        domain,boundary, domain_data = load_data(time_step)\n",
    "        \n",
    "        # Loading the previous timesegment data\n",
    "        prevtimedata=read_prev_data(prev_name)\n",
    "\n",
    "        # Loading the initial conditions for the consecutive time segments\n",
    "        initial=prevtimedata[:,:][prevtimedata[:,2]==np.unique(prevtimedata[:,2])[-1]][:,0:5]\n",
    "        # Enter the names of the files :\n",
    "        '''\n",
    "        params_name : name of the file where you want to save the weights and biases, LOAD THE MODEL EVERYTIME, SINCE ITS THE SAME\n",
    "                      MODEL THAT IS BEING TRAINED OVER DIFFERNT TIMESEGMENTS, WITH FOCUS ON PREV TIME SEGMENTS                  \n",
    "        loss_name   : name of the file where you want to save the loss components\n",
    "        prev_name   : name of the file where you want to save the predictions of each time step in the segment\n",
    "        '''\n",
    "        #==========================================================================================================#\n",
    "        # Start Training\n",
    "        #==========================================================================================================#\n",
    "        \n",
    "\n",
    "        # Start the Training process\n",
    "        with tf.device('/gpu:0'):\n",
    "\n",
    "            bc_pinn_model = bc_pinn_t (domain,initial,boundary,domain_data,prevtimedata,datalist,lowb,upb,\n",
    "                                       N_train,batch_size,\n",
    "                                       layers,re=Reynolds,\n",
    "                                       load_model=True,filedr=params_name,\n",
    "                                       timestep=time_step,\n",
    "                                       savewandb=params_name,saveloss='',gradname=grad_name,\n",
    "                                      ics_val=ics_v,bcs_val=bcs_v,dds_val=dds_v,pds_val=pds_v)\n",
    "\n",
    "            print(\"===============================================================================================\")\n",
    "            print(\"Commencing training for the timesegment:(\",round((time_step-1),3),time_step,\"] \")\n",
    "            print(\"===============================================================================================\")\n",
    "            \n",
    "            bc_pinn_model.Adam_train(300, 1e-3)\n",
    "            bc_pinn_model.Adam_train(200, 1e-4)\n",
    "                    \n",
    "            print(bc_pinn_model.adaptive_constant_ics_val)\n",
    "            print(bc_pinn_model.adaptive_constant_bcs_val)\n",
    "            print(bc_pinn_model.adaptive_constant_dds_val)\n",
    "            print(bc_pinn_model.adaptive_constant_pds_val)\n",
    "            bc_pinn_model.save_weights(weight_name)        \n",
    "\n",
    "            bc_pinn_model.save_parameters(params_name)\n",
    "            \n",
    "            # Saving the gradients in a differnt file\n",
    "            bc_pinn_model.save_gradients(bc_pinn_model.tf_dict)\n",
    "            bc_pinn_model.save_gradients_infile(bc_pinn_model.gradient_name)\n",
    "        \n",
    "        \n",
    "        # This code snippet appends the predictions at each time step for the previous time segment.\n",
    "        idx=return_indexes(time_step)\n",
    "        save_prev_data(idx,prev_name,time_step,bc_pinn_model)\n",
    "        \n",
    "\n",
    "        # Save the experiment run and finish the experiment in wandb \n",
    "        wandb.run.save()\n",
    "        wandb.run.finish()\n",
    "\n"
   ]
  },
  {
   "cell_type": "markdown",
   "id": "aa5f1b21",
   "metadata": {},
   "source": [
    "# Run this code snippet to load the model "
   ]
  },
  {
   "cell_type": "code",
   "execution_count": 16,
   "id": "33903514",
   "metadata": {},
   "outputs": [
    {
     "name": "stdout",
     "output_type": "stream",
     "text": [
      "Predictions are loaded\n",
      "Previous predictions are loaded from pickle file\n",
      "Parameters are loaded succesffuly\n",
      "Device mapping:\n",
      "/job:localhost/replica:0/task:0/device:GPU:0 -> device: 0, name: NVIDIA GeForce RTX 3060, pci bus id: 0000:01:00.0, compute capability: 8.6\n",
      "/job:localhost/replica:0/task:0/device:GPU:1 -> device: 1, name: NVIDIA GeForce RTX 3060, pci bus id: 0000:03:00.0, compute capability: 8.6\n",
      "\n"
     ]
    }
   ],
   "source": [
    "N_train = 25000\n",
    "batch_size=1000\n",
    "Reynolds = 100\n",
    "\n",
    "depth = 10\n",
    "\n",
    "layers = [3]+(depth)*[100]+[3]\n",
    "\n",
    "time_step = 7\n",
    "sparse_per= 1\n",
    "sparse_ini=1\n",
    "noise= 0\n",
    "\n",
    "datalist=load_complete_data()\n",
    "domain, initial, boundary, domain_data = load_data(time_step,sparse_per,sparse_ini,noise)\n",
    "\n",
    "# Enter the names of the files :\n",
    "'''\n",
    "load_params : name of the file from where you want to load the weights and biases initially\n",
    "params_name : name of the file where you want to save the weights and biases, incase of RESUMING TRAINING run this file\n",
    "loss_name   : name of the file where you want to save the loss components\n",
    "prev_name   : name of the file where you want to save the predictions of each time step in the segment\n",
    "'''\n",
    "\n",
    "params_file = 'params_exp3.2_run2'\n",
    "prev_file = 'prev_data_predictions_lts_exp3.2_run2'\n",
    "pred_file = 'uv_preds_lts_exp3.2_run2'\n",
    "\n",
    "error_file = 'sparse_mi_1d_errors_exp3.2_run2'\n",
    "grad_file = 'gradient_info_adaptive_'\n",
    "grad_file = grad_file+str(time_step)\n",
    "\n",
    "# create a folder only once; then send the path of the folder alone to the save_prev_data and save_uv_values function\n",
    "# the path should be the source name along with the respective file name\n",
    "\n",
    "#==========================================================================================================#\n",
    " # Change the results_path and params_path accordingly\n",
    "results_path = r'E:\\Vamsi_oe20s302\\Vamsi\\seq2seq learning\\RE100_mts_results\\Noisy_data'\n",
    "params_path  = r'E:\\Vamsi_oe20s302\\Vamsi\\seq2seq learning\\Re100_mts_params\\Noisy_data'\n",
    "\n",
    "#==========================================================================================================#\n",
    "# Change the experiment name to create new folders as experiments\n",
    "#==========================================================================================================#\n",
    "exp_name='exp3.2' \n",
    "#==========================================================================================================#\n",
    "\n",
    "# Joining the respective path and experiment name\n",
    "results_path_plus_name = os.path.join(results_path,exp_name)\n",
    "params_path_plus_name  = os.path.join(params_path,exp_name)\n",
    "\n",
    "global params_name\n",
    "global prev_name\n",
    "global pred_name\n",
    "\n",
    "params_name = params_path_plus_name  + '/'  + params_file \n",
    "prev_name   = results_path_plus_name + '/'  + prev_file\n",
    "pred_name   = results_path_plus_name + '/'  + pred_file \n",
    "error_name  = results_path_plus_name + '/'  + error_file \n",
    "grad_name   = results_path_plus_name + '/'  + grad_file \n",
    "\n",
    "u,v,t=read_uv_values(pred_name)\n",
    "\n",
    "# Initial condition guided learning\n",
    "# Altering the initial conditions data, only uvt values are changed pressure values are untouched.\n",
    "initial[:,2]=t[:,0]\n",
    "initial[:,3]=u[:,0]\n",
    "initial[:,4]=v[:,0]\n",
    "\n",
    "# Loading the previous timesegment data\n",
    "prevtimedata=read_prev_data(prev_name)\n",
    "\n",
    "with tf.device('/gpu:0'):\n",
    "\n",
    "    bc_pinn_model = bc_pinn_t (domain,initial,boundary,domain_data,prevtimedata,datalist,\n",
    "                               N_train,batch_size,\n",
    "                               layers,re=Reynolds,\n",
    "                               load_model=True,filedr=params_name,\n",
    "                               timestep=time_step,\n",
    "                               savewandb=params_name,saveloss='',gradname=grad_name)\n"
   ]
  },
  {
   "cell_type": "markdown",
   "id": "0a0a491f",
   "metadata": {},
   "source": [
    "# Run this code snippet for checking"
   ]
  },
  {
   "cell_type": "code",
   "execution_count": 21,
   "id": "62283747",
   "metadata": {},
   "outputs": [],
   "source": [
    "# Run this for Prediction for a network of 3 10*100 3 \n",
    "def test_check_predictions(test_time_step,model,plot=False):\n",
    "    '''\n",
    "    This code works for specific time steps like 0,1,2,.... and not for intermediate timesteps like 0.1,0.2,0.3......\n",
    "    '''\n",
    "\n",
    "    X_star,Y_star=load_testdata_mts(test_time_step)\n",
    "    u_pred, v_pred, p_pred = model.predict(X_star[0],X_star[1],X_star[2])\n",
    "\n",
    "    # # Error\n",
    "    error_u = np.linalg.norm(Y_star[0] - u_pred, 2) / np.linalg.norm(Y_star[0], 2)\n",
    "    error_v = np.linalg.norm(Y_star[1] - v_pred, 2) / np.linalg.norm(Y_star[1], 2)\n",
    "\n",
    "    # Mean corrected pressure error\n",
    "    p_predm=p_pred-np.mean(p_pred)\n",
    "    p_truem=Y_star[2]-np.mean(Y_star[2])\n",
    "\n",
    "    error_p = np.linalg.norm(p_truem - p_predm, 2) / np.linalg.norm(p_truem, 2)\n",
    "\n",
    "    print(\"Errors at timestep:\", np.unique(X_star[2]))\n",
    "    print(\"------------------------------------------------\")\n",
    "    print('Error u: %e' % error_u)\n",
    "    print('Error v: %e' % error_v)\n",
    "    print('Error p: %e' % error_p)\n",
    "    \n",
    "    if plot == True:\n",
    "        plt.scatter(X_star[0],X_star[1],c=u_pred)\n",
    "        plt.title(\"Predicted u_velocity\")\n",
    "        plt.colorbar()\n",
    "        plt.show()\n",
    "\n",
    "        plt.scatter(X_star[0],X_star[1],c=Y_star[0])\n",
    "        plt.title(\"Actual v_velocity\")\n",
    "        plt.colorbar()\n",
    "        plt.show()\n",
    "        \n",
    "        plt.scatter(X_star[0],X_star[1],c=p_pred,cmap='hot')\n",
    "        plt.title(\"Predicted Pressure\")\n",
    "        plt.colorbar()\n",
    "        plt.show()\n",
    "\n",
    "        plt.scatter(X_star[0],X_star[1],c=p_truem,cmap='hot')\n",
    "        plt.title(\"Actual Pressure\")\n",
    "        plt.colorbar()\n",
    "        plt.show()\n",
    "        \n",
    "                \n",
    "    return error_u,error_v"
   ]
  },
  {
   "cell_type": "code",
   "execution_count": 29,
   "id": "c06546b7",
   "metadata": {
    "scrolled": true
   },
   "outputs": [
    {
     "name": "stdout",
     "output_type": "stream",
     "text": [
      "Errors at timestep: [0.85]\n",
      "------------------------------------------------\n",
      "Error u: 1.763906e-02\n",
      "Error v: 1.026902e-01\n",
      "Error p: 2.286031e-01\n"
     ]
    },
    {
     "data": {
      "image/png": "[encoded data removed]",
      "text/plain": [
       "<Figure size 432x288 with 2 Axes>"
      ]
     },
     "metadata": {
      "needs_background": "light"
     },
     "output_type": "display_data"
    },
    {
     "data": {
      "image/png": "[encoded data removed]",
      "text/plain": [
       "<Figure size 432x288 with 2 Axes>"
      ]
     },
     "metadata": {
      "needs_background": "light"
     },
     "output_type": "display_data"
    },
    {
     "data": {
      "image/png": "[encoded data removed]",
      "text/plain": [
       "<Figure size 432x288 with 2 Axes>"
      ]
     },
     "metadata": {
      "needs_background": "light"
     },
     "output_type": "display_data"
    },
    {
     "data": {
      "image/png": "[encoded data removed]",
      "text/plain": [
       "<Figure size 432x288 with 2 Axes>"
      ]
     },
     "metadata": {
      "needs_background": "light"
     },
     "output_type": "display_data"
    }
   ],
   "source": [
    "_,_=test_check_predictions(0.85,bc_pinn_model,True)"
   ]
  },
  {
   "cell_type": "code",
   "execution_count": 27,
   "id": "c4ec3e17",
   "metadata": {
    "scrolled": true
   },
   "outputs": [
    {
     "name": "stdout",
     "output_type": "stream",
     "text": [
      "Errors at timestep: [0.03]\n",
      "------------------------------------------------\n",
      "Error u: 3.825733e-02\n",
      "Error v: 2.198435e-01\n",
      "Error p: 1.859471e-01\n"
     ]
    },
    {
     "data": {
      "image/png": "[encoded data removed]",
      "text/plain": [
       "<Figure size 432x288 with 2 Axes>"
      ]
     },
     "metadata": {
      "needs_background": "light"
     },
     "output_type": "display_data"
    },
    {
     "data": {
      "image/png": "[encoded data removed]",
      "text/plain": [
       "<Figure size 432x288 with 2 Axes>"
      ]
     },
     "metadata": {
      "needs_background": "light"
     },
     "output_type": "display_data"
    },
    {
     "data": {
      "image/png": "[encoded data removed]",
      "text/plain": [
       "<Figure size 432x288 with 2 Axes>"
      ]
     },
     "metadata": {
      "needs_background": "light"
     },
     "output_type": "display_data"
    },
    {
     "data": {
      "image/png": "[encoded data removed]",
      "text/plain": [
       "<Figure size 432x288 with 2 Axes>"
      ]
     },
     "metadata": {
      "needs_background": "light"
     },
     "output_type": "display_data"
    }
   ],
   "source": [
    "_,_=test_check_predictions(0.03,bc_pinn_model,True)"
   ]
  },
  {
   "cell_type": "markdown",
   "id": "fe35d6f9",
   "metadata": {},
   "source": [
    "# Testing on Unseen dataset"
   ]
  },
  {
   "cell_type": "code",
   "execution_count": 22,
   "id": "a0fc29b4",
   "metadata": {},
   "outputs": [],
   "source": [
    "def load_complete_data_mts():\n",
    "\n",
    "    path=r\"E:\\Vamsi_oe20s302\\Research work\\Simulations and data\\Unsteady trials\\data\\trials\\Re100_data_more1\"\n",
    "\n",
    "    uvel=pd.read_csv(path+r\"/u_vel.csv\")\n",
    "    uvel=uvel.to_numpy()\n",
    "    \n",
    "    vvel=pd.read_csv(path+r\"/v_vel.csv\")\n",
    "    vvel=vvel.to_numpy()\n",
    "    \n",
    "    press=pd.read_csv(path+r\"/press.csv\")\n",
    "    press=press.to_numpy()\n",
    "    \n",
    "    xy=pd.read_csv(path+r\"/xy.csv\")\n",
    "    xy=xy.to_numpy()\n",
    "    \n",
    "    time=pd.read_csv(path+r\"/time.csv\")\n",
    "    time=time.to_numpy()\n",
    "    time=time-time[0]\n",
    "\n",
    "    N=xy.shape[0]\n",
    "    TT = np.tile(time, (1,N)).T # N x T\n",
    "    \n",
    "    # stores the data for each time step as a list\n",
    "    data_list=[]\n",
    "    \n",
    "    for i in range(TT.shape[1]):\n",
    "        if i<N:\n",
    "            t=TT[:,i:i+1]\n",
    "            u=uvel[:,i:i+1]\n",
    "            v=vvel[:,i:i+1]\n",
    "            p=press[:,i:i+1]\n",
    "            a=np.concatenate([xy,t,u,v,p],1)\n",
    "            data_list.append(a)\n",
    "    \n",
    "    return data_list\n",
    "\n",
    "def load_testdata_mts(time_step):\n",
    "    data_list=load_complete_data_mts()\n",
    "    temp=[]\n",
    "    for i in range(len(data_list)):\n",
    "        if (np.unique(data_list[i][:,2]<7)):\n",
    "            temp.append(data_list[i])\n",
    "        else:\n",
    "            break\n",
    "    ts=int(time_step*100)\n",
    "    data=temp[ts]\n",
    "    \n",
    "    x_star=data[:,0].reshape(data[:,0].shape[0],1)\n",
    "    y_star=data[:,1].reshape(data[:,1].shape[0],1)\n",
    "    t_star=data[:,2].reshape(data[:,2].shape[0],1)\n",
    "\n",
    "    X_star=[x_star,y_star,t_star]\n",
    "\n",
    "    u_star=data[:,3].reshape(data[:,3].shape[0],1)\n",
    "    v_star=data[:,4].reshape(data[:,4].shape[0],1)\n",
    "    p_star=data[:,5].reshape(data[:,5].shape[0],1)\n",
    "\n",
    "    Y_star=[u_star,v_star,p_star]\n",
    "        \n",
    "\n",
    "    return X_star,Y_star\n",
    "\n",
    "\n",
    "# This is the code snippet to randomly select intermediate timesteps for which the models have not been trained upon\n",
    "# both the data driven model and the bc-pinn model\n",
    "from tqdm import tqdm\n",
    "e=[round(i,2) for i in np.arange(0,7,0.01)]\n",
    "r=[round(i,2) for i in np.arange(0,7,0.01)]\n",
    "f=[] # this is the list where the index of the required timesteps is stored.\n",
    "\n",
    "for i in np.arange(0,7,0.1):\n",
    "    e.pop(e.index(round(i,2)))\n",
    "for i in range(len(e)):\n",
    "    f.append(r.index(e[i]))\n",
    "\n",
    "fg=[round((0.01*i),2) for i in f]\n",
    "\n",
    "\n",
    "def save_test_error_data(file_name,eu):\n",
    "    root_path=Path(r\"E:\\Vamsi_oe20s302\\Vamsi\\seq2seq learning\\RE100_mts_results\\Noisy_data\\test_errors\")\n",
    "    my_path=root_path/file_name\n",
    "\n",
    "    with open(my_path,'wb') as f:\n",
    "        pickle.dump(eu,f)\n",
    "        print(\"Errors are saved in pickle file\")\n",
    "def load_test_error_data(file_name):\n",
    "    root_path=Path(r\"E:\\Vamsi_oe20s302\\Vamsi\\seq2seq learning\\RE100_mts_results\\Noisy_data\\test_errors\")\n",
    "    my_path=root_path/file_name\n",
    "\n",
    "    # returns the weights and biases of the network as np array\n",
    "    with open(my_path,'rb') as f:\n",
    "        eu_load=pickle.load(f)\n",
    "    return eu_load\n"
   ]
  },
  {
   "cell_type": "code",
   "execution_count": 22,
   "id": "f6cc85c6",
   "metadata": {},
   "outputs": [
    {
     "name": "stderr",
     "output_type": "stream",
     "text": [
      "100%|██████████████████████████████████████████████████████████████████████████████| 630/630 [1:22:52<00:00,  7.89s/it]\n"
     ]
    }
   ],
   "source": [
    "# This is for bcpinn-model\n",
    "\n",
    "unseen_errors_bc_pinn=[]\n",
    "\n",
    "for i in tqdm(fg):\n",
    "    xstar,ystar=load_testdata_mts(i)\n",
    "    x=xstar[0]\n",
    "    y=xstar[1]\n",
    "    t=xstar[2]\n",
    "    u_pred,v_pred,_=bc_pinn_model.predict(x,y,t)\n",
    "\n",
    "    error_u = np.linalg.norm(ystar[0] - u_pred, 2) / np.linalg.norm(ystar[0], 2)\n",
    "    unseen_errors_bc_pinn.append(error_u)"
   ]
  },
  {
   "cell_type": "code",
   "execution_count": 23,
   "id": "b3857cbc",
   "metadata": {},
   "outputs": [
    {
     "name": "stdout",
     "output_type": "stream",
     "text": [
      "Errors are saved in pickle file\n"
     ]
    }
   ],
   "source": [
    "save_test_error_data('surrogate_1b1i1d',unseen_errors_bc_pinn)"
   ]
  }
 ],
 "metadata": {
  "kernelspec": {
   "display_name": "Python 3 (ipykernel)",
   "language": "python",
   "name": "python3"
  },
  "language_info": {
   "codemirror_mode": {
    "name": "ipython",
    "version": 3
   },
   "file_extension": ".py",
   "mimetype": "text/x-python",
   "name": "python",
   "nbconvert_exporter": "python",
   "pygments_lexer": "ipython3",
   "version": "3.7.0"
  }
 },
 "nbformat": 4,
 "nbformat_minor": 5
}
